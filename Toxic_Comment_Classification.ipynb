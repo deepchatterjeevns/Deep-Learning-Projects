{
  "nbformat": 4,
  "nbformat_minor": 0,
  "metadata": {
    "colab": {
      "name": "Toxic Comment Classification.ipynb",
      "version": "0.3.2",
      "provenance": [],
      "include_colab_link": true
    },
    "kernelspec": {
      "name": "python3",
      "display_name": "Python 3"
    },
    "accelerator": "GPU"
  },
  "cells": [
    {
      "cell_type": "markdown",
      "metadata": {
        "id": "view-in-github",
        "colab_type": "text"
      },
      "source": [
        "<a href=\"https://colab.research.google.com/github/pranaya-mathur/Deep-Leaning/blob/master/Toxic_Comment_Classification.ipynb\" target=\"_parent\"><img src=\"https://colab.research.google.com/assets/colab-badge.svg\" alt=\"Open In Colab\"/></a>"
      ]
    },
    {
      "metadata": {
        "id": "04_mFT8e6GdQ",
        "colab_type": "code",
        "colab": {
          "resources": {
            "http://localhost:8080/nbextensions/google.colab/files.js": {
              "data": "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",
              "ok": true,
              "headers": [
                [
                  "content-type",
                  "application/javascript"
                ]
              ],
              "status": 200,
              "status_text": ""
            }
          },
          "base_uri": "https://localhost:8080/",
          "height": 89
        },
        "outputId": "d9f3c16d-9760-4129-9322-9a9ff8352d56"
      },
      "cell_type": "code",
      "source": [
        "from google.colab import files\n",
        "files.upload()"
      ],
      "execution_count": 2,
      "outputs": [
        {
          "output_type": "display_data",
          "data": {
            "text/html": [
              "\n",
              "     <input type=\"file\" id=\"files-16a4882f-6bc0-4745-9ad9-b1adea00f809\" name=\"files[]\" multiple disabled />\n",
              "     <output id=\"result-16a4882f-6bc0-4745-9ad9-b1adea00f809\">\n",
              "      Upload widget is only available when the cell has been executed in the\n",
              "      current browser session. Please rerun this cell to enable.\n",
              "      </output>\n",
              "      <script src=\"/nbextensions/google.colab/files.js\"></script> "
            ],
            "text/plain": [
              "<IPython.core.display.HTML object>"
            ]
          },
          "metadata": {
            "tags": []
          }
        },
        {
          "output_type": "stream",
          "text": [
            "Saving kaggle.json to kaggle.json\n"
          ],
          "name": "stdout"
        },
        {
          "output_type": "execute_result",
          "data": {
            "text/plain": [
              "{'kaggle.json': b'{\"username\":\"chinki86\",\"key\":\"2b37558d5b359235a655730a30d3156b\"}'}"
            ]
          },
          "metadata": {
            "tags": []
          },
          "execution_count": 2
        }
      ]
    },
    {
      "metadata": {
        "id": "ZXrYDCth60DF",
        "colab_type": "code",
        "colab": {
          "base_uri": "https://localhost:8080/",
          "height": 442
        },
        "outputId": "7c65808f-6185-493b-e3cf-002f93985082"
      },
      "cell_type": "code",
      "source": [
        "!ls -lha kaggle.json\n",
        "!mkdir -p ~/.kaggle\n",
        "!cp kaggle.json ~/.kaggle/\n",
        "\n",
        "!pip install kaggle\n",
        "\n",
        "!kaggle competitions download -c jigsaw-toxic-comment-classification-challenge\n",
        "\n"
      ],
      "execution_count": 4,
      "outputs": [
        {
          "output_type": "stream",
          "text": [
            "-rw-r--r-- 1 root root 64 Dec 26 14:29 kaggle.json\n",
            "Requirement already satisfied: kaggle in /usr/local/lib/python3.6/dist-packages (1.5.1.1)\n",
            "Requirement already satisfied: urllib3<1.23.0,>=1.15 in /usr/local/lib/python3.6/dist-packages (from kaggle) (1.22)\n",
            "Requirement already satisfied: six>=1.10 in /usr/local/lib/python3.6/dist-packages (from kaggle) (1.11.0)\n",
            "Requirement already satisfied: certifi in /usr/local/lib/python3.6/dist-packages (from kaggle) (2018.11.29)\n",
            "Requirement already satisfied: python-dateutil in /usr/local/lib/python3.6/dist-packages (from kaggle) (2.5.3)\n",
            "Requirement already satisfied: requests in /usr/local/lib/python3.6/dist-packages (from kaggle) (2.18.4)\n",
            "Requirement already satisfied: tqdm in /usr/local/lib/python3.6/dist-packages (from kaggle) (4.28.1)\n",
            "Requirement already satisfied: python-slugify in /usr/local/lib/python3.6/dist-packages (from kaggle) (1.2.6)\n",
            "Requirement already satisfied: idna<2.7,>=2.5 in /usr/local/lib/python3.6/dist-packages (from requests->kaggle) (2.6)\n",
            "Requirement already satisfied: chardet<3.1.0,>=3.0.2 in /usr/local/lib/python3.6/dist-packages (from requests->kaggle) (3.0.4)\n",
            "Requirement already satisfied: Unidecode>=0.04.16 in /usr/local/lib/python3.6/dist-packages (from python-slugify->kaggle) (1.0.23)\n",
            "Warning: Your Kaggle API key is readable by other users on this system! To fix this, you can run 'chmod 600 /root/.kaggle/kaggle.json'\n",
            "Downloading sample_submission.csv.zip to /content\n",
            "  0% 0.00/1.39M [00:00<?, ?B/s]\n",
            "100% 1.39M/1.39M [00:00<00:00, 45.0MB/s]\n",
            "Downloading test.csv.zip to /content\n",
            " 38% 9.00M/23.4M [00:00<00:00, 81.6MB/s]\n",
            "100% 23.4M/23.4M [00:00<00:00, 115MB/s] \n",
            "Downloading train.csv.zip to /content\n",
            " 87% 23.0M/26.3M [00:00<00:00, 66.0MB/s]\n",
            "100% 26.3M/26.3M [00:00<00:00, 104MB/s] \n",
            "Downloading test_labels.csv.zip to /content\n",
            "  0% 0.00/1.46M [00:00<?, ?B/s]\n",
            "100% 1.46M/1.46M [00:00<00:00, 97.3MB/s]\n"
          ],
          "name": "stdout"
        }
      ]
    },
    {
      "metadata": {
        "id": "eDjWwIht8V5e",
        "colab_type": "code",
        "colab": {}
      },
      "cell_type": "code",
      "source": [
        "import zipfile\n",
        "zip_ref = zipfile.ZipFile(\"glove.6B.zip\", 'r')\n",
        "zip_ref.extractall(\"glove\")\n",
        "zip_ref.close()"
      ],
      "execution_count": 0,
      "outputs": []
    },
    {
      "metadata": {
        "id": "E5S6n0b783lk",
        "colab_type": "code",
        "colab": {}
      },
      "cell_type": "code",
      "source": [
        "import pandas as pd\n",
        "import numpy as np"
      ],
      "execution_count": 0,
      "outputs": []
    },
    {
      "metadata": {
        "id": "KafSCWOj9Nhe",
        "colab_type": "code",
        "colab": {}
      },
      "cell_type": "code",
      "source": [
        "import os\n",
        "import sys\n",
        "import matplotlib.pyplot as plt\n",
        "from keras.preprocessing.text import Tokenizer\n",
        "from keras.preprocessing.sequence import pad_sequences\n",
        "from keras.layers import Dense, Input, GlobalAveragePooling1D, Conv1D, MaxPooling1D, Embedding\n",
        "from keras.models import Model\n",
        "from sklearn.metrics import roc_auc_score"
      ],
      "execution_count": 0,
      "outputs": []
    },
    {
      "metadata": {
        "id": "4hQwyq3TJEcJ",
        "colab_type": "code",
        "colab": {
          "base_uri": "https://localhost:8080/",
          "height": 204
        },
        "outputId": "37c2df8d-f3e6-448f-de94-4d06e4419bbb"
      },
      "cell_type": "code",
      "source": [
        "! wget https://nlp.stanford.edu/data/glove.6B.zip"
      ],
      "execution_count": 11,
      "outputs": [
        {
          "output_type": "stream",
          "text": [
            "--2018-12-26 15:33:22--  https://nlp.stanford.edu/data/glove.6B.zip\n",
            "Resolving nlp.stanford.edu (nlp.stanford.edu)... 171.64.67.140\n",
            "Connecting to nlp.stanford.edu (nlp.stanford.edu)|171.64.67.140|:443... connected.\n",
            "HTTP request sent, awaiting response... 200 OK\n",
            "Length: 862182613 (822M) [application/zip]\n",
            "Saving to: ‘glove.6B.zip’\n",
            "\n",
            "glove.6B.zip        100%[===================>] 822.24M  87.7MB/s    in 9.8s    \n",
            "\n",
            "2018-12-26 15:33:32 (84.2 MB/s) - ‘glove.6B.zip’ saved [862182613/862182613]\n",
            "\n"
          ],
          "name": "stdout"
        }
      ]
    },
    {
      "metadata": {
        "id": "sYlZsmvNJhP-",
        "colab_type": "code",
        "colab": {}
      },
      "cell_type": "code",
      "source": [
        "MAX_SEQUENCE_LENGTH = 100\n",
        "MAX_VOCAB_SIZE = 20000\n",
        "EMBEDDING_DIM = 100\n",
        "VALIDATION_SPLIT = 0.2\n",
        "BATCH_SIZE = 128\n",
        "EPOCHS = 10"
      ],
      "execution_count": 0,
      "outputs": []
    },
    {
      "metadata": {
        "id": "02ao_grLPvvh",
        "colab_type": "code",
        "colab": {
          "base_uri": "https://localhost:8080/",
          "height": 34
        },
        "outputId": "d24d73ea-a24c-4a12-81a0-b100c25aac90"
      },
      "cell_type": "code",
      "source": [
        "word2vec = {}\n",
        "with open(\"glove/glove.6B.100d.txt\") as f:\n",
        "  \n",
        "  for line in f:\n",
        "    \n",
        "    values = line.split()\n",
        "    word = values[0]\n",
        "    \n",
        "    vec = np.asarray(values[1:],dtype=\"float32\")\n",
        "    word2vec[word] = vec\n",
        "    \n",
        "print(\"Found %s word vectors.\" % len(word2vec))\n",
        "  "
      ],
      "execution_count": 15,
      "outputs": [
        {
          "output_type": "stream",
          "text": [
            "Found 400000 word vectors.\n"
          ],
          "name": "stdout"
        }
      ]
    },
    {
      "metadata": {
        "id": "5u63MFMaXOWi",
        "colab_type": "code",
        "colab": {
          "base_uri": "https://localhost:8080/",
          "height": 34
        },
        "outputId": "33cec672-55fe-4dd6-ec88-09d5da20b460"
      },
      "cell_type": "code",
      "source": [
        "word2vec[\"the\"].shape"
      ],
      "execution_count": 18,
      "outputs": [
        {
          "output_type": "execute_result",
          "data": {
            "text/plain": [
              "(100,)"
            ]
          },
          "metadata": {
            "tags": []
          },
          "execution_count": 18
        }
      ]
    },
    {
      "metadata": {
        "id": "0AAQ18jsZklg",
        "colab_type": "code",
        "colab": {
          "base_uri": "https://localhost:8080/",
          "height": 204
        },
        "outputId": "1914d530-84d3-401e-8039-d0906af63c08"
      },
      "cell_type": "code",
      "source": [
        "train = pd.read_csv(\"Train/train.csv\")\n",
        "train.head()"
      ],
      "execution_count": 19,
      "outputs": [
        {
          "output_type": "execute_result",
          "data": {
            "text/html": [
              "<div>\n",
              "<style scoped>\n",
              "    .dataframe tbody tr th:only-of-type {\n",
              "        vertical-align: middle;\n",
              "    }\n",
              "\n",
              "    .dataframe tbody tr th {\n",
              "        vertical-align: top;\n",
              "    }\n",
              "\n",
              "    .dataframe thead th {\n",
              "        text-align: right;\n",
              "    }\n",
              "</style>\n",
              "<table border=\"1\" class=\"dataframe\">\n",
              "  <thead>\n",
              "    <tr style=\"text-align: right;\">\n",
              "      <th></th>\n",
              "      <th>id</th>\n",
              "      <th>comment_text</th>\n",
              "      <th>toxic</th>\n",
              "      <th>severe_toxic</th>\n",
              "      <th>obscene</th>\n",
              "      <th>threat</th>\n",
              "      <th>insult</th>\n",
              "      <th>identity_hate</th>\n",
              "    </tr>\n",
              "  </thead>\n",
              "  <tbody>\n",
              "    <tr>\n",
              "      <th>0</th>\n",
              "      <td>0000997932d777bf</td>\n",
              "      <td>Explanation\\nWhy the edits made under my usern...</td>\n",
              "      <td>0</td>\n",
              "      <td>0</td>\n",
              "      <td>0</td>\n",
              "      <td>0</td>\n",
              "      <td>0</td>\n",
              "      <td>0</td>\n",
              "    </tr>\n",
              "    <tr>\n",
              "      <th>1</th>\n",
              "      <td>000103f0d9cfb60f</td>\n",
              "      <td>D'aww! He matches this background colour I'm s...</td>\n",
              "      <td>0</td>\n",
              "      <td>0</td>\n",
              "      <td>0</td>\n",
              "      <td>0</td>\n",
              "      <td>0</td>\n",
              "      <td>0</td>\n",
              "    </tr>\n",
              "    <tr>\n",
              "      <th>2</th>\n",
              "      <td>000113f07ec002fd</td>\n",
              "      <td>Hey man, I'm really not trying to edit war. It...</td>\n",
              "      <td>0</td>\n",
              "      <td>0</td>\n",
              "      <td>0</td>\n",
              "      <td>0</td>\n",
              "      <td>0</td>\n",
              "      <td>0</td>\n",
              "    </tr>\n",
              "    <tr>\n",
              "      <th>3</th>\n",
              "      <td>0001b41b1c6bb37e</td>\n",
              "      <td>\"\\nMore\\nI can't make any real suggestions on ...</td>\n",
              "      <td>0</td>\n",
              "      <td>0</td>\n",
              "      <td>0</td>\n",
              "      <td>0</td>\n",
              "      <td>0</td>\n",
              "      <td>0</td>\n",
              "    </tr>\n",
              "    <tr>\n",
              "      <th>4</th>\n",
              "      <td>0001d958c54c6e35</td>\n",
              "      <td>You, sir, are my hero. Any chance you remember...</td>\n",
              "      <td>0</td>\n",
              "      <td>0</td>\n",
              "      <td>0</td>\n",
              "      <td>0</td>\n",
              "      <td>0</td>\n",
              "      <td>0</td>\n",
              "    </tr>\n",
              "  </tbody>\n",
              "</table>\n",
              "</div>"
            ],
            "text/plain": [
              "                 id                                       comment_text  toxic  \\\n",
              "0  0000997932d777bf  Explanation\\nWhy the edits made under my usern...      0   \n",
              "1  000103f0d9cfb60f  D'aww! He matches this background colour I'm s...      0   \n",
              "2  000113f07ec002fd  Hey man, I'm really not trying to edit war. It...      0   \n",
              "3  0001b41b1c6bb37e  \"\\nMore\\nI can't make any real suggestions on ...      0   \n",
              "4  0001d958c54c6e35  You, sir, are my hero. Any chance you remember...      0   \n",
              "\n",
              "   severe_toxic  obscene  threat  insult  identity_hate  \n",
              "0             0        0       0       0              0  \n",
              "1             0        0       0       0              0  \n",
              "2             0        0       0       0              0  \n",
              "3             0        0       0       0              0  \n",
              "4             0        0       0       0              0  "
            ]
          },
          "metadata": {
            "tags": []
          },
          "execution_count": 19
        }
      ]
    },
    {
      "metadata": {
        "id": "yLlsjBDvcAMO",
        "colab_type": "code",
        "colab": {
          "base_uri": "https://localhost:8080/",
          "height": 173
        },
        "outputId": "162e01ab-0190-4998-c5fa-7950c9d6391a"
      },
      "cell_type": "code",
      "source": [
        "sentences = train[\"comment_text\"].fillna(\"DUMMY_VALUES\").values\n",
        "sentences"
      ],
      "execution_count": 20,
      "outputs": [
        {
          "output_type": "execute_result",
          "data": {
            "text/plain": [
              "array([\"Explanation\\nWhy the edits made under my username Hardcore Metallica Fan were reverted? They weren't vandalisms, just closure on some GAs after I voted at New York Dolls FAC. And please don't remove the template from the talk page since I'm retired now.89.205.38.27\",\n",
              "       \"D'aww! He matches this background colour I'm seemingly stuck with. Thanks.  (talk) 21:51, January 11, 2016 (UTC)\",\n",
              "       \"Hey man, I'm really not trying to edit war. It's just that this guy is constantly removing relevant information and talking to me through edits instead of my talk page. He seems to care more about the formatting than the actual info.\",\n",
              "       ...,\n",
              "       'Spitzer \\n\\nUmm, theres no actual article for prostitution ring.  - Crunch Captain.',\n",
              "       'And it looks like it was actually you who put on the speedy to have the first version deleted now that I look at it.',\n",
              "       '\"\\nAnd ... I really don\\'t think you understand.  I came here and my idea was bad right away.  What kind of community goes \"\"you have bad ideas\"\" go away, instead of helping rewrite them.   \"'],\n",
              "      dtype=object)"
            ]
          },
          "metadata": {
            "tags": []
          },
          "execution_count": 20
        }
      ]
    },
    {
      "metadata": {
        "id": "3_fTvxpicMYt",
        "colab_type": "code",
        "colab": {
          "base_uri": "https://localhost:8080/",
          "height": 34
        },
        "outputId": "257ef2fd-2ddc-4a24-9623-7d64263fb267"
      },
      "cell_type": "code",
      "source": [
        "sentences.shape"
      ],
      "execution_count": 21,
      "outputs": [
        {
          "output_type": "execute_result",
          "data": {
            "text/plain": [
              "(159571,)"
            ]
          },
          "metadata": {
            "tags": []
          },
          "execution_count": 21
        }
      ]
    },
    {
      "metadata": {
        "id": "AuH8HypucQE3",
        "colab_type": "code",
        "colab": {}
      },
      "cell_type": "code",
      "source": [
        "possible_labels = [\"toxic\",\"severe_toxic\",\"obscene\",\"threat\",\"insult\",\"identity_hate\"]"
      ],
      "execution_count": 0,
      "outputs": []
    },
    {
      "metadata": {
        "id": "u7ac9LAScmSy",
        "colab_type": "code",
        "colab": {}
      },
      "cell_type": "code",
      "source": [
        "targets = train[possible_labels].values"
      ],
      "execution_count": 0,
      "outputs": []
    },
    {
      "metadata": {
        "id": "EkAtq20EcraC",
        "colab_type": "code",
        "colab": {
          "base_uri": "https://localhost:8080/",
          "height": 51
        },
        "outputId": "a12b80b1-1112-4d51-d3cd-2af8f2b195ff"
      },
      "cell_type": "code",
      "source": [
        "print(\"max sequence length:\", max(len(s) for s in sentences))\n",
        "print(\"min sequence length:\", min(len(s) for s in sentences))"
      ],
      "execution_count": 24,
      "outputs": [
        {
          "output_type": "stream",
          "text": [
            "max sequence length: 5000\n",
            "min sequence length: 6\n"
          ],
          "name": "stdout"
        }
      ]
    },
    {
      "metadata": {
        "id": "aLWiZ1Mkc_KB",
        "colab_type": "code",
        "colab": {}
      },
      "cell_type": "code",
      "source": [
        "s = sorted(len(s) for s in sentences)"
      ],
      "execution_count": 0,
      "outputs": []
    },
    {
      "metadata": {
        "id": "-xcIPk1-dIvk",
        "colab_type": "code",
        "colab": {}
      },
      "cell_type": "code",
      "source": [
        "tokenizer = Tokenizer(num_words = MAX_VOCAB_SIZE)"
      ],
      "execution_count": 0,
      "outputs": []
    },
    {
      "metadata": {
        "id": "A7LkUa7edSLX",
        "colab_type": "code",
        "colab": {}
      },
      "cell_type": "code",
      "source": [
        "tokenizer.fit_on_texts(sentences)\n",
        "sequences = tokenizer.texts_to_sequences(sentences)"
      ],
      "execution_count": 0,
      "outputs": []
    },
    {
      "metadata": {
        "id": "qKVpcjQ4daNu",
        "colab_type": "code",
        "colab": {}
      },
      "cell_type": "code",
      "source": [
        "# get word -> integer mapping\n",
        "word2idx = tokenizer.word_index"
      ],
      "execution_count": 0,
      "outputs": []
    },
    {
      "metadata": {
        "id": "9gX-Rd1Fdj4G",
        "colab_type": "code",
        "colab": {
          "base_uri": "https://localhost:8080/",
          "height": 17034
        },
        "outputId": "f4459f29-8d4f-42d9-f4c6-b6af0f8098ab"
      },
      "cell_type": "code",
      "source": [
        "word2idx"
      ],
      "execution_count": 34,
      "outputs": [
        {
          "output_type": "execute_result",
          "data": {
            "text/plain": [
              "{'the': 1,\n",
              " 'to': 2,\n",
              " 'of': 3,\n",
              " 'and': 4,\n",
              " 'a': 5,\n",
              " 'you': 6,\n",
              " 'i': 7,\n",
              " 'is': 8,\n",
              " 'that': 9,\n",
              " 'in': 10,\n",
              " 'it': 11,\n",
              " 'for': 12,\n",
              " 'this': 13,\n",
              " 'not': 14,\n",
              " 'on': 15,\n",
              " 'be': 16,\n",
              " 'as': 17,\n",
              " 'have': 18,\n",
              " 'are': 19,\n",
              " 'your': 20,\n",
              " 'with': 21,\n",
              " 'if': 22,\n",
              " 'article': 23,\n",
              " 'was': 24,\n",
              " 'or': 25,\n",
              " 'but': 26,\n",
              " 'page': 27,\n",
              " 'wikipedia': 28,\n",
              " 'my': 29,\n",
              " 'an': 30,\n",
              " 'from': 31,\n",
              " 'by': 32,\n",
              " 'do': 33,\n",
              " 'at': 34,\n",
              " 'me': 35,\n",
              " 'about': 36,\n",
              " 'so': 37,\n",
              " 'talk': 38,\n",
              " 'what': 39,\n",
              " 'can': 40,\n",
              " 'there': 41,\n",
              " 'all': 42,\n",
              " 'has': 43,\n",
              " 'will': 44,\n",
              " 'please': 45,\n",
              " 'no': 46,\n",
              " 'would': 47,\n",
              " 'one': 48,\n",
              " 'like': 49,\n",
              " 'just': 50,\n",
              " 'they': 51,\n",
              " 'he': 52,\n",
              " 'which': 53,\n",
              " 'any': 54,\n",
              " 'been': 55,\n",
              " 'should': 56,\n",
              " 'more': 57,\n",
              " 'we': 58,\n",
              " \"don't\": 59,\n",
              " 'some': 60,\n",
              " 'other': 61,\n",
              " 'who': 62,\n",
              " 'here': 63,\n",
              " 'see': 64,\n",
              " 'also': 65,\n",
              " 'his': 66,\n",
              " 'think': 67,\n",
              " 'because': 68,\n",
              " 'know': 69,\n",
              " 'how': 70,\n",
              " 'edit': 71,\n",
              " 'am': 72,\n",
              " \"i'm\": 73,\n",
              " 'people': 74,\n",
              " 'why': 75,\n",
              " 'up': 76,\n",
              " 'only': 77,\n",
              " \"it's\": 78,\n",
              " 'out': 79,\n",
              " 'articles': 80,\n",
              " 'use': 81,\n",
              " 'when': 82,\n",
              " 'then': 83,\n",
              " 'time': 84,\n",
              " 'may': 85,\n",
              " 'were': 86,\n",
              " 'did': 87,\n",
              " 'them': 88,\n",
              " 'now': 89,\n",
              " 'being': 90,\n",
              " 'user': 91,\n",
              " 'their': 92,\n",
              " 'than': 93,\n",
              " 'thanks': 94,\n",
              " 'even': 95,\n",
              " 'get': 96,\n",
              " 'make': 97,\n",
              " 'good': 98,\n",
              " 'had': 99,\n",
              " 'well': 100,\n",
              " 'very': 101,\n",
              " 'information': 102,\n",
              " 'does': 103,\n",
              " 'could': 104,\n",
              " 'want': 105,\n",
              " 'deletion': 106,\n",
              " 'its': 107,\n",
              " 'such': 108,\n",
              " 'sources': 109,\n",
              " 'way': 110,\n",
              " 'name': 111,\n",
              " 'these': 112,\n",
              " 'first': 113,\n",
              " 'wp': 114,\n",
              " 'help': 115,\n",
              " 'pages': 116,\n",
              " 'new': 117,\n",
              " 'image': 118,\n",
              " 'source': 119,\n",
              " 'editing': 120,\n",
              " 'go': 121,\n",
              " 'need': 122,\n",
              " 'section': 123,\n",
              " 'say': 124,\n",
              " 'again': 125,\n",
              " 'edits': 126,\n",
              " 'thank': 127,\n",
              " 'where': 128,\n",
              " 'fuck': 129,\n",
              " 'made': 130,\n",
              " 'many': 131,\n",
              " 'much': 132,\n",
              " 'used': 133,\n",
              " 'really': 134,\n",
              " 'most': 135,\n",
              " 'deleted': 136,\n",
              " 'discussion': 137,\n",
              " 'same': 138,\n",
              " 'find': 139,\n",
              " 'into': 140,\n",
              " 'work': 141,\n",
              " 'those': 142,\n",
              " 'since': 143,\n",
              " \"i've\": 144,\n",
              " 'right': 145,\n",
              " 'point': 146,\n",
              " 'before': 147,\n",
              " 'after': 148,\n",
              " 'add': 149,\n",
              " 'read': 150,\n",
              " 'look': 151,\n",
              " 'over': 152,\n",
              " 'him': 153,\n",
              " 'take': 154,\n",
              " 'two': 155,\n",
              " 'still': 156,\n",
              " 'back': 157,\n",
              " 'wiki': 158,\n",
              " 'someone': 159,\n",
              " 'fact': 160,\n",
              " 'hi': 161,\n",
              " 'too': 162,\n",
              " 'list': 163,\n",
              " 'link': 164,\n",
              " 'own': 165,\n",
              " 'said': 166,\n",
              " 'something': 167,\n",
              " 'going': 168,\n",
              " 'blocked': 169,\n",
              " '1': 170,\n",
              " '2': 171,\n",
              " 'stop': 172,\n",
              " \"you're\": 173,\n",
              " 'content': 174,\n",
              " 'without': 175,\n",
              " 'block': 176,\n",
              " 'under': 177,\n",
              " 'history': 178,\n",
              " 'http': 179,\n",
              " 'our': 180,\n",
              " 'added': 181,\n",
              " 'utc': 182,\n",
              " 'editors': 183,\n",
              " 'another': 184,\n",
              " 'removed': 185,\n",
              " 'her': 186,\n",
              " 'might': 187,\n",
              " 'welcome': 188,\n",
              " 'note': 189,\n",
              " 'however': 190,\n",
              " 'free': 191,\n",
              " 'place': 192,\n",
              " 'sure': 193,\n",
              " 'case': 194,\n",
              " 'never': 195,\n",
              " \"doesn't\": 196,\n",
              " 'done': 197,\n",
              " 'us': 198,\n",
              " 'vandalism': 199,\n",
              " 'reason': 200,\n",
              " 'put': 201,\n",
              " 'comment': 202,\n",
              " 'personal': 203,\n",
              " 'better': 204,\n",
              " \"that's\": 205,\n",
              " 'yourself': 206,\n",
              " 'using': 207,\n",
              " 'seems': 208,\n",
              " 'ask': 209,\n",
              " 'actually': 210,\n",
              " 'question': 211,\n",
              " 'off': 212,\n",
              " 'while': 213,\n",
              " 'feel': 214,\n",
              " 'anything': 215,\n",
              " 'believe': 216,\n",
              " 'links': 217,\n",
              " 'person': 218,\n",
              " 'things': 219,\n",
              " 'both': 220,\n",
              " 'she': 221,\n",
              " 'best': 222,\n",
              " 'comments': 223,\n",
              " 'policy': 224,\n",
              " 'part': 225,\n",
              " 'hope': 226,\n",
              " 'against': 227,\n",
              " \"can't\": 228,\n",
              " 'already': 229,\n",
              " 'keep': 230,\n",
              " 'thing': 231,\n",
              " '3': 232,\n",
              " 'u': 233,\n",
              " \"didn't\": 234,\n",
              " 'questions': 235,\n",
              " \"i'll\": 236,\n",
              " 'com': 237,\n",
              " 'nothing': 238,\n",
              " 'change': 239,\n",
              " 'wrong': 240,\n",
              " 'though': 241,\n",
              " 'subject': 242,\n",
              " 'problem': 243,\n",
              " 'remove': 244,\n",
              " 'little': 245,\n",
              " 'copyright': 246,\n",
              " 'tag': 247,\n",
              " '•': 248,\n",
              " 'trying': 249,\n",
              " 'long': 250,\n",
              " 'must': 251,\n",
              " 'understand': 252,\n",
              " 'above': 253,\n",
              " 'speedy': 254,\n",
              " 'anyone': 255,\n",
              " 'few': 256,\n",
              " 'world': 257,\n",
              " 'issue': 258,\n",
              " 'last': 259,\n",
              " 'others': 260,\n",
              " 'give': 261,\n",
              " 'editor': 262,\n",
              " 'sorry': 263,\n",
              " 'agree': 264,\n",
              " 'reliable': 265,\n",
              " 'rather': 266,\n",
              " 'let': 267,\n",
              " 'years': 268,\n",
              " 'fair': 269,\n",
              " 'english': 270,\n",
              " 'different': 271,\n",
              " 'making': 272,\n",
              " 'reference': 273,\n",
              " 'come': 274,\n",
              " 'style': 275,\n",
              " 'text': 276,\n",
              " 'references': 277,\n",
              " 'mean': 278,\n",
              " 'try': 279,\n",
              " 'non': 280,\n",
              " 'continue': 281,\n",
              " 'doing': 282,\n",
              " 'great': 283,\n",
              " 'found': 284,\n",
              " 'leave': 285,\n",
              " 'word': 286,\n",
              " 'says': 287,\n",
              " 'got': 288,\n",
              " 'state': 289,\n",
              " 'original': 290,\n",
              " \"isn't\": 291,\n",
              " 'probably': 292,\n",
              " 'site': 293,\n",
              " 'adding': 294,\n",
              " 'every': 295,\n",
              " 'check': 296,\n",
              " 'day': 297,\n",
              " 'simply': 298,\n",
              " 'created': 299,\n",
              " 'life': 300,\n",
              " 'top': 301,\n",
              " 'hello': 302,\n",
              " 'show': 303,\n",
              " 'post': 304,\n",
              " 'either': 305,\n",
              " 'consensus': 306,\n",
              " 'ip': 307,\n",
              " 'least': 308,\n",
              " 'delete': 309,\n",
              " 'else': 310,\n",
              " 'e': 311,\n",
              " 'yes': 312,\n",
              " 'view': 313,\n",
              " 'war': 314,\n",
              " 'far': 315,\n",
              " 'notable': 316,\n",
              " 'enough': 317,\n",
              " 'request': 318,\n",
              " 'etc': 319,\n",
              " 'example': 320,\n",
              " 'opinion': 321,\n",
              " 'contributions': 322,\n",
              " 'called': 323,\n",
              " 'around': 324,\n",
              " 'through': 325,\n",
              " 'www': 326,\n",
              " 'between': 327,\n",
              " 'real': 328,\n",
              " 'yet': 329,\n",
              " 'write': 330,\n",
              " 'reverted': 331,\n",
              " 'book': 332,\n",
              " 'shit': 333,\n",
              " 'down': 334,\n",
              " 'matter': 335,\n",
              " 'admin': 336,\n",
              " 're': 337,\n",
              " 'thought': 338,\n",
              " 'given': 339,\n",
              " 'images': 340,\n",
              " 'account': 341,\n",
              " 'material': 342,\n",
              " 'users': 343,\n",
              " 'bad': 344,\n",
              " 'encyclopedia': 345,\n",
              " 'having': 346,\n",
              " 'clearly': 347,\n",
              " 'title': 348,\n",
              " 'message': 349,\n",
              " 'support': 350,\n",
              " 'needs': 351,\n",
              " 'lot': 352,\n",
              " 'old': 353,\n",
              " 'evidence': 354,\n",
              " '—': 355,\n",
              " 'ever': 356,\n",
              " 'maybe': 357,\n",
              " 's': 358,\n",
              " 'tell': 359,\n",
              " 'revert': 360,\n",
              " 'seem': 361,\n",
              " 'language': 362,\n",
              " 'instead': 363,\n",
              " 'correct': 364,\n",
              " 'template': 365,\n",
              " 'org': 366,\n",
              " 'number': 367,\n",
              " 'clear': 368,\n",
              " 'media': 369,\n",
              " 'important': 370,\n",
              " 'saying': 371,\n",
              " 'pov': 372,\n",
              " '5': 373,\n",
              " '4': 374,\n",
              " 'always': 375,\n",
              " 'written': 376,\n",
              " 'true': 377,\n",
              " 'oh': 378,\n",
              " 'term': 379,\n",
              " 'further': 380,\n",
              " 'states': 381,\n",
              " 'hate': 382,\n",
              " 'quite': 383,\n",
              " 'perhaps': 384,\n",
              " 'review': 385,\n",
              " 'until': 386,\n",
              " 'bit': 387,\n",
              " 'whether': 388,\n",
              " \"i'd\": 389,\n",
              " 'research': 390,\n",
              " 'consider': 391,\n",
              " 'claim': 392,\n",
              " 'guidelines': 393,\n",
              " 'fucking': 394,\n",
              " 'version': 395,\n",
              " 'once': 396,\n",
              " 'based': 397,\n",
              " 'criteria': 398,\n",
              " 'times': 399,\n",
              " 'nigger': 400,\n",
              " 'website': 401,\n",
              " 'getting': 402,\n",
              " 'suck': 403,\n",
              " 'mention': 404,\n",
              " 'three': 405,\n",
              " 'several': 406,\n",
              " 'makes': 407,\n",
              " 'considered': 408,\n",
              " 'words': 409,\n",
              " 'c': 410,\n",
              " 'year': 411,\n",
              " 'hey': 412,\n",
              " 'changes': 413,\n",
              " 'idea': 414,\n",
              " \"there's\": 415,\n",
              " 'cannot': 416,\n",
              " 'ass': 417,\n",
              " 'address': 418,\n",
              " 'notice': 419,\n",
              " 'current': 420,\n",
              " 'group': 421,\n",
              " 'left': 422,\n",
              " 'following': 423,\n",
              " 'listed': 424,\n",
              " 'each': 425,\n",
              " 'date': 426,\n",
              " 'second': 427,\n",
              " 'means': 428,\n",
              " 'facts': 429,\n",
              " 'rules': 430,\n",
              " 'general': 431,\n",
              " 'possible': 432,\n",
              " 'main': 433,\n",
              " 'care': 434,\n",
              " 'regarding': 435,\n",
              " 'american': 436,\n",
              " 'man': 437,\n",
              " 'start': 438,\n",
              " '10': 439,\n",
              " 'topic': 440,\n",
              " 'mentioned': 441,\n",
              " 'course': 442,\n",
              " 'attack': 443,\n",
              " 'kind': 444,\n",
              " 'whole': 445,\n",
              " 'statement': 446,\n",
              " 'known': 447,\n",
              " 'end': 448,\n",
              " 'include': 449,\n",
              " 'issues': 450,\n",
              " 'seen': 451,\n",
              " 'create': 452,\n",
              " 'jpg': 453,\n",
              " 'dont': 454,\n",
              " 'en': 455,\n",
              " 'gay': 456,\n",
              " 'less': 457,\n",
              " 'related': 458,\n",
              " 'call': 459,\n",
              " 'ok': 460,\n",
              " 'sense': 461,\n",
              " 'big': 462,\n",
              " 'suggest': 463,\n",
              " 'happy': 464,\n",
              " 'category': 465,\n",
              " 'including': 466,\n",
              " 'notability': 467,\n",
              " 'info': 468,\n",
              " '2005': 469,\n",
              " 'provide': 470,\n",
              " 'redirect': 471,\n",
              " 'days': 472,\n",
              " 'move': 473,\n",
              " 'myself': 474,\n",
              " 'sentence': 475,\n",
              " \"wikipedia's\": 476,\n",
              " 'love': 477,\n",
              " 'four': 478,\n",
              " 'appropriate': 479,\n",
              " 'school': 480,\n",
              " 'news': 481,\n",
              " 'project': 482,\n",
              " 'changed': 483,\n",
              " 'explain': 484,\n",
              " 'started': 485,\n",
              " 'neutral': 486,\n",
              " 'line': 487,\n",
              " 'mind': 488,\n",
              " 'anyway': 489,\n",
              " 'contribs': 490,\n",
              " 'included': 491,\n",
              " 'removing': 492,\n",
              " 'next': 493,\n",
              " 't': 494,\n",
              " 'looking': 495,\n",
              " 'picture': 496,\n",
              " 'specific': 497,\n",
              " 'community': 498,\n",
              " 'although': 499,\n",
              " 'per': 500,\n",
              " 'order': 501,\n",
              " 'relevant': 502,\n",
              " 'sign': 503,\n",
              " 'die': 504,\n",
              " 'answer': 505,\n",
              " 'away': 506,\n",
              " 'interest': 507,\n",
              " 'full': 508,\n",
              " 'warning': 509,\n",
              " 'lol': 510,\n",
              " 'summary': 511,\n",
              " 'recent': 512,\n",
              " 'later': 513,\n",
              " 'file': 514,\n",
              " 'policies': 515,\n",
              " \"you've\": 516,\n",
              " 'faith': 517,\n",
              " 'claims': 518,\n",
              " 'discuss': 519,\n",
              " 'attacks': 520,\n",
              " 'public': 521,\n",
              " '0': 522,\n",
              " 'currently': 523,\n",
              " 'wrote': 524,\n",
              " 'writing': 525,\n",
              " 'especially': 526,\n",
              " 'interested': 527,\n",
              " 'able': 528,\n",
              " 'wish': 529,\n",
              " 'taken': 530,\n",
              " '6': 531,\n",
              " 'names': 532,\n",
              " 'position': 533,\n",
              " 'single': 534,\n",
              " 'within': 535,\n",
              " 'stuff': 536,\n",
              " 'below': 537,\n",
              " '2006': 538,\n",
              " 'during': 539,\n",
              " 'wanted': 540,\n",
              " 'web': 541,\n",
              " 'appears': 542,\n",
              " 'official': 543,\n",
              " '20': 544,\n",
              " 'live': 545,\n",
              " 'certainly': 546,\n",
              " 'nice': 547,\n",
              " 'color': 548,\n",
              " 'self': 549,\n",
              " 'itself': 550,\n",
              " 'country': 551,\n",
              " 'everyone': 552,\n",
              " 'report': 553,\n",
              " 'anti': 554,\n",
              " 'background': 555,\n",
              " 'lead': 556,\n",
              " 'high': 557,\n",
              " 'common': 558,\n",
              " 'god': 559,\n",
              " 'unless': 560,\n",
              " 'according': 561,\n",
              " 'completely': 562,\n",
              " 'hard': 563,\n",
              " 'books': 564,\n",
              " 'pretty': 565,\n",
              " '7': 566,\n",
              " 'everything': 567,\n",
              " 'p': 568,\n",
              " 'published': 569,\n",
              " 'due': 570,\n",
              " '24': 571,\n",
              " 'process': 572,\n",
              " 'edited': 573,\n",
              " 'looks': 574,\n",
              " 'involved': 575,\n",
              " 'fat': 576,\n",
              " 'therefore': 577,\n",
              " \"won't\": 578,\n",
              " 'remember': 579,\n",
              " 'obviously': 580,\n",
              " 'power': 581,\n",
              " 'd': 582,\n",
              " 'future': 583,\n",
              " 'nor': 584,\n",
              " '100': 585,\n",
              " 'truth': 586,\n",
              " 'came': 587,\n",
              " 'sandbox': 588,\n",
              " '11': 589,\n",
              " 'response': 590,\n",
              " 'party': 591,\n",
              " 'reading': 592,\n",
              " 'stay': 593,\n",
              " 'past': 594,\n",
              " 'game': 595,\n",
              " 'learn': 596,\n",
              " 'admins': 597,\n",
              " 'quote': 598,\n",
              " 'asked': 599,\n",
              " \"wasn't\": 600,\n",
              " 'b': 601,\n",
              " 'city': 602,\n",
              " 'entry': 603,\n",
              " 'stupid': 604,\n",
              " \"he's\": 605,\n",
              " 'posted': 606,\n",
              " 'false': 607,\n",
              " 'faggot': 608,\n",
              " 'whatever': 609,\n",
              " 'google': 610,\n",
              " 'talking': 611,\n",
              " 'ago': 612,\n",
              " '8': 613,\n",
              " 'placed': 614,\n",
              " 'political': 615,\n",
              " 'similar': 616,\n",
              " 'today': 617,\n",
              " 'system': 618,\n",
              " 'administrator': 619,\n",
              " 'united': 620,\n",
              " 'argument': 621,\n",
              " 'paragraph': 622,\n",
              " 'working': 623,\n",
              " 'exactly': 624,\n",
              " '2007': 625,\n",
              " 'guy': 626,\n",
              " '12': 627,\n",
              " 'british': 628,\n",
              " 'took': 629,\n",
              " 'useful': 630,\n",
              " 'government': 631,\n",
              " 'search': 632,\n",
              " 'noticed': 633,\n",
              " 'moron': 634,\n",
              " 'regards': 635,\n",
              " 'small': 636,\n",
              " 'reasons': 637,\n",
              " 'side': 638,\n",
              " '2008': 639,\n",
              " 'form': 640,\n",
              " 'national': 641,\n",
              " 'dispute': 642,\n",
              " 'deleting': 643,\n",
              " 'five': 644,\n",
              " 'guess': 645,\n",
              " 'appreciate': 646,\n",
              " 'particular': 647,\n",
              " 'reverting': 648,\n",
              " 'major': 649,\n",
              " 'problems': 650,\n",
              " 'law': 651,\n",
              " '000': 652,\n",
              " '15': 653,\n",
              " 'npov': 654,\n",
              " 'bitch': 655,\n",
              " 'rule': 656,\n",
              " 'banned': 657,\n",
              " 'often': 658,\n",
              " 'provided': 659,\n",
              " 'music': 660,\n",
              " 'become': 661,\n",
              " 'wikiproject': 662,\n",
              " 'needed': 663,\n",
              " 'status': 664,\n",
              " 'reply': 665,\n",
              " 'knowledge': 666,\n",
              " 'tried': 667,\n",
              " 'along': 668,\n",
              " 'almost': 669,\n",
              " 'cheers': 670,\n",
              " 'stated': 671,\n",
              " 'username': 672,\n",
              " 'film': 673,\n",
              " '9': 674,\n",
              " 'taking': 675,\n",
              " 'fine': 676,\n",
              " '–': 677,\n",
              " 'company': 678,\n",
              " 'vandalize': 679,\n",
              " 'present': 680,\n",
              " 'certain': 681,\n",
              " 'white': 682,\n",
              " 'follow': 683,\n",
              " 'sort': 684,\n",
              " 'otherwise': 685,\n",
              " 'terms': 686,\n",
              " 'points': 687,\n",
              " 'explanation': 688,\n",
              " 'uploaded': 689,\n",
              " \"haven't\": 690,\n",
              " 'description': 691,\n",
              " 'generally': 692,\n",
              " 'recently': 693,\n",
              " 'entire': 694,\n",
              " 'open': 695,\n",
              " 'story': 696,\n",
              " 'tags': 697,\n",
              " 'shows': 698,\n",
              " 'alone': 699,\n",
              " 'ban': 700,\n",
              " 'citation': 701,\n",
              " 'short': 702,\n",
              " 'definition': 703,\n",
              " '14': 704,\n",
              " 'cited': 705,\n",
              " 'likely': 706,\n",
              " 'aware': 707,\n",
              " 'g': 708,\n",
              " 'saw': 709,\n",
              " 'class': 710,\n",
              " 'type': 711,\n",
              " 'soon': 712,\n",
              " 'set': 713,\n",
              " 'week': 714,\n",
              " 'indeed': 715,\n",
              " 'band': 716,\n",
              " 'cite': 717,\n",
              " 'decide': 718,\n",
              " 'mr': 719,\n",
              " 'views': 720,\n",
              " '2004': 721,\n",
              " 'appear': 722,\n",
              " 'family': 723,\n",
              " 'simple': 724,\n",
              " 'area': 725,\n",
              " 'guys': 726,\n",
              " 'theory': 727,\n",
              " 'piece': 728,\n",
              " 'contributing': 729,\n",
              " 'contact': 730,\n",
              " 'external': 731,\n",
              " 'result': 732,\n",
              " 'test': 733,\n",
              " 'internet': 734,\n",
              " 'interesting': 735,\n",
              " 'unblock': 736,\n",
              " 'actual': 737,\n",
              " 'improve': 738,\n",
              " 'copy': 739,\n",
              " '16': 740,\n",
              " 'sourced': 741,\n",
              " 'jew': 742,\n",
              " 'told': 743,\n",
              " 'attention': 744,\n",
              " 'proposed': 745,\n",
              " 'obvious': 746,\n",
              " 'moved': 747,\n",
              " 'email': 748,\n",
              " 'uk': 749,\n",
              " 'members': 750,\n",
              " 'various': 751,\n",
              " 'allowed': 752,\n",
              " 'themselves': 753,\n",
              " 'conflict': 754,\n",
              " 'context': 755,\n",
              " \"article's\": 756,\n",
              " 'black': 757,\n",
              " 'university': 758,\n",
              " 'author': 759,\n",
              " 'thus': 760,\n",
              " 'disagree': 761,\n",
              " 'cunt': 762,\n",
              " 'john': 763,\n",
              " 'went': 764,\n",
              " 'citations': 765,\n",
              " 'sites': 766,\n",
              " 'jews': 767,\n",
              " 'actions': 768,\n",
              " 'hand': 769,\n",
              " 'bias': 770,\n",
              " 'previous': 771,\n",
              " 'third': 772,\n",
              " 'hours': 773,\n",
              " 'human': 774,\n",
              " '18': 775,\n",
              " 'works': 776,\n",
              " 'nonsense': 777,\n",
              " 'science': 778,\n",
              " 'ones': 779,\n",
              " 'death': 780,\n",
              " 'action': 781,\n",
              " '17': 782,\n",
              " 'enjoy': 783,\n",
              " \"aren't\": 784,\n",
              " 'job': 785,\n",
              " 'proper': 786,\n",
              " 'longer': 787,\n",
              " 'large': 788,\n",
              " 'together': 789,\n",
              " 'sucks': 790,\n",
              " '\\xa0': 791,\n",
              " '13': 792,\n",
              " 'addition': 793,\n",
              " \"wouldn't\": 794,\n",
              " 'avoid': 795,\n",
              " 'creating': 796,\n",
              " 'happened': 797,\n",
              " '19': 798,\n",
              " 'valid': 799,\n",
              " 'jewish': 800,\n",
              " 'german': 801,\n",
              " 'deal': 802,\n",
              " '21': 803,\n",
              " 'automatically': 804,\n",
              " 'biased': 805,\n",
              " 'proof': 806,\n",
              " 'worked': 807,\n",
              " 'im': 808,\n",
              " 'series': 809,\n",
              " 'dick': 810,\n",
              " 'goes': 811,\n",
              " 'himself': 812,\n",
              " 'seriously': 813,\n",
              " \"what's\": 814,\n",
              " '23': 815,\n",
              " 'level': 816,\n",
              " 'standard': 817,\n",
              " 'f': 818,\n",
              " '2009': 819,\n",
              " 'accepted': 820,\n",
              " 'respect': 821,\n",
              " 'exist': 822,\n",
              " 'available': 823,\n",
              " 'de': 824,\n",
              " 'helpful': 825,\n",
              " 'video': 826,\n",
              " 'comes': 827,\n",
              " '22': 828,\n",
              " 'meaning': 829,\n",
              " \"shouldn't\": 830,\n",
              " 'manual': 831,\n",
              " 'living': 832,\n",
              " 'opinions': 833,\n",
              " 'sex': 834,\n",
              " 'rights': 835,\n",
              " 'act': 836,\n",
              " 'tildes': 837,\n",
              " 'criticism': 838,\n",
              " 'play': 839,\n",
              " '2010': 840,\n",
              " 'necessary': 841,\n",
              " 'calling': 842,\n",
              " 'accept': 843,\n",
              " 'sections': 844,\n",
              " 'indicate': 845,\n",
              " 'personally': 846,\n",
              " 'yeah': 847,\n",
              " '30': 848,\n",
              " 'july': 849,\n",
              " 'hell': 850,\n",
              " 'accurate': 851,\n",
              " 'violation': 852,\n",
              " 'statements': 853,\n",
              " 'pig': 854,\n",
              " 'attempt': 855,\n",
              " 'months': 856,\n",
              " 'assume': 857,\n",
              " 'afd': 858,\n",
              " 'upon': 859,\n",
              " 'historical': 860,\n",
              " 'usually': 861,\n",
              " 'debate': 862,\n",
              " \"let's\": 863,\n",
              " 'pro': 864,\n",
              " 'details': 865,\n",
              " 'multiple': 866,\n",
              " 'blocking': 867,\n",
              " 'south': 868,\n",
              " 'rest': 869,\n",
              " 'tagged': 870,\n",
              " 'width': 871,\n",
              " 'serious': 872,\n",
              " 'doubt': 873,\n",
              " 'record': 874,\n",
              " 'greek': 875,\n",
              " 'm': 876,\n",
              " 'r': 877,\n",
              " \"they're\": 878,\n",
              " 'separate': 879,\n",
              " 'v': 880,\n",
              " 'space': 881,\n",
              " 'situation': 882,\n",
              " 'cause': 883,\n",
              " \"you'll\": 884,\n",
              " 'speak': 885,\n",
              " 'heard': 886,\n",
              " 'explaining': 887,\n",
              " 'okay': 888,\n",
              " 'refer': 889,\n",
              " 'fix': 890,\n",
              " 'run': 891,\n",
              " 'quality': 892,\n",
              " 'data': 893,\n",
              " 'complete': 894,\n",
              " 'penis': 895,\n",
              " 'sock': 896,\n",
              " 'church': 897,\n",
              " 'w': 898,\n",
              " 'messages': 899,\n",
              " 'none': 900,\n",
              " 'india': 901,\n",
              " 'asking': 902,\n",
              " 'august': 903,\n",
              " 'online': 904,\n",
              " 'lack': 905,\n",
              " 'legal': 906,\n",
              " 'period': 907,\n",
              " 'freedom': 908,\n",
              " 'team': 909,\n",
              " 'military': 910,\n",
              " 'rationale': 911,\n",
              " 'behavior': 912,\n",
              " 'prove': 913,\n",
              " 'apparently': 914,\n",
              " 'access': 915,\n",
              " 'special': 916,\n",
              " 'close': 917,\n",
              " 'changing': 918,\n",
              " 'bullshit': 919,\n",
              " 'directly': 920,\n",
              " 'watch': 921,\n",
              " 'culture': 922,\n",
              " 'difference': 923,\n",
              " 'march': 924,\n",
              " 'early': 925,\n",
              " 'box': 926,\n",
              " 'contribute': 927,\n",
              " 'wikipedian': 928,\n",
              " 'existing': 929,\n",
              " 'huge': 930,\n",
              " 'gets': 931,\n",
              " 'html': 932,\n",
              " 'couple': 933,\n",
              " '25': 934,\n",
              " 'among': 935,\n",
              " 'civil': 936,\n",
              " 'warring': 937,\n",
              " 'supposed': 938,\n",
              " 'primary': 939,\n",
              " 'except': 940,\n",
              " 'head': 941,\n",
              " 'countries': 942,\n",
              " 'born': 943,\n",
              " 'meant': 944,\n",
              " 'modern': 945,\n",
              " '50': 946,\n",
              " 'photo': 947,\n",
              " 'described': 948,\n",
              " 'incorrect': 949,\n",
              " 'fish': 950,\n",
              " 'uses': 951,\n",
              " 'disruptive': 952,\n",
              " 'significant': 953,\n",
              " 'field': 954,\n",
              " 'specifically': 955,\n",
              " 'red': 956,\n",
              " 'purpose': 957,\n",
              " 'pillars': 958,\n",
              " 'friend': 959,\n",
              " 'release': 960,\n",
              " 'archive': 961,\n",
              " 'million': 962,\n",
              " 'produce': 963,\n",
              " 'tv': 964,\n",
              " 'error': 965,\n",
              " 'force': 966,\n",
              " 'table': 967,\n",
              " 'earlier': 968,\n",
              " 'business': 969,\n",
              " 'computer': 970,\n",
              " 'june': 971,\n",
              " 'sometimes': 972,\n",
              " 'half': 973,\n",
              " 'cases': 974,\n",
              " 'outside': 975,\n",
              " 'vote': 976,\n",
              " 'x': 977,\n",
              " 'inclusion': 978,\n",
              " 'particularly': 979,\n",
              " 'character': 980,\n",
              " 'pictures': 981,\n",
              " 'gave': 982,\n",
              " 'linked': 983,\n",
              " 'abuse': 984,\n",
              " '27': 985,\n",
              " 'control': 986,\n",
              " 'possibly': 987,\n",
              " 'numbers': 988,\n",
              " 'home': 989,\n",
              " 'anonymous': 990,\n",
              " 'member': 991,\n",
              " 'january': 992,\n",
              " 'christian': 993,\n",
              " 'scientific': 994,\n",
              " 'arguments': 995,\n",
              " 'tutorial': 996,\n",
              " '2012': 997,\n",
              " 'n': 998,\n",
              " 'reported': 999,\n",
              " 'border': 1000,\n",
              " ...}"
            ]
          },
          "metadata": {
            "tags": []
          },
          "execution_count": 34
        }
      ]
    },
    {
      "metadata": {
        "id": "Dm_4nx7meR9j",
        "colab_type": "code",
        "colab": {
          "base_uri": "https://localhost:8080/",
          "height": 34
        },
        "outputId": "6b3872bd-7342-4a71-c79e-445f4da1a6e9"
      },
      "cell_type": "code",
      "source": [
        "len(word2idx)"
      ],
      "execution_count": 35,
      "outputs": [
        {
          "output_type": "execute_result",
          "data": {
            "text/plain": [
              "210337"
            ]
          },
          "metadata": {
            "tags": []
          },
          "execution_count": 35
        }
      ]
    },
    {
      "metadata": {
        "id": "ho1VNbeQek5w",
        "colab_type": "code",
        "colab": {}
      },
      "cell_type": "code",
      "source": [
        "# pad sequences so that we get N x T matrix\n",
        "\n",
        "data = pad_sequences(sequences, maxlen=MAX_SEQUENCE_LENGTH)"
      ],
      "execution_count": 0,
      "outputs": []
    },
    {
      "metadata": {
        "id": "pSUjXzWffIVh",
        "colab_type": "code",
        "colab": {
          "base_uri": "https://localhost:8080/",
          "height": 34
        },
        "outputId": "5c40b24c-859c-44ca-fece-bf65a8792283"
      },
      "cell_type": "code",
      "source": [
        "data.shape"
      ],
      "execution_count": 37,
      "outputs": [
        {
          "output_type": "execute_result",
          "data": {
            "text/plain": [
              "(159571, 100)"
            ]
          },
          "metadata": {
            "tags": []
          },
          "execution_count": 37
        }
      ]
    },
    {
      "metadata": {
        "id": "nWhyuXlafrLf",
        "colab_type": "code",
        "colab": {
          "base_uri": "https://localhost:8080/",
          "height": 136
        },
        "outputId": "e8249ece-d216-4e71-cdd7-2d85cb7d4eb5"
      },
      "cell_type": "code",
      "source": [
        "data"
      ],
      "execution_count": 38,
      "outputs": [
        {
          "output_type": "execute_result",
          "data": {
            "text/plain": [
              "array([[    0,     0,     0, ...,  4583,  2273,   985],\n",
              "       [    0,     0,     0, ...,   589,  8377,   182],\n",
              "       [    0,     0,     0, ...,     1,   737,   468],\n",
              "       ...,\n",
              "       [    0,     0,     0, ...,  3509, 13675,  4528],\n",
              "       [    0,     0,     0, ...,   151,    34,    11],\n",
              "       [    0,     0,     0, ...,  1627,  2056,    88]], dtype=int32)"
            ]
          },
          "metadata": {
            "tags": []
          },
          "execution_count": 38
        }
      ]
    },
    {
      "metadata": {
        "id": "3yWNcScYfs9Z",
        "colab_type": "code",
        "colab": {
          "base_uri": "https://localhost:8080/",
          "height": 34
        },
        "outputId": "ad2a6339-09a9-4a1b-d306-557c811d1400"
      },
      "cell_type": "code",
      "source": [
        "# prepare our embedding matrix\n",
        "\n",
        "num_words = min(MAX_VOCAB_SIZE,len(word2idx)+1)\n",
        "num_words"
      ],
      "execution_count": 39,
      "outputs": [
        {
          "output_type": "execute_result",
          "data": {
            "text/plain": [
              "20000"
            ]
          },
          "metadata": {
            "tags": []
          },
          "execution_count": 39
        }
      ]
    },
    {
      "metadata": {
        "id": "omvRIxIFgIpR",
        "colab_type": "code",
        "colab": {}
      },
      "cell_type": "code",
      "source": [
        "embedding_matrix = np.zeros((num_words,EMBEDDING_DIM))"
      ],
      "execution_count": 0,
      "outputs": []
    },
    {
      "metadata": {
        "id": "GkDhKkOngTlt",
        "colab_type": "code",
        "colab": {}
      },
      "cell_type": "code",
      "source": [
        "for word, i in word2idx.items():\n",
        "  \n",
        "  if i < MAX_VOCAB_SIZE:\n",
        "    \n",
        "    \n",
        "    embedding_vector = word2vec.get(word)\n",
        "    if embedding_vector is not None:\n",
        "      \n",
        "      embedding_matrix[i] = embedding_vector"
      ],
      "execution_count": 0,
      "outputs": []
    },
    {
      "metadata": {
        "id": "ta1chkLeo0-K",
        "colab_type": "code",
        "colab": {
          "base_uri": "https://localhost:8080/",
          "height": 238
        },
        "outputId": "7c371116-b235-41dc-e030-3e3f142c2f4e"
      },
      "cell_type": "code",
      "source": [
        "embedding_matrix"
      ],
      "execution_count": 43,
      "outputs": [
        {
          "output_type": "execute_result",
          "data": {
            "text/plain": [
              "array([[ 0.        ,  0.        ,  0.        , ...,  0.        ,\n",
              "         0.        ,  0.        ],\n",
              "       [-0.038194  , -0.24487001,  0.72812003, ..., -0.1459    ,\n",
              "         0.82779998,  0.27061999],\n",
              "       [-0.18970001,  0.050024  ,  0.19084001, ..., -0.39804   ,\n",
              "         0.47646999, -0.15983   ],\n",
              "       ...,\n",
              "       [-1.04809999, -0.32789999, -0.46593001, ..., -0.065447  ,\n",
              "        -0.13019   ,  0.44433001],\n",
              "       [ 0.089782  , -0.33164999, -0.85716999, ..., -0.15765999,\n",
              "        -0.58174002,  0.036233  ],\n",
              "       [ 0.051446  , -0.43564001,  0.26989001, ...,  0.39087   ,\n",
              "        -0.14459001, -0.72372001]])"
            ]
          },
          "metadata": {
            "tags": []
          },
          "execution_count": 43
        }
      ]
    },
    {
      "metadata": {
        "id": "03r_SMsEo2X1",
        "colab_type": "code",
        "colab": {}
      },
      "cell_type": "code",
      "source": [
        "embedding_layer = Embedding(num_words,EMBEDDING_DIM,\n",
        "                           weights = [embedding_matrix],\n",
        "                           input_length = MAX_SEQUENCE_LENGTH,\n",
        "                           trainable=False)"
      ],
      "execution_count": 0,
      "outputs": []
    },
    {
      "metadata": {
        "id": "U0Ab3QyMqE32",
        "colab_type": "code",
        "colab": {
          "base_uri": "https://localhost:8080/",
          "height": 374
        },
        "outputId": "d3bf2373-f045-40c5-c938-51435d148dbd"
      },
      "cell_type": "code",
      "source": [
        "input_ = Input(shape=(MAX_SEQUENCE_LENGTH,))\n",
        "x = embedding_layer(input_)\n",
        "x = Conv1D(128,3,activation=\"relu\")(x)\n",
        "x = MaxPooling1D(3)(x)\n",
        "x = Conv1D(128,3,activation=\"relu\")(x)\n",
        "x = MaxPooling1D(3)(x)\n",
        "x = Conv1D(128,3,activation=\"relu\")(x)\n",
        "x = GlobalAveragePooling1D()(x)\n",
        "x = Dense(128,activation=\"relu\")(x)\n",
        "\n",
        "output = Dense(len(possible_labels),activation=\"sigmoid\")(x)\n",
        "\n",
        "model = Model(input_,output)\n",
        "\n",
        "model.compile(loss=\"binary_crossentropy\",\n",
        "             optimizer=\"rmsprop\",\n",
        "             metrics=[\"accuracy\"])\n",
        "\n",
        "r = model.fit(data,targets,batch_size=BATCH_SIZE,epochs=EPOCHS,validation_split=VALIDATION_SPLIT)"
      ],
      "execution_count": 47,
      "outputs": [
        {
          "output_type": "stream",
          "text": [
            "Train on 127656 samples, validate on 31915 samples\n",
            "Epoch 1/10\n",
            "127656/127656 [==============================] - 15s 121us/step - loss: 0.0873 - acc: 0.9723 - val_loss: 0.0810 - val_acc: 0.9751\n",
            "Epoch 2/10\n",
            "127656/127656 [==============================] - 12s 90us/step - loss: 0.0682 - acc: 0.9772 - val_loss: 0.0699 - val_acc: 0.9766\n",
            "Epoch 3/10\n",
            "127656/127656 [==============================] - 12s 90us/step - loss: 0.0639 - acc: 0.9783 - val_loss: 0.0738 - val_acc: 0.9767\n",
            "Epoch 4/10\n",
            "127656/127656 [==============================] - 11s 90us/step - loss: 0.0604 - acc: 0.9791 - val_loss: 0.0665 - val_acc: 0.9772\n",
            "Epoch 5/10\n",
            "127656/127656 [==============================] - 11s 90us/step - loss: 0.0576 - acc: 0.9797 - val_loss: 0.0680 - val_acc: 0.9770\n",
            "Epoch 6/10\n",
            "127656/127656 [==============================] - 11s 90us/step - loss: 0.0549 - acc: 0.9804 - val_loss: 0.0688 - val_acc: 0.9780\n",
            "Epoch 7/10\n",
            "127656/127656 [==============================] - 11s 90us/step - loss: 0.0525 - acc: 0.9811 - val_loss: 0.0719 - val_acc: 0.9775\n",
            "Epoch 8/10\n",
            "127656/127656 [==============================] - 11s 90us/step - loss: 0.0504 - acc: 0.9817 - val_loss: 0.0721 - val_acc: 0.9764\n",
            "Epoch 9/10\n",
            "127656/127656 [==============================] - 11s 89us/step - loss: 0.0484 - acc: 0.9823 - val_loss: 0.0730 - val_acc: 0.9776\n",
            "Epoch 10/10\n",
            "127656/127656 [==============================] - 11s 89us/step - loss: 0.0466 - acc: 0.9829 - val_loss: 0.0819 - val_acc: 0.9770\n"
          ],
          "name": "stdout"
        }
      ]
    },
    {
      "metadata": {
        "id": "VKn3yGXGrvQO",
        "colab_type": "code",
        "colab": {}
      },
      "cell_type": "code",
      "source": [
        "p = model.predict(data)"
      ],
      "execution_count": 0,
      "outputs": []
    },
    {
      "metadata": {
        "id": "j9VzgzP9tGad",
        "colab_type": "code",
        "colab": {
          "base_uri": "https://localhost:8080/",
          "height": 34
        },
        "outputId": "e6392428-a553-4741-8c62-d5365af872af"
      },
      "cell_type": "code",
      "source": [
        "aucs = []\n",
        "for j in range(6):\n",
        "  \n",
        "  auc = roc_auc_score(targets[:,j],p[:,j])\n",
        "  aucs.append(auc)\n",
        "  \n",
        "print(np.mean(aucs))"
      ],
      "execution_count": 49,
      "outputs": [
        {
          "output_type": "stream",
          "text": [
            "0.9754604795205433\n"
          ],
          "name": "stdout"
        }
      ]
    },
    {
      "metadata": {
        "id": "Q23pjNjEtT50",
        "colab_type": "code",
        "colab": {}
      },
      "cell_type": "code",
      "source": [
        ""
      ],
      "execution_count": 0,
      "outputs": []
    }
  ]
}
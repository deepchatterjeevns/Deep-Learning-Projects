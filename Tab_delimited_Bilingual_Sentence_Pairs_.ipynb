{
  "nbformat": 4,
  "nbformat_minor": 0,
  "metadata": {
    "colab": {
      "name": "Tab-delimited Bilingual Sentence Pairs .ipynb",
      "version": "0.3.2",
      "provenance": [],
      "include_colab_link": true
    },
    "kernelspec": {
      "name": "python3",
      "display_name": "Python 3"
    },
    "accelerator": "GPU"
  },
  "cells": [
    {
      "cell_type": "markdown",
      "metadata": {
        "id": "view-in-github",
        "colab_type": "text"
      },
      "source": [
        "<a href=\"https://colab.research.google.com/github/pranaya-mathur/Deep-Learning/blob/master/Tab_delimited_Bilingual_Sentence_Pairs_.ipynb\" target=\"_parent\"><img src=\"https://colab.research.google.com/assets/colab-badge.svg\" alt=\"Open In Colab\"/></a>"
      ]
    },
    {
      "cell_type": "code",
      "metadata": {
        "id": "v60aKIKJd9t3",
        "colab_type": "code",
        "outputId": "614ac7e5-2137-4702-e8bb-fac466cc6887",
        "colab": {
          "base_uri": "https://localhost:8080/",
          "height": 204
        }
      },
      "source": [
        "!wget http://www.manythings.org/anki/hin-eng.zip"
      ],
      "execution_count": 1,
      "outputs": [
        {
          "output_type": "stream",
          "text": [
            "--2019-05-13 08:38:59--  http://www.manythings.org/anki/hin-eng.zip\n",
            "Resolving www.manythings.org (www.manythings.org)... 104.24.108.196, 104.24.109.196, 2606:4700:30::6818:6cc4, ...\n",
            "Connecting to www.manythings.org (www.manythings.org)|104.24.108.196|:80... connected.\n",
            "HTTP request sent, awaiting response... 200 OK\n",
            "Length: 90515 (88K) [application/zip]\n",
            "Saving to: ‘hin-eng.zip’\n",
            "\n",
            "\rhin-eng.zip           0%[                    ]       0  --.-KB/s               \rhin-eng.zip         100%[===================>]  88.39K  --.-KB/s    in 0.09s   \n",
            "\n",
            "2019-05-13 08:38:59 (932 KB/s) - ‘hin-eng.zip’ saved [90515/90515]\n",
            "\n"
          ],
          "name": "stdout"
        }
      ]
    },
    {
      "cell_type": "code",
      "metadata": {
        "id": "iCKVC2r_eGXf",
        "colab_type": "code",
        "colab": {}
      },
      "source": [
        "import zipfile\n",
        "zip_ref = zipfile.ZipFile(\"hin-eng.zip\", 'r')\n",
        "zip_ref.extractall(\"corpus\")\n",
        "zip_ref.close()"
      ],
      "execution_count": 0,
      "outputs": []
    },
    {
      "cell_type": "code",
      "metadata": {
        "id": "FKdqTkS1eP2x",
        "colab_type": "code",
        "colab": {
          "base_uri": "https://localhost:8080/",
          "height": 34
        },
        "outputId": "7aa95cd3-65c7-42a0-fae4-77487f7338ff"
      },
      "source": [
        "from keras.models import Model\n",
        "from keras.layers import Input, LSTM, GRU, Dense, Embedding\n",
        "from keras.preprocessing.text import Tokenizer\n",
        "from keras.preprocessing.sequence import pad_sequences\n",
        "from keras.utils import to_categorical\n",
        "import numpy as np\n",
        "import matplotlib.pyplot as plt"
      ],
      "execution_count": 3,
      "outputs": [
        {
          "output_type": "stream",
          "text": [
            "Using TensorFlow backend.\n"
          ],
          "name": "stderr"
        }
      ]
    },
    {
      "cell_type": "code",
      "metadata": {
        "id": "ffDwAaTUfl-g",
        "colab_type": "code",
        "colab": {}
      },
      "source": [
        "# some config\n",
        "BATCH_SIZE = 64  # Batch size for training.\n",
        "EPOCHS = 100  # Number of epochs to train for.\n",
        "LATENT_DIM = 256  # Latent dimensionality of the encoding space.\n",
        "NUM_SAMPLES = 10000  # Number of samples to train on.\n",
        "MAX_SEQUENCE_LENGTH = 100\n",
        "MAX_NUM_WORDS = 20000\n",
        "EMBEDDING_DIM = 100"
      ],
      "execution_count": 0,
      "outputs": []
    },
    {
      "cell_type": "code",
      "metadata": {
        "id": "CXkZH4YQjsS-",
        "colab_type": "code",
        "colab": {
          "base_uri": "https://localhost:8080/",
          "height": 34
        },
        "outputId": "f4ea3322-6453-43a2-91c2-3a772d7cb446"
      },
      "source": [
        "# Where we will store the data\n",
        "input_texts = [] # sentence in original language\n",
        "target_texts = [] # sentence in target language\n",
        "target_texts_inputs = [] # sentence in target language offset by 1\n",
        "\n",
        "\n",
        "# load in the data\n",
        "# download the data at: http://www.manythings.org/anki/\n",
        "t = 0\n",
        "for line in open('corpus/hin.txt'):\n",
        "  # only keep a limited number of samples\n",
        "  t += 1\n",
        "  if t > NUM_SAMPLES:\n",
        "    break\n",
        "\n",
        "  # input and target are separated by tab\n",
        "  if '\\t' not in line:\n",
        "    continue\n",
        "\n",
        "  # split up the input and translation\n",
        "  input_text, translation = line.rstrip().split('\\t')\n",
        "\n",
        "  # make the target input and output\n",
        "  # recall we'll be using teacher forcing\n",
        "  target_text = translation + ' <eos>'\n",
        "  target_text_input = '<sos> ' + translation\n",
        "\n",
        "  input_texts.append(input_text)\n",
        "  target_texts.append(target_text)\n",
        "  target_texts_inputs.append(target_text_input)\n",
        "print(\"num samples:\", len(input_texts))"
      ],
      "execution_count": 5,
      "outputs": [
        {
          "output_type": "stream",
          "text": [
            "num samples: 2831\n"
          ],
          "name": "stdout"
        }
      ]
    },
    {
      "cell_type": "code",
      "metadata": {
        "id": "S08cvsmSWWn5",
        "colab_type": "code",
        "colab": {
          "base_uri": "https://localhost:8080/",
          "height": 153
        },
        "outputId": "16155bdd-9740-48f7-e82a-995be58cd905"
      },
      "source": [
        "# tokenize the inputs\n",
        "tokenizer_inputs = Tokenizer(num_words=MAX_NUM_WORDS)\n",
        "tokenizer_inputs.fit_on_texts(input_texts)\n",
        "input_sequences = tokenizer_inputs.texts_to_sequences(input_texts)\n",
        "\n",
        "# get the word to index mapping for input language\n",
        "word2idx_inputs = tokenizer_inputs.word_index\n",
        "print('Found %s unique input tokens.' % len(word2idx_inputs))\n",
        "\n",
        "# determine maximum length input sequence\n",
        "max_len_input = max(len(s) for s in input_sequences)\n",
        "\n",
        "# tokenize the outputs\n",
        "# don't filter out special characters\n",
        "# otherwise <sos> and <eos> won't appear\n",
        "tokenizer_outputs = Tokenizer(num_words=MAX_NUM_WORDS, filters='')\n",
        "tokenizer_outputs.fit_on_texts(target_texts + target_texts_inputs) # inefficient, oh well\n",
        "target_sequences = tokenizer_outputs.texts_to_sequences(target_texts)\n",
        "target_sequences_inputs = tokenizer_outputs.texts_to_sequences(target_texts_inputs)\n",
        "\n",
        "# get the word to index mapping for output language\n",
        "word2idx_outputs = tokenizer_outputs.word_index\n",
        "print('Found %s unique output tokens.' % len(word2idx_outputs))\n",
        "\n",
        "# store number of output words for later\n",
        "# remember to add 1 since indexing starts at 1\n",
        "num_words_output = len(word2idx_outputs) + 1\n",
        "\n",
        "# determine maximum length output sequence\n",
        "max_len_target = max(len(s) for s in target_sequences)\n",
        "\n",
        "\n",
        "# pad the sequences\n",
        "encoder_inputs = pad_sequences(input_sequences, maxlen=max_len_input)\n",
        "print(\"encoder_inputs.shape:\", encoder_inputs.shape)\n",
        "print(\"encoder_inputs[0]:\", encoder_inputs[0])\n",
        "\n",
        "decoder_inputs = pad_sequences(target_sequences_inputs, maxlen=max_len_target, padding='post')\n",
        "print(\"decoder_inputs[0]:\", decoder_inputs[0])\n",
        "print(\"decoder_inputs.shape:\", decoder_inputs.shape)\n",
        "\n",
        "decoder_targets = pad_sequences(target_sequences, maxlen=max_len_target, padding='post')"
      ],
      "execution_count": 6,
      "outputs": [
        {
          "output_type": "stream",
          "text": [
            "Found 2392 unique input tokens.\n",
            "Found 3143 unique output tokens.\n",
            "encoder_inputs.shape: (2831, 22)\n",
            "encoder_inputs[0]: [   0    0    0    0    0    0    0    0    0    0    0    0    0    0\n",
            "    0    0    0    0    0    0    0 1276]\n",
            "decoder_inputs[0]: [   2 1492    0    0    0    0    0    0    0    0    0    0    0    0\n",
            "    0    0    0    0    0    0    0    0    0    0    0    0]\n",
            "decoder_inputs.shape: (2831, 26)\n"
          ],
          "name": "stdout"
        }
      ]
    },
    {
      "cell_type": "code",
      "metadata": {
        "id": "lf0gZsS1WbJc",
        "colab_type": "code",
        "colab": {
          "base_uri": "https://localhost:8080/",
          "height": 51
        },
        "outputId": "c1d8c2ed-a70a-455f-d302-6dd97db0929f"
      },
      "source": [
        "# store all the pre-trained word vectors\n",
        "print('Loading word vectors...')\n",
        "word2vec = {}\n",
        "with open(\"glove/glove.6B.100d.txt\") as f:\n",
        "  # is just a space-separated text file in the format:\n",
        "  # word vec[0] vec[1] vec[2] ...\n",
        "  for line in f:\n",
        "    values = line.split()\n",
        "    word = values[0]\n",
        "    vec = np.asarray(values[1:], dtype='float32')\n",
        "    word2vec[word] = vec\n",
        "print('Found %s word vectors.' % len(word2vec))"
      ],
      "execution_count": 7,
      "outputs": [
        {
          "output_type": "stream",
          "text": [
            "Loading word vectors...\n",
            "Found 400000 word vectors.\n"
          ],
          "name": "stdout"
        }
      ]
    },
    {
      "cell_type": "code",
      "metadata": {
        "id": "dUwUEveHWoUN",
        "colab_type": "code",
        "colab": {
          "base_uri": "https://localhost:8080/",
          "height": 34
        },
        "outputId": "1471cbf0-e6b8-478c-e2d3-1c73382ceb40"
      },
      "source": [
        "# prepare embedding matrix\n",
        "print('Filling pre-trained embeddings...')\n",
        "num_words = min(MAX_NUM_WORDS, len(word2idx_inputs) + 1)\n",
        "embedding_matrix = np.zeros((num_words, EMBEDDING_DIM))\n",
        "for word, i in word2idx_inputs.items():\n",
        "  if i < MAX_NUM_WORDS:\n",
        "    embedding_vector = word2vec.get(word)\n",
        "    if embedding_vector is not None:\n",
        "      # words not found in embedding index will be all zeros.\n",
        "      embedding_matrix[i] = embedding_vector"
      ],
      "execution_count": 8,
      "outputs": [
        {
          "output_type": "stream",
          "text": [
            "Filling pre-trained embeddings...\n"
          ],
          "name": "stdout"
        }
      ]
    },
    {
      "cell_type": "code",
      "metadata": {
        "id": "5USiNF_8WrqW",
        "colab_type": "code",
        "colab": {}
      },
      "source": [
        "# create embedding layer\n",
        "embedding_layer = Embedding(\n",
        "  num_words,\n",
        "  EMBEDDING_DIM,\n",
        "  weights=[embedding_matrix],\n",
        "  input_length=max_len_input,\n",
        "  # trainable=True\n",
        ")\n"
      ],
      "execution_count": 0,
      "outputs": []
    },
    {
      "cell_type": "code",
      "metadata": {
        "id": "SQI7v65EWxSS",
        "colab_type": "code",
        "colab": {}
      },
      "source": [
        "# create targets, since we cannot use sparse\n",
        "# categorical cross entropy when we have sequences\n",
        "decoder_targets_one_hot = np.zeros(\n",
        "  (\n",
        "    len(input_texts),\n",
        "    max_len_target,\n",
        "    num_words_output\n",
        "  ),\n",
        "  dtype='float32'\n",
        ")\n",
        "\n",
        "# assign the values\n",
        "for i, d in enumerate(decoder_targets):\n",
        "  for t, word in enumerate(d):\n",
        "    decoder_targets_one_hot[i, t, word] = 1"
      ],
      "execution_count": 0,
      "outputs": []
    },
    {
      "cell_type": "code",
      "metadata": {
        "id": "Cc5GWynXWzw_",
        "colab_type": "code",
        "colab": {
          "base_uri": "https://localhost:8080/",
          "height": 3607
        },
        "outputId": "f5bbd31b-1f22-4697-c799-f366923372c5"
      },
      "source": [
        "##### build the model #####\n",
        "encoder_inputs_placeholder = Input(shape=(max_len_input,))\n",
        "x = embedding_layer(encoder_inputs_placeholder)\n",
        "encoder = LSTM(\n",
        "  LATENT_DIM,\n",
        "  return_state=True,\n",
        "  # dropout=0.5 # dropout not available on gpu\n",
        ")\n",
        "encoder_outputs, h, c = encoder(x)\n",
        "# encoder_outputs, h = encoder(x) #gru\n",
        "\n",
        "# keep only the states to pass into decoder\n",
        "encoder_states = [h, c]\n",
        "# encoder_states = [state_h] # gru\n",
        "\n",
        "# Set up the decoder, using [h, c] as initial state.\n",
        "decoder_inputs_placeholder = Input(shape=(max_len_target,))\n",
        "\n",
        "# this word embedding will not use pre-trained vectors\n",
        "# although you could\n",
        "decoder_embedding = Embedding(num_words_output, LATENT_DIM)\n",
        "decoder_inputs_x = decoder_embedding(decoder_inputs_placeholder)\n",
        "\n",
        "# since the decoder is a \"to-many\" model we want to have\n",
        "# return_sequences=True\n",
        "decoder_lstm = LSTM(\n",
        "  LATENT_DIM,\n",
        "  return_sequences=True,\n",
        "  return_state=True,\n",
        "  # dropout=0.5 # dropout not available on gpu\n",
        ")\n",
        "decoder_outputs, _, _ = decoder_lstm(\n",
        "  decoder_inputs_x,\n",
        "  initial_state=encoder_states\n",
        ")\n",
        "\n",
        "# decoder_outputs, _ = decoder_gru(\n",
        "#   decoder_inputs_x,\n",
        "#   initial_state=encoder_states\n",
        "# )\n",
        "\n",
        "# final dense layer for predictions\n",
        "decoder_dense = Dense(num_words_output, activation='softmax')\n",
        "decoder_outputs = decoder_dense(decoder_outputs)\n",
        "\n",
        "# Create the model object\n",
        "model = Model([encoder_inputs_placeholder, decoder_inputs_placeholder], decoder_outputs)\n",
        "\n",
        "# Compile the model and train it\n",
        "model.compile(\n",
        "  optimizer='rmsprop',\n",
        "  loss='categorical_crossentropy',\n",
        "  metrics=['accuracy']\n",
        ")\n",
        "r = model.fit(\n",
        "  [encoder_inputs, decoder_inputs], decoder_targets_one_hot,\n",
        "  batch_size=BATCH_SIZE,\n",
        "  epochs=EPOCHS,\n",
        "  validation_split=0.2,\n",
        ")\n"
      ],
      "execution_count": 11,
      "outputs": [
        {
          "output_type": "stream",
          "text": [
            "WARNING:tensorflow:From /usr/local/lib/python3.6/dist-packages/tensorflow/python/framework/op_def_library.py:263: colocate_with (from tensorflow.python.framework.ops) is deprecated and will be removed in a future version.\n",
            "Instructions for updating:\n",
            "Colocations handled automatically by placer.\n",
            "WARNING:tensorflow:From /usr/local/lib/python3.6/dist-packages/tensorflow/python/ops/math_ops.py:3066: to_int32 (from tensorflow.python.ops.math_ops) is deprecated and will be removed in a future version.\n",
            "Instructions for updating:\n",
            "Use tf.cast instead.\n",
            "WARNING:tensorflow:From /usr/local/lib/python3.6/dist-packages/tensorflow/python/ops/math_grad.py:102: div (from tensorflow.python.ops.math_ops) is deprecated and will be removed in a future version.\n",
            "Instructions for updating:\n",
            "Deprecated in favor of operator or tf.math.divide.\n",
            "Train on 2264 samples, validate on 567 samples\n",
            "Epoch 1/100\n",
            "2264/2264 [==============================] - 5s 2ms/step - loss: 2.4406 - acc: 0.7147 - val_loss: 2.8537 - val_acc: 0.5838\n",
            "Epoch 2/100\n",
            "2264/2264 [==============================] - 4s 2ms/step - loss: 1.5800 - acc: 0.7534 - val_loss: 2.7019 - val_acc: 0.6220\n",
            "Epoch 3/100\n",
            "2264/2264 [==============================] - 3s 2ms/step - loss: 1.4651 - acc: 0.7741 - val_loss: 2.6365 - val_acc: 0.6276\n",
            "Epoch 4/100\n",
            "2264/2264 [==============================] - 3s 1ms/step - loss: 1.3896 - acc: 0.7803 - val_loss: 2.6193 - val_acc: 0.6314\n",
            "Epoch 5/100\n",
            "2264/2264 [==============================] - 3s 1ms/step - loss: 1.3250 - acc: 0.7872 - val_loss: 2.6733 - val_acc: 0.6371\n",
            "Epoch 6/100\n",
            "2264/2264 [==============================] - 3s 1ms/step - loss: 1.2668 - acc: 0.7922 - val_loss: 2.6136 - val_acc: 0.6390\n",
            "Epoch 7/100\n",
            "2264/2264 [==============================] - 3s 1ms/step - loss: 1.2117 - acc: 0.7974 - val_loss: 2.6467 - val_acc: 0.6397\n",
            "Epoch 8/100\n",
            "2264/2264 [==============================] - 3s 1ms/step - loss: 1.1597 - acc: 0.8015 - val_loss: 2.5596 - val_acc: 0.6434\n",
            "Epoch 9/100\n",
            "2264/2264 [==============================] - 3s 1ms/step - loss: 1.1095 - acc: 0.8053 - val_loss: 2.5397 - val_acc: 0.6435\n",
            "Epoch 10/100\n",
            "2264/2264 [==============================] - 3s 1ms/step - loss: 1.0577 - acc: 0.8103 - val_loss: 2.5771 - val_acc: 0.6437\n",
            "Epoch 11/100\n",
            "2264/2264 [==============================] - 3s 1ms/step - loss: 1.0101 - acc: 0.8156 - val_loss: 2.5463 - val_acc: 0.6491\n",
            "Epoch 12/100\n",
            "2264/2264 [==============================] - 3s 1ms/step - loss: 0.9627 - acc: 0.8211 - val_loss: 2.5689 - val_acc: 0.6499\n",
            "Epoch 13/100\n",
            "2264/2264 [==============================] - 3s 1ms/step - loss: 0.9160 - acc: 0.8264 - val_loss: 2.5003 - val_acc: 0.6513\n",
            "Epoch 14/100\n",
            "2264/2264 [==============================] - 3s 1ms/step - loss: 0.8699 - acc: 0.8314 - val_loss: 2.5489 - val_acc: 0.6515\n",
            "Epoch 15/100\n",
            "2264/2264 [==============================] - 3s 1ms/step - loss: 0.8261 - acc: 0.8367 - val_loss: 2.5036 - val_acc: 0.6559\n",
            "Epoch 16/100\n",
            "2264/2264 [==============================] - 3s 1ms/step - loss: 0.7816 - acc: 0.8428 - val_loss: 2.5166 - val_acc: 0.6566\n",
            "Epoch 17/100\n",
            "2264/2264 [==============================] - 3s 1ms/step - loss: 0.7383 - acc: 0.8479 - val_loss: 2.4959 - val_acc: 0.6573\n",
            "Epoch 18/100\n",
            "2264/2264 [==============================] - 3s 1ms/step - loss: 0.6976 - acc: 0.8542 - val_loss: 2.5176 - val_acc: 0.6587\n",
            "Epoch 19/100\n",
            "2264/2264 [==============================] - 3s 1ms/step - loss: 0.6554 - acc: 0.8612 - val_loss: 2.5344 - val_acc: 0.6581\n",
            "Epoch 20/100\n",
            "2264/2264 [==============================] - 3s 1ms/step - loss: 0.6160 - acc: 0.8687 - val_loss: 2.5464 - val_acc: 0.6614\n",
            "Epoch 21/100\n",
            "2264/2264 [==============================] - 3s 1ms/step - loss: 0.5764 - acc: 0.8774 - val_loss: 2.5069 - val_acc: 0.6604\n",
            "Epoch 22/100\n",
            "2264/2264 [==============================] - 3s 1ms/step - loss: 0.5394 - acc: 0.8852 - val_loss: 2.5515 - val_acc: 0.6606\n",
            "Epoch 23/100\n",
            "2264/2264 [==============================] - 3s 1ms/step - loss: 0.5036 - acc: 0.8941 - val_loss: 2.5376 - val_acc: 0.6615\n",
            "Epoch 24/100\n",
            "2264/2264 [==============================] - 3s 1ms/step - loss: 0.4677 - acc: 0.9024 - val_loss: 2.5501 - val_acc: 0.6615\n",
            "Epoch 25/100\n",
            "2264/2264 [==============================] - 3s 1ms/step - loss: 0.4330 - acc: 0.9102 - val_loss: 2.5577 - val_acc: 0.6636\n",
            "Epoch 26/100\n",
            "2264/2264 [==============================] - 4s 2ms/step - loss: 0.4001 - acc: 0.9200 - val_loss: 2.5610 - val_acc: 0.6629\n",
            "Epoch 27/100\n",
            "2264/2264 [==============================] - 4s 2ms/step - loss: 0.3695 - acc: 0.9281 - val_loss: 2.5886 - val_acc: 0.6627\n",
            "Epoch 28/100\n",
            "2264/2264 [==============================] - 3s 1ms/step - loss: 0.3388 - acc: 0.9364 - val_loss: 2.5728 - val_acc: 0.6629\n",
            "Epoch 29/100\n",
            "2264/2264 [==============================] - 3s 1ms/step - loss: 0.3117 - acc: 0.9429 - val_loss: 2.6016 - val_acc: 0.6606\n",
            "Epoch 30/100\n",
            "2264/2264 [==============================] - 3s 1ms/step - loss: 0.2840 - acc: 0.9500 - val_loss: 2.6004 - val_acc: 0.6625\n",
            "Epoch 31/100\n",
            "2264/2264 [==============================] - 3s 1ms/step - loss: 0.2584 - acc: 0.9561 - val_loss: 2.6087 - val_acc: 0.6620\n",
            "Epoch 32/100\n",
            "2264/2264 [==============================] - 3s 1ms/step - loss: 0.2354 - acc: 0.9619 - val_loss: 2.6427 - val_acc: 0.6616\n",
            "Epoch 33/100\n",
            "2264/2264 [==============================] - 3s 1ms/step - loss: 0.2127 - acc: 0.9667 - val_loss: 2.6310 - val_acc: 0.6639\n",
            "Epoch 34/100\n",
            "2264/2264 [==============================] - 3s 1ms/step - loss: 0.1930 - acc: 0.9710 - val_loss: 2.6430 - val_acc: 0.6633\n",
            "Epoch 35/100\n",
            "2264/2264 [==============================] - 3s 1ms/step - loss: 0.1726 - acc: 0.9748 - val_loss: 2.6671 - val_acc: 0.6640\n",
            "Epoch 36/100\n",
            "2264/2264 [==============================] - 3s 1ms/step - loss: 0.1561 - acc: 0.9788 - val_loss: 2.6891 - val_acc: 0.6641\n",
            "Epoch 37/100\n",
            "2264/2264 [==============================] - 3s 1ms/step - loss: 0.1398 - acc: 0.9823 - val_loss: 2.6889 - val_acc: 0.6637\n",
            "Epoch 38/100\n",
            "2264/2264 [==============================] - 3s 1ms/step - loss: 0.1250 - acc: 0.9840 - val_loss: 2.7178 - val_acc: 0.6636\n",
            "Epoch 39/100\n",
            "2264/2264 [==============================] - 3s 1ms/step - loss: 0.1120 - acc: 0.9864 - val_loss: 2.7160 - val_acc: 0.6640\n",
            "Epoch 40/100\n",
            "2264/2264 [==============================] - 3s 1ms/step - loss: 0.0992 - acc: 0.9882 - val_loss: 2.7527 - val_acc: 0.6645\n",
            "Epoch 41/100\n",
            "2264/2264 [==============================] - 3s 1ms/step - loss: 0.0888 - acc: 0.9897 - val_loss: 2.7385 - val_acc: 0.6635\n",
            "Epoch 42/100\n",
            "2264/2264 [==============================] - 3s 1ms/step - loss: 0.0789 - acc: 0.9910 - val_loss: 2.7659 - val_acc: 0.6648\n",
            "Epoch 43/100\n",
            "2264/2264 [==============================] - 3s 1ms/step - loss: 0.0699 - acc: 0.9918 - val_loss: 2.7868 - val_acc: 0.6631\n",
            "Epoch 44/100\n",
            "2264/2264 [==============================] - 4s 2ms/step - loss: 0.0631 - acc: 0.9924 - val_loss: 2.8016 - val_acc: 0.6637\n",
            "Epoch 45/100\n",
            "2264/2264 [==============================] - 3s 1ms/step - loss: 0.0556 - acc: 0.9933 - val_loss: 2.8102 - val_acc: 0.6639\n",
            "Epoch 46/100\n",
            "2264/2264 [==============================] - 3s 1ms/step - loss: 0.0495 - acc: 0.9941 - val_loss: 2.8205 - val_acc: 0.6640\n",
            "Epoch 47/100\n",
            "2264/2264 [==============================] - 3s 1ms/step - loss: 0.0448 - acc: 0.9942 - val_loss: 2.8411 - val_acc: 0.6644\n",
            "Epoch 48/100\n",
            "2264/2264 [==============================] - 3s 1ms/step - loss: 0.0402 - acc: 0.9943 - val_loss: 2.8411 - val_acc: 0.6651\n",
            "Epoch 49/100\n",
            "2264/2264 [==============================] - 3s 1ms/step - loss: 0.0363 - acc: 0.9946 - val_loss: 2.8557 - val_acc: 0.6642\n",
            "Epoch 50/100\n",
            "2264/2264 [==============================] - 4s 2ms/step - loss: 0.0330 - acc: 0.9948 - val_loss: 2.8952 - val_acc: 0.6648\n",
            "Epoch 51/100\n",
            "2264/2264 [==============================] - 4s 2ms/step - loss: 0.0301 - acc: 0.9948 - val_loss: 2.9278 - val_acc: 0.6642\n",
            "Epoch 52/100\n",
            "2264/2264 [==============================] - 3s 2ms/step - loss: 0.0276 - acc: 0.9949 - val_loss: 2.9081 - val_acc: 0.6637\n",
            "Epoch 53/100\n",
            "2264/2264 [==============================] - 3s 1ms/step - loss: 0.0250 - acc: 0.9949 - val_loss: 2.9409 - val_acc: 0.6656\n",
            "Epoch 54/100\n",
            "2264/2264 [==============================] - 3s 1ms/step - loss: 0.0235 - acc: 0.9947 - val_loss: 2.9247 - val_acc: 0.6633\n",
            "Epoch 55/100\n",
            "2264/2264 [==============================] - 3s 1ms/step - loss: 0.0215 - acc: 0.9949 - val_loss: 2.9674 - val_acc: 0.6639\n",
            "Epoch 56/100\n",
            "2264/2264 [==============================] - 3s 1ms/step - loss: 0.0204 - acc: 0.9950 - val_loss: 2.9465 - val_acc: 0.6644\n",
            "Epoch 57/100\n",
            "2264/2264 [==============================] - 3s 1ms/step - loss: 0.0186 - acc: 0.9953 - val_loss: 2.9732 - val_acc: 0.6655\n",
            "Epoch 58/100\n",
            "2264/2264 [==============================] - 3s 1ms/step - loss: 0.0181 - acc: 0.9951 - val_loss: 2.9951 - val_acc: 0.6646\n",
            "Epoch 59/100\n",
            "2264/2264 [==============================] - 3s 1ms/step - loss: 0.0170 - acc: 0.9949 - val_loss: 3.0154 - val_acc: 0.6650\n",
            "Epoch 60/100\n",
            "2264/2264 [==============================] - 3s 1ms/step - loss: 0.0159 - acc: 0.9953 - val_loss: 3.0325 - val_acc: 0.6644\n",
            "Epoch 61/100\n",
            "2264/2264 [==============================] - 3s 1ms/step - loss: 0.0153 - acc: 0.9953 - val_loss: 3.0558 - val_acc: 0.6643\n",
            "Epoch 62/100\n",
            "2264/2264 [==============================] - 3s 1ms/step - loss: 0.0149 - acc: 0.9949 - val_loss: 3.0367 - val_acc: 0.6646\n",
            "Epoch 63/100\n",
            "2264/2264 [==============================] - 3s 1ms/step - loss: 0.0140 - acc: 0.9953 - val_loss: 3.0648 - val_acc: 0.6664\n",
            "Epoch 64/100\n",
            "2264/2264 [==============================] - 3s 1ms/step - loss: 0.0135 - acc: 0.9953 - val_loss: 3.0637 - val_acc: 0.6656\n",
            "Epoch 65/100\n",
            "2264/2264 [==============================] - 3s 1ms/step - loss: 0.0131 - acc: 0.9954 - val_loss: 3.0799 - val_acc: 0.6638\n",
            "Epoch 66/100\n",
            "2264/2264 [==============================] - 3s 1ms/step - loss: 0.0127 - acc: 0.9953 - val_loss: 3.0986 - val_acc: 0.6652\n",
            "Epoch 67/100\n",
            "2264/2264 [==============================] - 3s 1ms/step - loss: 0.0124 - acc: 0.9953 - val_loss: 3.0983 - val_acc: 0.6642\n",
            "Epoch 68/100\n",
            "2264/2264 [==============================] - 3s 1ms/step - loss: 0.0120 - acc: 0.9953 - val_loss: 3.1039 - val_acc: 0.6646\n",
            "Epoch 69/100\n",
            "2264/2264 [==============================] - 3s 1ms/step - loss: 0.0117 - acc: 0.9951 - val_loss: 3.1314 - val_acc: 0.6650\n",
            "Epoch 70/100\n",
            "2264/2264 [==============================] - 3s 1ms/step - loss: 0.0112 - acc: 0.9954 - val_loss: 3.1120 - val_acc: 0.6644\n",
            "Epoch 71/100\n",
            "2264/2264 [==============================] - 3s 1ms/step - loss: 0.0112 - acc: 0.9952 - val_loss: 3.1634 - val_acc: 0.6653\n",
            "Epoch 72/100\n",
            "2264/2264 [==============================] - 3s 1ms/step - loss: 0.0109 - acc: 0.9952 - val_loss: 3.1890 - val_acc: 0.6652\n",
            "Epoch 73/100\n",
            "2264/2264 [==============================] - 3s 1ms/step - loss: 0.0107 - acc: 0.9953 - val_loss: 3.1798 - val_acc: 0.6646\n",
            "Epoch 74/100\n",
            "2264/2264 [==============================] - 3s 2ms/step - loss: 0.0104 - acc: 0.9953 - val_loss: 3.1675 - val_acc: 0.6647\n",
            "Epoch 75/100\n",
            "2264/2264 [==============================] - 4s 2ms/step - loss: 0.0105 - acc: 0.9952 - val_loss: 3.2197 - val_acc: 0.6657\n",
            "Epoch 76/100\n",
            "2264/2264 [==============================] - 4s 2ms/step - loss: 0.0102 - acc: 0.9955 - val_loss: 3.2299 - val_acc: 0.6644\n",
            "Epoch 77/100\n",
            "2264/2264 [==============================] - 3s 1ms/step - loss: 0.0101 - acc: 0.9953 - val_loss: 3.2038 - val_acc: 0.6659\n",
            "Epoch 78/100\n",
            "2264/2264 [==============================] - 3s 1ms/step - loss: 0.0100 - acc: 0.9952 - val_loss: 3.2154 - val_acc: 0.6647\n",
            "Epoch 79/100\n",
            "2264/2264 [==============================] - 4s 2ms/step - loss: 0.0098 - acc: 0.9953 - val_loss: 3.2166 - val_acc: 0.6647\n",
            "Epoch 80/100\n",
            "2264/2264 [==============================] - 4s 2ms/step - loss: 0.0095 - acc: 0.9952 - val_loss: 3.2384 - val_acc: 0.6660\n",
            "Epoch 81/100\n",
            "2264/2264 [==============================] - 4s 2ms/step - loss: 0.0097 - acc: 0.9954 - val_loss: 3.2562 - val_acc: 0.6657\n",
            "Epoch 82/100\n",
            "2264/2264 [==============================] - 3s 1ms/step - loss: 0.0094 - acc: 0.9952 - val_loss: 3.2554 - val_acc: 0.6646\n",
            "Epoch 83/100\n",
            "2264/2264 [==============================] - 3s 1ms/step - loss: 0.0095 - acc: 0.9953 - val_loss: 3.2845 - val_acc: 0.6643\n",
            "Epoch 84/100\n",
            "2264/2264 [==============================] - 3s 1ms/step - loss: 0.0093 - acc: 0.9953 - val_loss: 3.2888 - val_acc: 0.6650\n",
            "Epoch 85/100\n",
            "2264/2264 [==============================] - 3s 1ms/step - loss: 0.0091 - acc: 0.9954 - val_loss: 3.2848 - val_acc: 0.6629\n",
            "Epoch 86/100\n",
            "2264/2264 [==============================] - 3s 1ms/step - loss: 0.0090 - acc: 0.9953 - val_loss: 3.3005 - val_acc: 0.6653\n",
            "Epoch 87/100\n",
            "2264/2264 [==============================] - 3s 1ms/step - loss: 0.0089 - acc: 0.9953 - val_loss: 3.3007 - val_acc: 0.6644\n",
            "Epoch 88/100\n",
            "2264/2264 [==============================] - 3s 1ms/step - loss: 0.0091 - acc: 0.9954 - val_loss: 3.3194 - val_acc: 0.6630\n",
            "Epoch 89/100\n",
            "2264/2264 [==============================] - 3s 1ms/step - loss: 0.0089 - acc: 0.9954 - val_loss: 3.3071 - val_acc: 0.6651\n",
            "Epoch 90/100\n",
            "2264/2264 [==============================] - 3s 1ms/step - loss: 0.0085 - acc: 0.9955 - val_loss: 3.3276 - val_acc: 0.6653\n",
            "Epoch 91/100\n",
            "2264/2264 [==============================] - 3s 1ms/step - loss: 0.0092 - acc: 0.9953 - val_loss: 3.3309 - val_acc: 0.6637\n",
            "Epoch 92/100\n",
            "2264/2264 [==============================] - 3s 1ms/step - loss: 0.0088 - acc: 0.9955 - val_loss: 3.3445 - val_acc: 0.6654\n",
            "Epoch 93/100\n",
            "2264/2264 [==============================] - 3s 1ms/step - loss: 0.0088 - acc: 0.9952 - val_loss: 3.3691 - val_acc: 0.6646\n",
            "Epoch 94/100\n",
            "2264/2264 [==============================] - 3s 1ms/step - loss: 0.0086 - acc: 0.9953 - val_loss: 3.3523 - val_acc: 0.6638\n",
            "Epoch 95/100\n",
            "2264/2264 [==============================] - 3s 1ms/step - loss: 0.0087 - acc: 0.9953 - val_loss: 3.3433 - val_acc: 0.6642\n",
            "Epoch 96/100\n",
            "2264/2264 [==============================] - 3s 1ms/step - loss: 0.0085 - acc: 0.9952 - val_loss: 3.3713 - val_acc: 0.6651\n",
            "Epoch 97/100\n",
            "2264/2264 [==============================] - 3s 1ms/step - loss: 0.0085 - acc: 0.9951 - val_loss: 3.3601 - val_acc: 0.6659\n",
            "Epoch 98/100\n",
            "2264/2264 [==============================] - 3s 1ms/step - loss: 0.0086 - acc: 0.9954 - val_loss: 3.3693 - val_acc: 0.6669\n",
            "Epoch 99/100\n",
            "2264/2264 [==============================] - 4s 2ms/step - loss: 0.0085 - acc: 0.9953 - val_loss: 3.3787 - val_acc: 0.6644\n",
            "Epoch 100/100\n",
            "2264/2264 [==============================] - 4s 2ms/step - loss: 0.0084 - acc: 0.9953 - val_loss: 3.4031 - val_acc: 0.6654\n"
          ],
          "name": "stdout"
        }
      ]
    },
    {
      "cell_type": "code",
      "metadata": {
        "id": "7bWgaByPW4UT",
        "colab_type": "code",
        "colab": {
          "base_uri": "https://localhost:8080/",
          "height": 575
        },
        "outputId": "f80888d7-a745-407c-8ae1-d49b84012a0b"
      },
      "source": [
        "# plot some data\n",
        "plt.plot(r.history['loss'], label='loss')\n",
        "plt.plot(r.history['val_loss'], label='val_loss')\n",
        "plt.legend()\n",
        "plt.show()\n",
        "\n",
        "# accuracies\n",
        "plt.plot(r.history['acc'], label='acc')\n",
        "plt.plot(r.history['val_acc'], label='val_acc')\n",
        "plt.legend()\n",
        "plt.show()\n",
        "\n",
        "# Save model\n",
        "model.save('s2s.h5')"
      ],
      "execution_count": 12,
      "outputs": [
        {
          "output_type": "display_data",
          "data": {
            "image/png": "[encoded data removed]",
            "text/plain": [
              "<Figure size 432x288 with 1 Axes>"
            ]
          },
          "metadata": {
            "tags": []
          }
        },
        {
          "output_type": "display_data",
          "data": {
            "image/png": "[encoded data removed]",
            "text/plain": [
              "<Figure size 432x288 with 1 Axes>"
            ]
          },
          "metadata": {
            "tags": []
          }
        },
        {
          "output_type": "stream",
          "text": [
            "/usr/local/lib/python3.6/dist-packages/keras/engine/network.py:877: UserWarning: Layer lstm_2 was passed non-serializable keyword arguments: {'initial_state': [<tf.Tensor 'lstm_1/while/Exit_3:0' shape=(?, 256) dtype=float32>, <tf.Tensor 'lstm_1/while/Exit_4:0' shape=(?, 256) dtype=float32>]}. They will not be included in the serialized model (and thus will be missing at deserialization time).\n",
            "  '. They will not be included '\n"
          ],
          "name": "stderr"
        }
      ]
    },
    {
      "cell_type": "code",
      "metadata": {
        "id": "TYzZifXQYe1Y",
        "colab_type": "code",
        "colab": {}
      },
      "source": [
        "##### Make predictions #####\n",
        "# As with the poetry example, we need to create another model\n",
        "# that can take in the RNN state and previous word as input\n",
        "# and accept a T=1 sequence.\n",
        "\n",
        "# The encoder will be stand-alone\n",
        "# From this we will get our initial decoder hidden state\n",
        "encoder_model = Model(encoder_inputs_placeholder, encoder_states)\n",
        "\n",
        "decoder_state_input_h = Input(shape=(LATENT_DIM,))\n",
        "decoder_state_input_c = Input(shape=(LATENT_DIM,))\n",
        "decoder_states_inputs = [decoder_state_input_h, decoder_state_input_c]\n",
        "# decoder_states_inputs = [decoder_state_input_h] # gru\n",
        "\n",
        "decoder_inputs_single = Input(shape=(1,))\n",
        "decoder_inputs_single_x = decoder_embedding(decoder_inputs_single)\n",
        "\n",
        "# this time, we want to keep the states too, to be output\n",
        "# by our sampling model\n",
        "decoder_outputs, h, c = decoder_lstm(\n",
        "  decoder_inputs_single_x,\n",
        "  initial_state=decoder_states_inputs\n",
        ")\n",
        "# decoder_outputs, state_h = decoder_lstm(\n",
        "#   decoder_inputs_single_x,\n",
        "#   initial_state=decoder_states_inputs\n",
        "# ) #gru\n",
        "decoder_states = [h, c]\n",
        "# decoder_states = [h] # gru\n",
        "decoder_outputs = decoder_dense(decoder_outputs)\n",
        "\n",
        "# The sampling model\n",
        "# inputs: y(t-1), h(t-1), c(t-1)\n",
        "# outputs: y(t), h(t), c(t)\n",
        "decoder_model = Model(\n",
        "  [decoder_inputs_single] + decoder_states_inputs, \n",
        "  [decoder_outputs] + decoder_states\n",
        ")\n",
        "\n",
        "# map indexes back into real words\n",
        "# so we can view the results\n",
        "idx2word_eng = {v:k for k, v in word2idx_inputs.items()}\n",
        "idx2word_trans = {v:k for k, v in word2idx_outputs.items()}"
      ],
      "execution_count": 0,
      "outputs": []
    },
    {
      "cell_type": "code",
      "metadata": {
        "id": "ABNMY3FzYj2g",
        "colab_type": "code",
        "colab": {}
      },
      "source": [
        "def decode_sequence(input_seq):\n",
        "  # Encode the input as state vectors.\n",
        "  states_value = encoder_model.predict(input_seq)\n",
        "\n",
        "  # Generate empty target sequence of length 1.\n",
        "  target_seq = np.zeros((1, 1))\n",
        "\n",
        "  # Populate the first character of target sequence with the start character.\n",
        "  # NOTE: tokenizer lower-cases all words\n",
        "  target_seq[0, 0] = word2idx_outputs['<sos>']\n",
        "\n",
        "  # if we get this we break\n",
        "  eos = word2idx_outputs['<eos>']\n",
        "\n",
        "  # Create the translation\n",
        "  output_sentence = []\n",
        "  for _ in range(max_len_target):\n",
        "    output_tokens, h, c = decoder_model.predict(\n",
        "      [target_seq] + states_value\n",
        "    )\n",
        "    # output_tokens, h = decoder_model.predict(\n",
        "    #     [target_seq] + states_value\n",
        "    # ) # gru\n",
        "\n",
        "    # Get next word\n",
        "    idx = np.argmax(output_tokens[0, 0, :])\n",
        "\n",
        "    # End sentence of EOS\n",
        "    if eos == idx:\n",
        "      break\n",
        "\n",
        "    word = ''\n",
        "    if idx > 0:\n",
        "      word = idx2word_trans[idx]\n",
        "      output_sentence.append(word)\n",
        "\n",
        "    # Update the decoder input\n",
        "    # which is just the word just generated\n",
        "    target_seq[0, 0] = idx\n",
        "\n",
        "    # Update states\n",
        "    states_value = [h, c]\n",
        "    # states_value = [h] # gru\n",
        "\n",
        "  return ' '.join(output_sentence)\n"
      ],
      "execution_count": 0,
      "outputs": []
    },
    {
      "cell_type": "code",
      "metadata": {
        "id": "55sEkP8QYnsH",
        "colab_type": "code",
        "colab": {
          "base_uri": "https://localhost:8080/",
          "height": 153
        },
        "outputId": "fd314bb7-d639-4555-991a-2e91b61b918b"
      },
      "source": [
        "while True:\n",
        "  # Do some test translations\n",
        "  i = np.random.choice(len(input_texts))\n",
        "  input_seq = encoder_inputs[i:i+1]\n",
        "  translation = decode_sequence(input_seq)\n",
        "  print('-')\n",
        "  print('Input:', input_texts[i])\n",
        "  print('Translation:', translation)\n",
        "\n",
        "  ans = input(\"Continue? [Y/n]\")\n",
        "  if ans and ans.lower().startswith('n'):\n",
        "    break\n"
      ],
      "execution_count": 15,
      "outputs": [
        {
          "output_type": "stream",
          "text": [
            "-\n",
            "Input: Turn off the light, please.\n",
            "Translation: बत्ती बंद करदो, प्लीज़।\n",
            "Continue? [Y/n]Y\n",
            "-\n",
            "Input: Would you speak more slowly, please?\n",
            "Translation: आप थोड़ा धीरे बोल सकते हैं क्या?\n",
            "Continue? [Y/n]N\n"
          ],
          "name": "stdout"
        }
      ]
    },
    {
      "cell_type": "code",
      "metadata": {
        "id": "q-ul_w4cYp3t",
        "colab_type": "code",
        "colab": {}
      },
      "source": [
        ""
      ],
      "execution_count": 0,
      "outputs": []
    }
  ]
}
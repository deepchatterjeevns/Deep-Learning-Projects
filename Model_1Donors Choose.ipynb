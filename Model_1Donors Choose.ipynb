{
  "nbformat": 4,
  "nbformat_minor": 0,
  "metadata": {
    "kernelspec": {
      "name": "python3",
      "display_name": "Python 3"
    },
    "language_info": {
      "codemirror_mode": {
        "name": "ipython",
        "version": 3
      },
      "file_extension": ".py",
      "mimetype": "text/x-python",
      "name": "python",
      "nbconvert_exporter": "python",
      "pygments_lexer": "ipython3",
      "version": "3.6.8"
    },
    "colab": {
      "name": "Model-1.ipynb",
      "version": "0.3.2",
      "provenance": [],
      "collapsed_sections": [],
      "machine_shape": "hm",
      "include_colab_link": true
    },
    "accelerator": "GPU"
  },
  "cells": [
    {
      "cell_type": "markdown",
      "metadata": {
        "id": "view-in-github",
        "colab_type": "text"
      },
      "source": [
        "<a href=\"https://colab.research.google.com/github/pranaya-mathur/Deep-Learning-Projects/blob/master/Model_1Donors%20Choose.ipynb\" target=\"_parent\"><img src=\"https://colab.research.google.com/assets/colab-badge.svg\" alt=\"Open In Colab\"/></a>"
      ]
    },
    {
      "cell_type": "code",
      "metadata": {
        "id": "nk3vh8LJp8R4",
        "colab_type": "code",
        "outputId": "d8e7a693-7418-45e4-ac1e-6e9f64437dd3",
        "colab": {
          "base_uri": "https://localhost:8080/",
          "height": 122
        }
      },
      "source": [
        "from google.colab import drive\n",
        "drive.mount('/content/drive')"
      ],
      "execution_count": 1,
      "outputs": [
        {
          "output_type": "stream",
          "text": [
            "Go to this URL in a browser: https://accounts.google.com/o/oauth2/auth?client_id=947318989803-6bn6qk8qdgf4n4g3pfee6491hc0brc4i.apps.googleusercontent.com&redirect_uri=urn%3Aietf%3Awg%3Aoauth%3A2.0%3Aoob&scope=email%20https%3A%2F%2Fwww.googleapis.com%2Fauth%2Fdocs.test%20https%3A%2F%2Fwww.googleapis.com%2Fauth%2Fdrive%20https%3A%2F%2Fwww.googleapis.com%2Fauth%2Fdrive.photos.readonly%20https%3A%2F%2Fwww.googleapis.com%2Fauth%2Fpeopleapi.readonly&response_type=code\n",
            "\n",
            "Enter your authorization code:\n",
            "··········\n",
            "Mounted at /content/drive\n"
          ],
          "name": "stdout"
        }
      ]
    },
    {
      "cell_type": "code",
      "metadata": {
        "id": "3awcGIT1pmBr",
        "colab_type": "code",
        "colab": {
          "base_uri": "https://localhost:8080/",
          "height": 34
        },
        "outputId": "a0497bb2-5e69-4eb9-acda-2d48219a2a3e"
      },
      "source": [
        "# importing required libraries\n",
        "import warnings\n",
        "warnings.filterwarnings(\"ignore\")\n",
        "import pandas as pd\n",
        "import numpy as np\n",
        "from keras.layers import Input, Embedding, LSTM, Dropout, BatchNormalization, Dense, concatenate, Flatten, Conv1D\n",
        "from keras.preprocessing.text import Tokenizer, one_hot\n",
        "from keras.preprocessing.sequence import pad_sequences\n",
        "from keras.models import Model, load_model\n",
        "from keras import regularizers\n",
        "from keras.optimizers import RMSprop, Adam\n",
        "from keras.callbacks import ModelCheckpoint, EarlyStopping, TensorBoard, ReduceLROnPlateau\n",
        "from sklearn.feature_extraction.text import TfidfVectorizer, CountVectorizer\n",
        "from sklearn.metrics import roc_auc_score\n",
        "import tensorflow as tf\n",
        "import matplotlib.pyplot as plt\n",
        "%matplotlib inline\n",
        "import re\n",
        "from tqdm import tqdm\n",
        "from sklearn.preprocessing import LabelEncoder\n",
        "import seaborn as sns"
      ],
      "execution_count": 2,
      "outputs": [
        {
          "output_type": "stream",
          "text": [
            "Using TensorFlow backend.\n"
          ],
          "name": "stderr"
        }
      ]
    },
    {
      "cell_type": "code",
      "metadata": {
        "id": "TjmbYHh_tp9J",
        "colab_type": "code",
        "outputId": "d5c90d0f-7137-4d2d-df46-9fb65100c6a8",
        "colab": {
          "base_uri": "https://localhost:8080/",
          "height": 513
        }
      },
      "source": [
        "# reading datasets\n",
        "project_data = pd.read_csv(\"drive/My Drive/Donors for AFR Classroom/train_data.csv\")\n",
        "project_data.head()"
      ],
      "execution_count": 3,
      "outputs": [
        {
          "output_type": "execute_result",
          "data": {
            "text/html": [
              "<div>\n",
              "<style scoped>\n",
              "    .dataframe tbody tr th:only-of-type {\n",
              "        vertical-align: middle;\n",
              "    }\n",
              "\n",
              "    .dataframe tbody tr th {\n",
              "        vertical-align: top;\n",
              "    }\n",
              "\n",
              "    .dataframe thead th {\n",
              "        text-align: right;\n",
              "    }\n",
              "</style>\n",
              "<table border=\"1\" class=\"dataframe\">\n",
              "  <thead>\n",
              "    <tr style=\"text-align: right;\">\n",
              "      <th></th>\n",
              "      <th>Unnamed: 0</th>\n",
              "      <th>id</th>\n",
              "      <th>teacher_id</th>\n",
              "      <th>teacher_prefix</th>\n",
              "      <th>school_state</th>\n",
              "      <th>project_submitted_datetime</th>\n",
              "      <th>project_grade_category</th>\n",
              "      <th>project_subject_categories</th>\n",
              "      <th>project_subject_subcategories</th>\n",
              "      <th>project_title</th>\n",
              "      <th>project_essay_1</th>\n",
              "      <th>project_essay_2</th>\n",
              "      <th>project_essay_3</th>\n",
              "      <th>project_essay_4</th>\n",
              "      <th>project_resource_summary</th>\n",
              "      <th>teacher_number_of_previously_posted_projects</th>\n",
              "      <th>project_is_approved</th>\n",
              "    </tr>\n",
              "  </thead>\n",
              "  <tbody>\n",
              "    <tr>\n",
              "      <th>0</th>\n",
              "      <td>160221</td>\n",
              "      <td>p253737</td>\n",
              "      <td>c90749f5d961ff158d4b4d1e7dc665fc</td>\n",
              "      <td>Mrs.</td>\n",
              "      <td>IN</td>\n",
              "      <td>2016-12-05 13:43:57</td>\n",
              "      <td>Grades PreK-2</td>\n",
              "      <td>Literacy &amp; Language</td>\n",
              "      <td>ESL, Literacy</td>\n",
              "      <td>Educational Support for English Learners at Home</td>\n",
              "      <td>My students are English learners that are work...</td>\n",
              "      <td>\\\"The limits of your language are the limits o...</td>\n",
              "      <td>NaN</td>\n",
              "      <td>NaN</td>\n",
              "      <td>My students need opportunities to practice beg...</td>\n",
              "      <td>0</td>\n",
              "      <td>0</td>\n",
              "    </tr>\n",
              "    <tr>\n",
              "      <th>1</th>\n",
              "      <td>140945</td>\n",
              "      <td>p258326</td>\n",
              "      <td>897464ce9ddc600bced1151f324dd63a</td>\n",
              "      <td>Mr.</td>\n",
              "      <td>FL</td>\n",
              "      <td>2016-10-25 09:22:10</td>\n",
              "      <td>Grades 6-8</td>\n",
              "      <td>History &amp; Civics, Health &amp; Sports</td>\n",
              "      <td>Civics &amp; Government, Team Sports</td>\n",
              "      <td>Wanted: Projector for Hungry Learners</td>\n",
              "      <td>Our students arrive to our school eager to lea...</td>\n",
              "      <td>The projector we need for our school is very c...</td>\n",
              "      <td>NaN</td>\n",
              "      <td>NaN</td>\n",
              "      <td>My students need a projector to help with view...</td>\n",
              "      <td>7</td>\n",
              "      <td>1</td>\n",
              "    </tr>\n",
              "    <tr>\n",
              "      <th>2</th>\n",
              "      <td>21895</td>\n",
              "      <td>p182444</td>\n",
              "      <td>3465aaf82da834c0582ebd0ef8040ca0</td>\n",
              "      <td>Ms.</td>\n",
              "      <td>AZ</td>\n",
              "      <td>2016-08-31 12:03:56</td>\n",
              "      <td>Grades 6-8</td>\n",
              "      <td>Health &amp; Sports</td>\n",
              "      <td>Health &amp; Wellness, Team Sports</td>\n",
              "      <td>Soccer Equipment for AWESOME Middle School Stu...</td>\n",
              "      <td>\\r\\n\\\"True champions aren't always the ones th...</td>\n",
              "      <td>The students on the campus come to school know...</td>\n",
              "      <td>NaN</td>\n",
              "      <td>NaN</td>\n",
              "      <td>My students need shine guards, athletic socks,...</td>\n",
              "      <td>1</td>\n",
              "      <td>0</td>\n",
              "    </tr>\n",
              "    <tr>\n",
              "      <th>3</th>\n",
              "      <td>45</td>\n",
              "      <td>p246581</td>\n",
              "      <td>f3cb9bffbba169bef1a77b243e620b60</td>\n",
              "      <td>Mrs.</td>\n",
              "      <td>KY</td>\n",
              "      <td>2016-10-06 21:16:17</td>\n",
              "      <td>Grades PreK-2</td>\n",
              "      <td>Literacy &amp; Language, Math &amp; Science</td>\n",
              "      <td>Literacy, Mathematics</td>\n",
              "      <td>Techie Kindergarteners</td>\n",
              "      <td>I work at a unique school filled with both ESL...</td>\n",
              "      <td>My students live in high poverty conditions wi...</td>\n",
              "      <td>NaN</td>\n",
              "      <td>NaN</td>\n",
              "      <td>My students need to engage in Reading and Math...</td>\n",
              "      <td>4</td>\n",
              "      <td>1</td>\n",
              "    </tr>\n",
              "    <tr>\n",
              "      <th>4</th>\n",
              "      <td>172407</td>\n",
              "      <td>p104768</td>\n",
              "      <td>be1f7507a41f8479dc06f047086a39ec</td>\n",
              "      <td>Mrs.</td>\n",
              "      <td>TX</td>\n",
              "      <td>2016-07-11 01:10:09</td>\n",
              "      <td>Grades PreK-2</td>\n",
              "      <td>Math &amp; Science</td>\n",
              "      <td>Mathematics</td>\n",
              "      <td>Interactive Math Tools</td>\n",
              "      <td>Our second grade classroom next year will be m...</td>\n",
              "      <td>For many students, math is a subject that does...</td>\n",
              "      <td>NaN</td>\n",
              "      <td>NaN</td>\n",
              "      <td>My students need hands on practice in mathemat...</td>\n",
              "      <td>1</td>\n",
              "      <td>1</td>\n",
              "    </tr>\n",
              "  </tbody>\n",
              "</table>\n",
              "</div>"
            ],
            "text/plain": [
              "   Unnamed: 0  ... project_is_approved\n",
              "0      160221  ...                   0\n",
              "1      140945  ...                   1\n",
              "2       21895  ...                   0\n",
              "3          45  ...                   1\n",
              "4      172407  ...                   1\n",
              "\n",
              "[5 rows x 17 columns]"
            ]
          },
          "metadata": {
            "tags": []
          },
          "execution_count": 3
        }
      ]
    },
    {
      "cell_type": "code",
      "metadata": {
        "id": "B9IeX-2eH9HA",
        "colab_type": "code",
        "outputId": "e1ce9695-07d5-44bb-b5e4-ed47512b57da",
        "colab": {
          "base_uri": "https://localhost:8080/",
          "height": 68
        }
      },
      "source": [
        "project_data[\"project_is_approved\"].value_counts()"
      ],
      "execution_count": 4,
      "outputs": [
        {
          "output_type": "execute_result",
          "data": {
            "text/plain": [
              "1    92706\n",
              "0    16542\n",
              "Name: project_is_approved, dtype: int64"
            ]
          },
          "metadata": {
            "tags": []
          },
          "execution_count": 4
        }
      ]
    },
    {
      "cell_type": "code",
      "metadata": {
        "id": "eYdWDSxXw1qg",
        "colab_type": "code",
        "outputId": "570122a0-3b39-42a5-d6e7-f75f4b1224ac",
        "colab": {
          "base_uri": "https://localhost:8080/",
          "height": 204
        }
      },
      "source": [
        "resources = pd.read_csv(\"drive/My Drive/Donors for AFR Classroom/resources.csv\")\n",
        "resources.head()"
      ],
      "execution_count": 5,
      "outputs": [
        {
          "output_type": "execute_result",
          "data": {
            "text/html": [
              "<div>\n",
              "<style scoped>\n",
              "    .dataframe tbody tr th:only-of-type {\n",
              "        vertical-align: middle;\n",
              "    }\n",
              "\n",
              "    .dataframe tbody tr th {\n",
              "        vertical-align: top;\n",
              "    }\n",
              "\n",
              "    .dataframe thead th {\n",
              "        text-align: right;\n",
              "    }\n",
              "</style>\n",
              "<table border=\"1\" class=\"dataframe\">\n",
              "  <thead>\n",
              "    <tr style=\"text-align: right;\">\n",
              "      <th></th>\n",
              "      <th>id</th>\n",
              "      <th>description</th>\n",
              "      <th>quantity</th>\n",
              "      <th>price</th>\n",
              "    </tr>\n",
              "  </thead>\n",
              "  <tbody>\n",
              "    <tr>\n",
              "      <th>0</th>\n",
              "      <td>p233245</td>\n",
              "      <td>LC652 - Lakeshore Double-Space Mobile Drying Rack</td>\n",
              "      <td>1</td>\n",
              "      <td>149.00</td>\n",
              "    </tr>\n",
              "    <tr>\n",
              "      <th>1</th>\n",
              "      <td>p069063</td>\n",
              "      <td>Bouncy Bands for Desks (Blue support pipes)</td>\n",
              "      <td>3</td>\n",
              "      <td>14.95</td>\n",
              "    </tr>\n",
              "    <tr>\n",
              "      <th>2</th>\n",
              "      <td>p069063</td>\n",
              "      <td>Cory Stories: A Kid's Book About Living With Adhd</td>\n",
              "      <td>1</td>\n",
              "      <td>8.45</td>\n",
              "    </tr>\n",
              "    <tr>\n",
              "      <th>3</th>\n",
              "      <td>p069063</td>\n",
              "      <td>Dixon Ticonderoga Wood-Cased #2 HB Pencils, Bo...</td>\n",
              "      <td>2</td>\n",
              "      <td>13.59</td>\n",
              "    </tr>\n",
              "    <tr>\n",
              "      <th>4</th>\n",
              "      <td>p069063</td>\n",
              "      <td>EDUCATIONAL INSIGHTS FLUORESCENT LIGHT FILTERS...</td>\n",
              "      <td>3</td>\n",
              "      <td>24.95</td>\n",
              "    </tr>\n",
              "  </tbody>\n",
              "</table>\n",
              "</div>"
            ],
            "text/plain": [
              "        id                                        description  quantity   price\n",
              "0  p233245  LC652 - Lakeshore Double-Space Mobile Drying Rack         1  149.00\n",
              "1  p069063        Bouncy Bands for Desks (Blue support pipes)         3   14.95\n",
              "2  p069063  Cory Stories: A Kid's Book About Living With Adhd         1    8.45\n",
              "3  p069063  Dixon Ticonderoga Wood-Cased #2 HB Pencils, Bo...         2   13.59\n",
              "4  p069063  EDUCATIONAL INSIGHTS FLUORESCENT LIGHT FILTERS...         3   24.95"
            ]
          },
          "metadata": {
            "tags": []
          },
          "execution_count": 5
        }
      ]
    },
    {
      "cell_type": "code",
      "metadata": {
        "id": "xp0MwtmhxbSk",
        "colab_type": "code",
        "colab": {}
      },
      "source": [
        "# We will combine these two datasets based on the id\n",
        "\n",
        "price_data = resources.groupby('id').agg({'price':'sum', 'quantity':'sum'}).reset_index()\n",
        "project_data = pd.merge(project_data, price_data, on='id', how='left')"
      ],
      "execution_count": 0,
      "outputs": []
    },
    {
      "cell_type": "code",
      "metadata": {
        "id": "gtGCwjvZxg-j",
        "colab_type": "code",
        "outputId": "032de916-3a77-46a1-97b0-5319d9599d35",
        "colab": {
          "base_uri": "https://localhost:8080/",
          "height": 442
        }
      },
      "source": [
        "project_data.info()"
      ],
      "execution_count": 0,
      "outputs": [
        {
          "output_type": "stream",
          "text": [
            "<class 'pandas.core.frame.DataFrame'>\n",
            "Int64Index: 109248 entries, 0 to 109247\n",
            "Data columns (total 20 columns):\n",
            "Unnamed: 0                                      109248 non-null int64\n",
            "id                                              109248 non-null object\n",
            "teacher_id                                      109248 non-null object\n",
            "teacher_prefix                                  109245 non-null object\n",
            "school_state                                    109248 non-null object\n",
            "project_submitted_datetime                      109248 non-null object\n",
            "project_grade_category                          109248 non-null object\n",
            "project_subject_categories                      109248 non-null object\n",
            "project_subject_subcategories                   109248 non-null object\n",
            "project_title                                   109248 non-null object\n",
            "project_essay_1                                 109248 non-null object\n",
            "project_essay_2                                 109248 non-null object\n",
            "project_essay_3                                 3758 non-null object\n",
            "project_essay_4                                 3758 non-null object\n",
            "project_resource_summary                        109248 non-null object\n",
            "teacher_number_of_previously_posted_projects    109248 non-null int64\n",
            "project_is_approved                             109248 non-null int64\n",
            "price                                           109248 non-null float64\n",
            "quantity                                        109248 non-null int64\n",
            "text                                            109248 non-null object\n",
            "dtypes: float64(1), int64(4), object(15)\n",
            "memory usage: 17.5+ MB\n"
          ],
          "name": "stdout"
        }
      ]
    },
    {
      "cell_type": "code",
      "metadata": {
        "id": "NLZnjNEaxlo0",
        "colab_type": "code",
        "colab": {}
      },
      "source": [
        "# It can been seen that there are some emtpy cells both for project_essay_3 and project_essay_4\n",
        "# We will combine all the project essay columns into one single feature\n",
        "\n",
        "project_data[\"text\"] = project_data[\"project_essay_1\"].map(str) +\\\n",
        "                        project_data[\"project_essay_2\"].map(str) + \\\n",
        "                        project_data[\"project_essay_3\"].map(str) + \\\n",
        "                        project_data[\"project_essay_4\"].map(str)\n"
      ],
      "execution_count": 0,
      "outputs": []
    },
    {
      "cell_type": "code",
      "metadata": {
        "id": "Xya3y00Jz_Jd",
        "colab_type": "code",
        "colab": {}
      },
      "source": [
        "project_data = project_data.drop([\"project_essay_1\",\"project_essay_2\",\"project_essay_3\",\"project_essay_4\",\"project_title\"],axis=1)"
      ],
      "execution_count": 0,
      "outputs": []
    },
    {
      "cell_type": "code",
      "metadata": {
        "id": "Hrir4APy3oJz",
        "colab_type": "code",
        "outputId": "7b39fe3d-3fdb-4000-8e67-a6ac5a3a3350",
        "colab": {
          "base_uri": "https://localhost:8080/",
          "height": 68
        }
      },
      "source": [
        "import nltk\n",
        "nltk.download('wordnet')"
      ],
      "execution_count": 9,
      "outputs": [
        {
          "output_type": "stream",
          "text": [
            "[nltk_data] Downloading package wordnet to /root/nltk_data...\n",
            "[nltk_data]   Unzipping corpora/wordnet.zip.\n"
          ],
          "name": "stdout"
        },
        {
          "output_type": "execute_result",
          "data": {
            "text/plain": [
              "True"
            ]
          },
          "metadata": {
            "tags": []
          },
          "execution_count": 9
        }
      ]
    },
    {
      "cell_type": "code",
      "metadata": {
        "id": "cLM1FketyqAq",
        "colab_type": "code",
        "colab": {}
      },
      "source": [
        "# Lemmatization\n",
        "from textblob import Word\n",
        "project_data[\"text\"] = project_data[\"text\"].apply(lambda x: \" \".join([Word(word).lemmatize() for word in x.split()]))"
      ],
      "execution_count": 0,
      "outputs": []
    },
    {
      "cell_type": "code",
      "metadata": {
        "id": "UA-CbyuP0MPs",
        "colab_type": "code",
        "colab": {}
      },
      "source": [
        "# We clean the essay text data\n",
        "# For this task, we have defined some helper functions\n",
        "# The same function and code snippet will be used to clean project title\n",
        "# https://stackoverflow.com/a/47091490/4084039\n",
        "\n",
        "def decontracted(phrase):\n",
        "    # specific\n",
        "    phrase = re.sub(r\"won't\", \"will not\", phrase)\n",
        "    phrase = re.sub(r\"can\\'t\", \"can not\", phrase)\n",
        "\n",
        "    # general\n",
        "    phrase = re.sub(r\"n\\'t\", \" not\", phrase)\n",
        "    phrase = re.sub(r\"\\'re\", \" are\", phrase)\n",
        "    phrase = re.sub(r\"\\'s\", \" is\", phrase)\n",
        "    phrase = re.sub(r\"\\'d\", \" would\", phrase)\n",
        "    phrase = re.sub(r\"\\'ll\", \" will\", phrase)\n",
        "    phrase = re.sub(r\"\\'t\", \" not\", phrase)\n",
        "    phrase = re.sub(r\"\\'ve\", \" have\", phrase)\n",
        "    phrase = re.sub(r\"\\'m\", \" am\", phrase)\n",
        "    return phrase\n",
        "\n",
        "# https://gist.github.com/sebleier/554280\n",
        "\n",
        "stopwords= ['i', 'me', 'my', 'myself', 'we', 'our', 'ours', 'ourselves', 'you', \"you're\", \"you've\",\\\n",
        "            \"you'll\", \"you'd\", 'your', 'yours', 'yourself', 'yourselves', 'he', 'him', 'his', 'himself', \\\n",
        "            'she', \"she's\", 'her', 'hers', 'herself', 'it', \"it's\", 'its', 'itself', 'they', 'them', 'their',\\\n",
        "            'theirs', 'themselves', 'what', 'which', 'who', 'whom', 'this', 'that', \"that'll\", 'these', 'those', \\\n",
        "            'am', 'is', 'are', 'was', 'were', 'be', 'been', 'being', 'have', 'has', 'had', 'having', 'do', 'does', \\\n",
        "            'did', 'doing', 'a', 'an', 'the', 'and', 'but', 'if', 'or', 'because', 'as', 'until', 'while', 'of', \\\n",
        "            'at', 'by', 'for', 'with', 'about', 'against', 'between', 'into', 'through', 'during', 'before', 'after',\\\n",
        "            'above', 'below', 'to', 'from', 'up', 'down', 'in', 'out', 'on', 'off', 'over', 'under', 'again', 'further',\\\n",
        "            'then', 'once', 'here', 'there', 'when', 'where', 'why', 'how', 'all', 'any', 'both', 'each', 'few', 'more',\\\n",
        "            'most', 'other', 'some', 'such', 'only', 'own', 'same', 'so', 'than', 'too', 'very', \\\n",
        "            's', 't', 'can', 'will', 'just', 'don', \"don't\", 'should', \"should've\", 'now', 'd', 'll', 'm', 'o', 're', \\\n",
        "            've', 'y', 'ain', 'aren', \"aren't\", 'couldn', \"couldn't\", 'didn', \"didn't\", 'doesn', \"doesn't\", 'hadn',\\\n",
        "            \"hadn't\", 'hasn', \"hasn't\", 'haven', \"haven't\", 'isn', \"isn't\", 'ma', 'mightn', \"mightn't\", 'mustn',\\\n",
        "            \"mustn't\", 'needn', \"needn't\", 'shan', \"shan't\", 'shouldn', \"shouldn't\", 'wasn', \"wasn't\", 'weren', \"weren't\", \\\n",
        "            'won', \"won't\", 'wouldn', \"wouldn't\"]"
      ],
      "execution_count": 0,
      "outputs": []
    },
    {
      "cell_type": "code",
      "metadata": {
        "id": "bxJwtOzC0jPa",
        "colab_type": "code",
        "outputId": "3da75049-f602-47c5-dbe9-9dd7f944505d",
        "colab": {
          "base_uri": "https://localhost:8080/",
          "height": 34
        }
      },
      "source": [
        "# Cleaning Text feature\n",
        "preprocessed_text = []\n",
        "# tqdm is for printing the status bar\n",
        "for sentance in tqdm(project_data['text'].values):\n",
        "    sent = decontracted(sentance)\n",
        "    sent = sent.replace('\\\\r', ' ')\n",
        "    sent = sent.replace('\\\\\"', ' ')\n",
        "    sent = sent.replace('\\\\n', ' ')\n",
        "    sent = re.sub('[^A-Za-z0-9]+', ' ', sent)\n",
        "    # https://gist.github.com/sebleier/554280\n",
        "    sent = ' '.join(e for e in sent.split() if e not in stopwords)\n",
        "    preprocessed_text.append(sent.lower().strip())"
      ],
      "execution_count": 12,
      "outputs": [
        {
          "output_type": "stream",
          "text": [
            "100%|██████████| 109248/109248 [01:05<00:00, 1659.21it/s]\n"
          ],
          "name": "stderr"
        }
      ]
    },
    {
      "cell_type": "code",
      "metadata": {
        "id": "swo3lO2H1bYo",
        "colab_type": "code",
        "outputId": "33206892-544d-4253-a99c-4063f55f0c12",
        "colab": {
          "base_uri": "https://localhost:8080/",
          "height": 122
        }
      },
      "source": [
        "preprocessed_text[:5]"
      ],
      "execution_count": 13,
      "outputs": [
        {
          "output_type": "execute_result",
          "data": {
            "text/plain": [
              "['my student english learner working english second third languages we melting pot refugees immigrants native born americans bringing gift language school we 24 language represented english learner program student every level mastery we also 40 country represented family within school each student brings wealth knowledge experience u open eye new cultures beliefs respect the limit language limit world ludwig wittgenstein our english learner strong support system home begs resources many time parent learning read speak english along side children sometimes creates barrier parent able help child learn phonetics letter recognition reading skills by providing dvd players student able continue mastery english language even no one home able assist all family student within level 1 proficiency status offered part program these educational video specially chosen english learner teacher sent home regularly watch the video help child develop early reading skills parents not access dvd player opportunity check dvd player use year the plan use video educational dvd year come el students nannan',\n",
              " 'our student arrive school eager learn they polite generous strive best they know education succeed life help improve life our school focus family low income try give student education deserve while not much student use material given best the projector need school crucial academic improvement students as technology continues grow many resource internet teacher use growth students however school limited resource particularly technology without disadvantage one thing could really help classroom projector with projector not crucial instruction also growth students with projector show presentations documentaries photo historical land sites math problem much with projector make teaching learning easier also targeting different type learner classrooms auditory visual kinesthetic etc nannan',\n",
              " 'true champion not always one win guts by mia hamm this quote best describes student cholla middle school approach playing sports especially girl boy soccer teams the team made 7th 8th grade students not opportunity play organized sport due family financial difficulties i teach title one middle school urban neighborhood 74 student qualify free reduced lunch many come activity sport opportunity poor homes my student love participate sport learn new skill apart team atmosphere my school lack funding meet students need i concerned lack exposure not prepare participating sport team high school by end school year goal provide student opportunity learn variety soccer skills positive quality person actively participates team the student campus come school knowing face uphill battle come participating organized sports the player would thrive field confidence appropriate soccer equipment play soccer best abilities the student experience helpful person part team teach positive supportive encouraging others my student using soccer equipment practice game daily basis learn practice necessary skill develop strong soccer team this experience create opportunity student learn part team positive contribution teammates the student get opportunity learn practice variety soccer skills use skill game access type experience nearly impossible without soccer equipment students player utilize practice game nannan',\n",
              " 'i work unique school filled esl english second language high poverty students our student individual personal struggle would break heart step door would not notice anything positive resilient attitude learning my student love support every aspect learning journey we student all world speaking 77 different language like family every student welcomed open arm regardless come language speak education love universal language classroom plenty my student live high poverty condition limited no access technology ipads provide opportunity learn playing reading math game engage inspire these ipads surely hottest commodity classroom student beg get play educational games i tracking data ipad several educational program help differentiate learning student students also able track progress programs i look forward seeing student grow use ipads nannan',\n",
              " 'our second grade classroom next year made around 25 kids many coming spanish speaking families many receive free reduced priced lunch these inquisitive students often not many educational resource home need these kid curious world excited learn ready find education offer i excited teach push meet exceed expectation for many students math subject doe not pertain life subject stress i believe making math not fun also important lives a typical part day calendar math section time talk calendar weather property day these calendar math journals allow student accountable learning it help paying attention involved time students also expected know count 1 120 understand numbers these chart important resource different math tasks also provide simple task early finishers ie fill chart done assignment nannan']"
            ]
          },
          "metadata": {
            "tags": []
          },
          "execution_count": 13
        }
      ]
    },
    {
      "cell_type": "code",
      "metadata": {
        "id": "LeIzeXlV2ghG",
        "colab_type": "code",
        "colab": {}
      },
      "source": [
        "project_data[\"clean_text\"] = preprocessed_text"
      ],
      "execution_count": 0,
      "outputs": []
    },
    {
      "cell_type": "code",
      "metadata": {
        "id": "R0W9z5l_4ieB",
        "colab_type": "code",
        "outputId": "6a6b9d1e-279c-45d0-bbc9-2cda3a667fe5",
        "colab": {
          "base_uri": "https://localhost:8080/",
          "height": 136
        }
      },
      "source": [
        "project_data.columns"
      ],
      "execution_count": 15,
      "outputs": [
        {
          "output_type": "execute_result",
          "data": {
            "text/plain": [
              "Index(['Unnamed: 0', 'id', 'teacher_id', 'teacher_prefix', 'school_state',\n",
              "       'project_submitted_datetime', 'project_grade_category',\n",
              "       'project_subject_categories', 'project_subject_subcategories',\n",
              "       'project_resource_summary',\n",
              "       'teacher_number_of_previously_posted_projects', 'project_is_approved',\n",
              "       'price', 'quantity', 'text', 'clean_text'],\n",
              "      dtype='object')"
            ]
          },
          "metadata": {
            "tags": []
          },
          "execution_count": 15
        }
      ]
    },
    {
      "cell_type": "code",
      "metadata": {
        "id": "zPfhh_Fg3HuH",
        "colab_type": "code",
        "colab": {}
      },
      "source": [
        "project_data = project_data.drop(['Unnamed: 0', 'id', 'teacher_id',\n",
        "                                  'project_submitted_datetime','text'],axis=1)"
      ],
      "execution_count": 0,
      "outputs": []
    },
    {
      "cell_type": "code",
      "metadata": {
        "id": "6FJLUsFs3i4B",
        "colab_type": "code",
        "outputId": "f6cb1cf3-f0b7-463a-d3ca-d37a4df09189",
        "colab": {
          "base_uri": "https://localhost:8080/",
          "height": 34
        }
      },
      "source": [
        "project_data.shape"
      ],
      "execution_count": 17,
      "outputs": [
        {
          "output_type": "execute_result",
          "data": {
            "text/plain": [
              "(109248, 11)"
            ]
          },
          "metadata": {
            "tags": []
          },
          "execution_count": 17
        }
      ]
    },
    {
      "cell_type": "code",
      "metadata": {
        "id": "gFKL0EhX3kvg",
        "colab_type": "code",
        "outputId": "ffa699d3-9b03-40df-d81b-af43bd312292",
        "colab": {
          "base_uri": "https://localhost:8080/",
          "height": 119
        }
      },
      "source": [
        "project_data[\"clean_text\"][:5]"
      ],
      "execution_count": 18,
      "outputs": [
        {
          "output_type": "execute_result",
          "data": {
            "text/plain": [
              "0    my student english learner working english sec...\n",
              "1    our student arrive school eager learn they pol...\n",
              "2    true champion not always one win guts by mia h...\n",
              "3    i work unique school filled esl english second...\n",
              "4    our second grade classroom next year made arou...\n",
              "Name: clean_text, dtype: object"
            ]
          },
          "metadata": {
            "tags": []
          },
          "execution_count": 18
        }
      ]
    },
    {
      "cell_type": "code",
      "metadata": {
        "id": "W6mAMhPV3xE_",
        "colab_type": "code",
        "colab": {}
      },
      "source": [
        "# we have categorical features also, will do cleaning one by one\n",
        "\n",
        "# https://stackoverflow.com/questions/36383821/pandas-dataframe-apply-function-to-column-strings-based-on-other-column-value\n",
        "project_data['project_grade_category'] = project_data['project_grade_category'].str.replace(' ','_')\n",
        "project_data['project_grade_category'] = project_data['project_grade_category'].str.replace('-','_')\n",
        "project_data['project_grade_category'] = project_data['project_grade_category'].str.lower()\n",
        "\n",
        "\n",
        "project_data['project_subject_categories'] = project_data['project_subject_categories'].str.replace(' The ','')\n",
        "project_data['project_subject_categories'] = project_data['project_subject_categories'].str.replace(' ','')\n",
        "project_data['project_subject_categories'] = project_data['project_subject_categories'].str.replace('&','_')\n",
        "project_data['project_subject_categories'] = project_data['project_subject_categories'].str.replace(',','_')\n",
        "project_data['project_subject_categories'] = project_data['project_subject_categories'].str.lower()\n",
        "\n",
        "\n",
        "project_data['teacher_prefix']=project_data['teacher_prefix'].fillna('Mrs.')\n",
        "project_data['teacher_prefix'] = project_data['teacher_prefix'].str.replace('.','')\n",
        "project_data['teacher_prefix'] = project_data['teacher_prefix'].str.lower()\n",
        "\n",
        "\n",
        "project_data['project_subject_subcategories'] = project_data['project_subject_subcategories'].str.replace(' The ','')\n",
        "project_data['project_subject_subcategories'] = project_data['project_subject_subcategories'].str.replace(' ','')\n",
        "project_data['project_subject_subcategories'] = project_data['project_subject_subcategories'].str.replace('&','_')\n",
        "project_data['project_subject_subcategories'] = project_data['project_subject_subcategories'].str.replace(',','_')\n",
        "project_data['project_subject_subcategories'] = project_data['project_subject_subcategories'].str.lower()\n",
        "\n",
        "project_data['school_state'] = project_data['school_state'].str.lower()"
      ],
      "execution_count": 0,
      "outputs": []
    },
    {
      "cell_type": "code",
      "metadata": {
        "id": "kNtAFtjC6my3",
        "colab_type": "code",
        "outputId": "cd2bc750-295a-49ec-bd47-c1b25b10ea3e",
        "colab": {
          "base_uri": "https://localhost:8080/",
          "height": 615
        }
      },
      "source": [
        "project_data.head()"
      ],
      "execution_count": 20,
      "outputs": [
        {
          "output_type": "execute_result",
          "data": {
            "text/html": [
              "<div>\n",
              "<style scoped>\n",
              "    .dataframe tbody tr th:only-of-type {\n",
              "        vertical-align: middle;\n",
              "    }\n",
              "\n",
              "    .dataframe tbody tr th {\n",
              "        vertical-align: top;\n",
              "    }\n",
              "\n",
              "    .dataframe thead th {\n",
              "        text-align: right;\n",
              "    }\n",
              "</style>\n",
              "<table border=\"1\" class=\"dataframe\">\n",
              "  <thead>\n",
              "    <tr style=\"text-align: right;\">\n",
              "      <th></th>\n",
              "      <th>teacher_prefix</th>\n",
              "      <th>school_state</th>\n",
              "      <th>project_grade_category</th>\n",
              "      <th>project_subject_categories</th>\n",
              "      <th>project_subject_subcategories</th>\n",
              "      <th>project_resource_summary</th>\n",
              "      <th>teacher_number_of_previously_posted_projects</th>\n",
              "      <th>project_is_approved</th>\n",
              "      <th>price</th>\n",
              "      <th>quantity</th>\n",
              "      <th>clean_text</th>\n",
              "    </tr>\n",
              "  </thead>\n",
              "  <tbody>\n",
              "    <tr>\n",
              "      <th>0</th>\n",
              "      <td>mrs</td>\n",
              "      <td>in</td>\n",
              "      <td>grades_prek_2</td>\n",
              "      <td>literacy_language</td>\n",
              "      <td>esl_literacy</td>\n",
              "      <td>My students need opportunities to practice beg...</td>\n",
              "      <td>0</td>\n",
              "      <td>0</td>\n",
              "      <td>154.60</td>\n",
              "      <td>23</td>\n",
              "      <td>my student english learner working english sec...</td>\n",
              "    </tr>\n",
              "    <tr>\n",
              "      <th>1</th>\n",
              "      <td>mr</td>\n",
              "      <td>fl</td>\n",
              "      <td>grades_6_8</td>\n",
              "      <td>history_civics_health_sports</td>\n",
              "      <td>civics_government_teamsports</td>\n",
              "      <td>My students need a projector to help with view...</td>\n",
              "      <td>7</td>\n",
              "      <td>1</td>\n",
              "      <td>299.00</td>\n",
              "      <td>1</td>\n",
              "      <td>our student arrive school eager learn they pol...</td>\n",
              "    </tr>\n",
              "    <tr>\n",
              "      <th>2</th>\n",
              "      <td>ms</td>\n",
              "      <td>az</td>\n",
              "      <td>grades_6_8</td>\n",
              "      <td>health_sports</td>\n",
              "      <td>health_wellness_teamsports</td>\n",
              "      <td>My students need shine guards, athletic socks,...</td>\n",
              "      <td>1</td>\n",
              "      <td>0</td>\n",
              "      <td>516.85</td>\n",
              "      <td>22</td>\n",
              "      <td>true champion not always one win guts by mia h...</td>\n",
              "    </tr>\n",
              "    <tr>\n",
              "      <th>3</th>\n",
              "      <td>mrs</td>\n",
              "      <td>ky</td>\n",
              "      <td>grades_prek_2</td>\n",
              "      <td>literacy_language_math_science</td>\n",
              "      <td>literacy_mathematics</td>\n",
              "      <td>My students need to engage in Reading and Math...</td>\n",
              "      <td>4</td>\n",
              "      <td>1</td>\n",
              "      <td>232.90</td>\n",
              "      <td>4</td>\n",
              "      <td>i work unique school filled esl english second...</td>\n",
              "    </tr>\n",
              "    <tr>\n",
              "      <th>4</th>\n",
              "      <td>mrs</td>\n",
              "      <td>tx</td>\n",
              "      <td>grades_prek_2</td>\n",
              "      <td>math_science</td>\n",
              "      <td>mathematics</td>\n",
              "      <td>My students need hands on practice in mathemat...</td>\n",
              "      <td>1</td>\n",
              "      <td>1</td>\n",
              "      <td>67.98</td>\n",
              "      <td>4</td>\n",
              "      <td>our second grade classroom next year made arou...</td>\n",
              "    </tr>\n",
              "  </tbody>\n",
              "</table>\n",
              "</div>"
            ],
            "text/plain": [
              "  teacher_prefix  ...                                         clean_text\n",
              "0            mrs  ...  my student english learner working english sec...\n",
              "1             mr  ...  our student arrive school eager learn they pol...\n",
              "2             ms  ...  true champion not always one win guts by mia h...\n",
              "3            mrs  ...  i work unique school filled esl english second...\n",
              "4            mrs  ...  our second grade classroom next year made arou...\n",
              "\n",
              "[5 rows x 11 columns]"
            ]
          },
          "metadata": {
            "tags": []
          },
          "execution_count": 20
        }
      ]
    },
    {
      "cell_type": "code",
      "metadata": {
        "id": "tCKf0OvX7Cm1",
        "colab_type": "code",
        "outputId": "51d8e08a-821d-441d-a970-6e6275df2aaa",
        "colab": {
          "base_uri": "https://localhost:8080/",
          "height": 34
        }
      },
      "source": [
        "# we will extract numerical digits from the project resource summary\n",
        "\n",
        "project_summary_numerical = []\n",
        "for sentance in tqdm(project_data['project_resource_summary']):\n",
        "    sent1 = decontracted(sentance)\n",
        "    sent1 = ' '.join(e for e in sent1.split() if e.isdigit())\n",
        "    k=len(sent1)\n",
        "    project_summary_numerical.append(k)\n",
        "\n",
        "project_data[\"project_summary_numerical\"] = project_summary_numerical"
      ],
      "execution_count": 21,
      "outputs": [
        {
          "output_type": "stream",
          "text": [
            "100%|██████████| 109248/109248 [00:01<00:00, 65304.82it/s]\n"
          ],
          "name": "stderr"
        }
      ]
    },
    {
      "cell_type": "code",
      "metadata": {
        "id": "TM26ERqg7unH",
        "colab_type": "code",
        "outputId": "ddaf2905-1b63-40a9-ad8e-decdf70756bc",
        "colab": {
          "base_uri": "https://localhost:8080/",
          "height": 357
        }
      },
      "source": [
        "# downloading pretrained embeddings\n",
        "\n",
        "!wget http://nlp.stanford.edu/data/glove.42B.300d.zip"
      ],
      "execution_count": 22,
      "outputs": [
        {
          "output_type": "stream",
          "text": [
            "--2019-08-04 05:45:37--  http://nlp.stanford.edu/data/glove.42B.300d.zip\n",
            "Resolving nlp.stanford.edu (nlp.stanford.edu)... 171.64.67.140\n",
            "Connecting to nlp.stanford.edu (nlp.stanford.edu)|171.64.67.140|:80... connected.\n",
            "HTTP request sent, awaiting response... 302 Found\n",
            "Location: https://nlp.stanford.edu/data/glove.42B.300d.zip [following]\n",
            "--2019-08-04 05:45:37--  https://nlp.stanford.edu/data/glove.42B.300d.zip\n",
            "Connecting to nlp.stanford.edu (nlp.stanford.edu)|171.64.67.140|:443... connected.\n",
            "HTTP request sent, awaiting response... 301 Moved Permanently\n",
            "Location: http://downloads.cs.stanford.edu/nlp/data/glove.42B.300d.zip [following]\n",
            "--2019-08-04 05:45:37--  http://downloads.cs.stanford.edu/nlp/data/glove.42B.300d.zip\n",
            "Resolving downloads.cs.stanford.edu (downloads.cs.stanford.edu)... 171.64.64.22\n",
            "Connecting to downloads.cs.stanford.edu (downloads.cs.stanford.edu)|171.64.64.22|:80... connected.\n",
            "HTTP request sent, awaiting response... 200 OK\n",
            "Length: 1877800501 (1.7G) [application/zip]\n",
            "Saving to: ‘glove.42B.300d.zip’\n",
            "\n",
            "glove.42B.300d.zip  100%[===================>]   1.75G  38.8MB/s    in 46s     \n",
            "\n",
            "2019-08-04 05:46:24 (38.6 MB/s) - ‘glove.42B.300d.zip’ saved [1877800501/1877800501]\n",
            "\n"
          ],
          "name": "stdout"
        }
      ]
    },
    {
      "cell_type": "code",
      "metadata": {
        "id": "IHSvL0j-Dgad",
        "colab_type": "code",
        "colab": {}
      },
      "source": [
        "# duba nhi jara si shyam to hone do are main khud loot jaaunga mujhe nakam to hone do"
      ],
      "execution_count": 0,
      "outputs": []
    },
    {
      "cell_type": "code",
      "metadata": {
        "id": "5tnP5FMxXrWK",
        "colab_type": "code",
        "colab": {}
      },
      "source": [
        "import zipfile\n",
        "zip_ref = zipfile.ZipFile(\"glove.42B.300d.zip\", 'r')\n",
        "zip_ref.extractall(\"glove\")\n",
        "zip_ref.close()\n"
      ],
      "execution_count": 0,
      "outputs": []
    },
    {
      "cell_type": "code",
      "metadata": {
        "id": "K--yJk_YZUFh",
        "colab_type": "code",
        "outputId": "bc380c5b-f611-4423-f399-794d8507019d",
        "colab": {
          "base_uri": "https://localhost:8080/",
          "height": 615
        }
      },
      "source": [
        "project_data.head()"
      ],
      "execution_count": 24,
      "outputs": [
        {
          "output_type": "execute_result",
          "data": {
            "text/html": [
              "<div>\n",
              "<style scoped>\n",
              "    .dataframe tbody tr th:only-of-type {\n",
              "        vertical-align: middle;\n",
              "    }\n",
              "\n",
              "    .dataframe tbody tr th {\n",
              "        vertical-align: top;\n",
              "    }\n",
              "\n",
              "    .dataframe thead th {\n",
              "        text-align: right;\n",
              "    }\n",
              "</style>\n",
              "<table border=\"1\" class=\"dataframe\">\n",
              "  <thead>\n",
              "    <tr style=\"text-align: right;\">\n",
              "      <th></th>\n",
              "      <th>teacher_prefix</th>\n",
              "      <th>school_state</th>\n",
              "      <th>project_grade_category</th>\n",
              "      <th>project_subject_categories</th>\n",
              "      <th>project_subject_subcategories</th>\n",
              "      <th>project_resource_summary</th>\n",
              "      <th>teacher_number_of_previously_posted_projects</th>\n",
              "      <th>project_is_approved</th>\n",
              "      <th>price</th>\n",
              "      <th>quantity</th>\n",
              "      <th>clean_text</th>\n",
              "      <th>project_summary_numerical</th>\n",
              "    </tr>\n",
              "  </thead>\n",
              "  <tbody>\n",
              "    <tr>\n",
              "      <th>0</th>\n",
              "      <td>mrs</td>\n",
              "      <td>in</td>\n",
              "      <td>grades_prek_2</td>\n",
              "      <td>literacy_language</td>\n",
              "      <td>esl_literacy</td>\n",
              "      <td>My students need opportunities to practice beg...</td>\n",
              "      <td>0</td>\n",
              "      <td>0</td>\n",
              "      <td>154.60</td>\n",
              "      <td>23</td>\n",
              "      <td>my student english learner working english sec...</td>\n",
              "      <td>0</td>\n",
              "    </tr>\n",
              "    <tr>\n",
              "      <th>1</th>\n",
              "      <td>mr</td>\n",
              "      <td>fl</td>\n",
              "      <td>grades_6_8</td>\n",
              "      <td>history_civics_health_sports</td>\n",
              "      <td>civics_government_teamsports</td>\n",
              "      <td>My students need a projector to help with view...</td>\n",
              "      <td>7</td>\n",
              "      <td>1</td>\n",
              "      <td>299.00</td>\n",
              "      <td>1</td>\n",
              "      <td>our student arrive school eager learn they pol...</td>\n",
              "      <td>0</td>\n",
              "    </tr>\n",
              "    <tr>\n",
              "      <th>2</th>\n",
              "      <td>ms</td>\n",
              "      <td>az</td>\n",
              "      <td>grades_6_8</td>\n",
              "      <td>health_sports</td>\n",
              "      <td>health_wellness_teamsports</td>\n",
              "      <td>My students need shine guards, athletic socks,...</td>\n",
              "      <td>1</td>\n",
              "      <td>0</td>\n",
              "      <td>516.85</td>\n",
              "      <td>22</td>\n",
              "      <td>true champion not always one win guts by mia h...</td>\n",
              "      <td>0</td>\n",
              "    </tr>\n",
              "    <tr>\n",
              "      <th>3</th>\n",
              "      <td>mrs</td>\n",
              "      <td>ky</td>\n",
              "      <td>grades_prek_2</td>\n",
              "      <td>literacy_language_math_science</td>\n",
              "      <td>literacy_mathematics</td>\n",
              "      <td>My students need to engage in Reading and Math...</td>\n",
              "      <td>4</td>\n",
              "      <td>1</td>\n",
              "      <td>232.90</td>\n",
              "      <td>4</td>\n",
              "      <td>i work unique school filled esl english second...</td>\n",
              "      <td>0</td>\n",
              "    </tr>\n",
              "    <tr>\n",
              "      <th>4</th>\n",
              "      <td>mrs</td>\n",
              "      <td>tx</td>\n",
              "      <td>grades_prek_2</td>\n",
              "      <td>math_science</td>\n",
              "      <td>mathematics</td>\n",
              "      <td>My students need hands on practice in mathemat...</td>\n",
              "      <td>1</td>\n",
              "      <td>1</td>\n",
              "      <td>67.98</td>\n",
              "      <td>4</td>\n",
              "      <td>our second grade classroom next year made arou...</td>\n",
              "      <td>0</td>\n",
              "    </tr>\n",
              "  </tbody>\n",
              "</table>\n",
              "</div>"
            ],
            "text/plain": [
              "  teacher_prefix  ... project_summary_numerical\n",
              "0            mrs  ...                         0\n",
              "1             mr  ...                         0\n",
              "2             ms  ...                         0\n",
              "3            mrs  ...                         0\n",
              "4            mrs  ...                         0\n",
              "\n",
              "[5 rows x 12 columns]"
            ]
          },
          "metadata": {
            "tags": []
          },
          "execution_count": 24
        }
      ]
    },
    {
      "cell_type": "code",
      "metadata": {
        "id": "H58HmZH0cfBB",
        "colab_type": "code",
        "colab": {}
      },
      "source": [
        "target = project_data[\"project_is_approved\"]\n",
        "features = project_data.drop([\"project_resource_summary\",\"project_is_approved\"],axis=1)"
      ],
      "execution_count": 0,
      "outputs": []
    },
    {
      "cell_type": "code",
      "metadata": {
        "id": "vq3T-0dl8ejK",
        "colab_type": "code",
        "colab": {}
      },
      "source": [
        "# We split our dataset into train,cross-validation and test set\n",
        "from sklearn.model_selection import train_test_split\n",
        "X_train, X_test, y_train, y_test = train_test_split(features, target, test_size=0.20, stratify=target,random_state=123)\n",
        "X_train, X_cv, y_train, y_cv = train_test_split(X_train, y_train, test_size=0.20, stratify=y_train,random_state=123)"
      ],
      "execution_count": 0,
      "outputs": []
    },
    {
      "cell_type": "code",
      "metadata": {
        "id": "jldx7OsJebCq",
        "colab_type": "code",
        "outputId": "9a6bfd85-53e9-45ed-cc07-6c30da24829d",
        "colab": {
          "base_uri": "https://localhost:8080/",
          "height": 564
        }
      },
      "source": [
        "X_train.head()"
      ],
      "execution_count": 0,
      "outputs": [
        {
          "output_type": "execute_result",
          "data": {
            "text/html": [
              "<div>\n",
              "<style scoped>\n",
              "    .dataframe tbody tr th:only-of-type {\n",
              "        vertical-align: middle;\n",
              "    }\n",
              "\n",
              "    .dataframe tbody tr th {\n",
              "        vertical-align: top;\n",
              "    }\n",
              "\n",
              "    .dataframe thead th {\n",
              "        text-align: right;\n",
              "    }\n",
              "</style>\n",
              "<table border=\"1\" class=\"dataframe\">\n",
              "  <thead>\n",
              "    <tr style=\"text-align: right;\">\n",
              "      <th></th>\n",
              "      <th>teacher_prefix</th>\n",
              "      <th>school_state</th>\n",
              "      <th>project_grade_category</th>\n",
              "      <th>project_subject_categories</th>\n",
              "      <th>project_subject_subcategories</th>\n",
              "      <th>teacher_number_of_previously_posted_projects</th>\n",
              "      <th>price</th>\n",
              "      <th>quantity</th>\n",
              "      <th>clean_text</th>\n",
              "      <th>project_summary_numerical</th>\n",
              "    </tr>\n",
              "  </thead>\n",
              "  <tbody>\n",
              "    <tr>\n",
              "      <th>19713</th>\n",
              "      <td>mrs</td>\n",
              "      <td>mi</td>\n",
              "      <td>grades_3_5</td>\n",
              "      <td>music_arts</td>\n",
              "      <td>music</td>\n",
              "      <td>2</td>\n",
              "      <td>39.99</td>\n",
              "      <td>15</td>\n",
              "      <td>as music teacher i see grade throughout week m...</td>\n",
              "      <td>0</td>\n",
              "    </tr>\n",
              "    <tr>\n",
              "      <th>24882</th>\n",
              "      <td>mrs</td>\n",
              "      <td>ca</td>\n",
              "      <td>grades_3_5</td>\n",
              "      <td>literacy_language_math_science</td>\n",
              "      <td>literature_writing_mathematics</td>\n",
              "      <td>0</td>\n",
              "      <td>407.38</td>\n",
              "      <td>6</td>\n",
              "      <td>my student growing 21st century environment ne...</td>\n",
              "      <td>0</td>\n",
              "    </tr>\n",
              "    <tr>\n",
              "      <th>56171</th>\n",
              "      <td>ms</td>\n",
              "      <td>pa</td>\n",
              "      <td>grades_9_12</td>\n",
              "      <td>warmth_care_hunger</td>\n",
              "      <td>warmth_care_hunger</td>\n",
              "      <td>3</td>\n",
              "      <td>150.62</td>\n",
              "      <td>11</td>\n",
              "      <td>the student class member emotional support cla...</td>\n",
              "      <td>0</td>\n",
              "    </tr>\n",
              "    <tr>\n",
              "      <th>28750</th>\n",
              "      <td>mrs</td>\n",
              "      <td>ga</td>\n",
              "      <td>grades_3_5</td>\n",
              "      <td>math_science</td>\n",
              "      <td>mathematics</td>\n",
              "      <td>0</td>\n",
              "      <td>383.08</td>\n",
              "      <td>1</td>\n",
              "      <td>my student special unfortunately student not c...</td>\n",
              "      <td>0</td>\n",
              "    </tr>\n",
              "    <tr>\n",
              "      <th>59581</th>\n",
              "      <td>ms</td>\n",
              "      <td>tx</td>\n",
              "      <td>grades_prek_2</td>\n",
              "      <td>literacy_language_math_science</td>\n",
              "      <td>literacy_mathematics</td>\n",
              "      <td>3</td>\n",
              "      <td>325.00</td>\n",
              "      <td>1</td>\n",
              "      <td>my student active explorer ranging age 3 5 yea...</td>\n",
              "      <td>0</td>\n",
              "    </tr>\n",
              "  </tbody>\n",
              "</table>\n",
              "</div>"
            ],
            "text/plain": [
              "      teacher_prefix  ... project_summary_numerical\n",
              "19713            mrs  ...                         0\n",
              "24882            mrs  ...                         0\n",
              "56171             ms  ...                         0\n",
              "28750            mrs  ...                         0\n",
              "59581             ms  ...                         0\n",
              "\n",
              "[5 rows x 10 columns]"
            ]
          },
          "metadata": {
            "tags": []
          },
          "execution_count": 30
        }
      ]
    },
    {
      "cell_type": "code",
      "metadata": {
        "id": "Fr_8_j-heeFe",
        "colab_type": "code",
        "outputId": "167ea182-beaa-4362-bc12-ef689d824098",
        "colab": {
          "base_uri": "https://localhost:8080/",
          "height": 102
        }
      },
      "source": [
        "print(X_train.shape)\n",
        "print(\"+++++++++++++\")\n",
        "print(X_test.shape)\n",
        "print(\"+++++++++++++\")\n",
        "print(X_cv.shape)"
      ],
      "execution_count": 27,
      "outputs": [
        {
          "output_type": "stream",
          "text": [
            "(69918, 10)\n",
            "+++++++++++++\n",
            "(21850, 10)\n",
            "+++++++++++++\n",
            "(17480, 10)\n"
          ],
          "name": "stdout"
        }
      ]
    },
    {
      "cell_type": "code",
      "metadata": {
        "id": "PDYU7FZSertK",
        "colab_type": "code",
        "outputId": "86d2c2de-4474-4208-a19c-8ea645e3d079",
        "colab": {
          "base_uri": "https://localhost:8080/",
          "height": 34
        }
      },
      "source": [
        "# Preparing Text Data for our Model\n",
        "\n",
        "results = set()\n",
        "project_data['clean_text'].str.lower().str.split().apply(results.update)\n",
        "print(len(results))"
      ],
      "execution_count": 28,
      "outputs": [
        {
          "output_type": "stream",
          "text": [
            "55637\n"
          ],
          "name": "stdout"
        }
      ]
    },
    {
      "cell_type": "code",
      "metadata": {
        "id": "sK_CpzqZ5kJ1",
        "colab_type": "code",
        "colab": {}
      },
      "source": [
        "X_train[\"len_text\"] = X_train[\"clean_text\"].apply(len)\n",
        "X_test[\"len_text\"] = X_test[\"clean_text\"].apply(len)\n",
        "X_cv[\"len_text\"] = X_cv[\"clean_text\"].apply(len)"
      ],
      "execution_count": 0,
      "outputs": []
    },
    {
      "cell_type": "code",
      "metadata": {
        "id": "_C4jhJ056fCR",
        "colab_type": "code",
        "outputId": "f42b6042-83fd-4f6a-b277-e842818dcff1",
        "colab": {
          "base_uri": "https://localhost:8080/",
          "height": 291
        }
      },
      "source": [
        "sns.set()\n",
        "ax = sns.distplot(X_train[\"len_text\"])"
      ],
      "execution_count": 30,
      "outputs": [
        {
          "output_type": "display_data",
          "data": {
            "image/png": "[encoded data removed]",
            "text/plain": [
              "<Figure size 432x288 with 1 Axes>"
            ]
          },
          "metadata": {
            "tags": []
          }
        }
      ]
    },
    {
      "cell_type": "code",
      "metadata": {
        "id": "mEm80fcH7Rd3",
        "colab_type": "code",
        "outputId": "3c528e5b-a291-4f6b-a9ca-42ec66d1f46c",
        "colab": {
          "base_uri": "https://localhost:8080/",
          "height": 291
        }
      },
      "source": [
        "ax = sns.distplot(X_test[\"len_text\"])"
      ],
      "execution_count": 31,
      "outputs": [
        {
          "output_type": "display_data",
          "data": {
            "image/png": "[encoded data removed]",
            "text/plain": [
              "<Figure size 432x288 with 1 Axes>"
            ]
          },
          "metadata": {
            "tags": []
          }
        }
      ]
    },
    {
      "cell_type": "code",
      "metadata": {
        "id": "HvaXGJVX7Wwb",
        "colab_type": "code",
        "outputId": "bbb44a2e-444c-4fc2-851e-1a7f01028d0c",
        "colab": {
          "base_uri": "https://localhost:8080/",
          "height": 291
        }
      },
      "source": [
        "ax = sns.distplot(X_cv[\"len_text\"])"
      ],
      "execution_count": 32,
      "outputs": [
        {
          "output_type": "display_data",
          "data": {
            "image/png": "[encoded data removed]",
            "text/plain": [
              "<Figure size 432x288 with 1 Axes>"
            ]
          },
          "metadata": {
            "tags": []
          }
        }
      ]
    },
    {
      "cell_type": "code",
      "metadata": {
        "id": "WSCXN9rkgSbz",
        "colab_type": "code",
        "colab": {}
      },
      "source": [
        "MAX_SEQUENCE_LENGTH = 520\n",
        "MAX_VOCAB_SIZE = 100000\n",
        "EMBEDDING_DIM = 300\n",
        "# 65703"
      ],
      "execution_count": 0,
      "outputs": []
    },
    {
      "cell_type": "code",
      "metadata": {
        "id": "jsx_9Z7QgUiI",
        "colab_type": "code",
        "outputId": "9c794974-60b1-476d-c0cc-f1c55c8a30b8",
        "colab": {
          "base_uri": "https://localhost:8080/",
          "height": 34
        }
      },
      "source": [
        "word2vec = {}\n",
        "with open(\"glove/glove.42B.300d.txt\") as f:\n",
        "  # is just a space-separated text file in the format:\n",
        "  # word vec[0] vec[1] vec[2] ...\n",
        "  for line in f:\n",
        "    values = line.split()\n",
        "    word = values[0]\n",
        "    vec = np.asarray(values[1:], dtype='float32')\n",
        "    word2vec[word] = vec\n",
        "print('Found %s word vectors.' % len(word2vec))"
      ],
      "execution_count": 34,
      "outputs": [
        {
          "output_type": "stream",
          "text": [
            "Found 1917494 word vectors.\n"
          ],
          "name": "stdout"
        }
      ]
    },
    {
      "cell_type": "code",
      "metadata": {
        "id": "v00aFUdey-n-",
        "colab_type": "code",
        "colab": {}
      },
      "source": [
        "# convert the sentences (strings) into integers\n",
        "tokenizer = Tokenizer(num_words=MAX_VOCAB_SIZE)\n",
        "tokenizer.fit_on_texts(X_train[\"clean_text\"])\n",
        "sequences_train = tokenizer.texts_to_sequences(X_train[\"clean_text\"])\n",
        "sequences_test = tokenizer.texts_to_sequences(X_test[\"clean_text\"])\n",
        "sequences_cv = tokenizer.texts_to_sequences(X_cv[\"clean_text\"])"
      ],
      "execution_count": 0,
      "outputs": []
    },
    {
      "cell_type": "code",
      "metadata": {
        "id": "1OMViT7g16Kd",
        "colab_type": "code",
        "outputId": "351532cd-e8bc-4e68-f776-3f87676603db",
        "colab": {
          "base_uri": "https://localhost:8080/",
          "height": 34
        }
      },
      "source": [
        "# get word -> integer mapping\n",
        "word2idx = tokenizer.word_index\n",
        "print('Found %s unique tokens.' % len(word2idx))"
      ],
      "execution_count": 36,
      "outputs": [
        {
          "output_type": "stream",
          "text": [
            "Found 46883 unique tokens.\n"
          ],
          "name": "stdout"
        }
      ]
    },
    {
      "cell_type": "code",
      "metadata": {
        "id": "JijePoCE2AW8",
        "colab_type": "code",
        "outputId": "bb04efec-6ca8-411d-f992-27ffef307151",
        "colab": {
          "base_uri": "https://localhost:8080/",
          "height": 34
        }
      },
      "source": [
        "encoded_train = pad_sequences(sequences_train,maxlen=MAX_SEQUENCE_LENGTH,padding='post', truncating='post')\n",
        "print('Shape of data tensor:', encoded_train.shape)"
      ],
      "execution_count": 37,
      "outputs": [
        {
          "output_type": "stream",
          "text": [
            "Shape of data tensor: (69918, 520)\n"
          ],
          "name": "stdout"
        }
      ]
    },
    {
      "cell_type": "code",
      "metadata": {
        "id": "IttNtbw0ACy9",
        "colab_type": "code",
        "outputId": "eac28b7a-71b8-43ad-c284-7a7c97e09f00",
        "colab": {
          "base_uri": "https://localhost:8080/",
          "height": 34
        }
      },
      "source": [
        "encoded_test = pad_sequences(sequences_test, maxlen=MAX_SEQUENCE_LENGTH,padding='post', truncating='post')\n",
        "print('Shape of data tensor:', encoded_test.shape)"
      ],
      "execution_count": 38,
      "outputs": [
        {
          "output_type": "stream",
          "text": [
            "Shape of data tensor: (21850, 520)\n"
          ],
          "name": "stdout"
        }
      ]
    },
    {
      "cell_type": "code",
      "metadata": {
        "id": "FVUxhB6lAJNt",
        "colab_type": "code",
        "outputId": "9568bc56-d489-450a-e53f-be4b94515b5a",
        "colab": {
          "base_uri": "https://localhost:8080/",
          "height": 34
        }
      },
      "source": [
        "encoded_cv = pad_sequences(sequences_cv, maxlen=MAX_SEQUENCE_LENGTH,padding='post', truncating='post')\n",
        "print('Shape of data tensor:', encoded_cv.shape)"
      ],
      "execution_count": 39,
      "outputs": [
        {
          "output_type": "stream",
          "text": [
            "Shape of data tensor: (17480, 520)\n"
          ],
          "name": "stdout"
        }
      ]
    },
    {
      "cell_type": "code",
      "metadata": {
        "id": "QU5DQoctAQnW",
        "colab_type": "code",
        "outputId": "53cc5e7b-abe7-47bb-e571-3418fc9682d1",
        "colab": {
          "base_uri": "https://localhost:8080/",
          "height": 136
        }
      },
      "source": [
        "encoded_cv"
      ],
      "execution_count": 40,
      "outputs": [
        {
          "output_type": "execute_result",
          "data": {
            "text/plain": [
              "array([[   4,    1,   59, ...,    0,    0,    0],\n",
              "       [  28,    3,  161, ...,    0,    0,    0],\n",
              "       [  77,  139,   20, ...,    0,    0,    0],\n",
              "       ...,\n",
              "       [  28,   20,  177, ...,    0,    0,    0],\n",
              "       [   4,   75,   36, ...,    0,    0,    0],\n",
              "       [  77,  272, 1634, ...,    0,    0,    0]], dtype=int32)"
            ]
          },
          "metadata": {
            "tags": []
          },
          "execution_count": 40
        }
      ]
    },
    {
      "cell_type": "code",
      "metadata": {
        "id": "OxowM3qXASDK",
        "colab_type": "code",
        "colab": {}
      },
      "source": [
        "num_words = min(MAX_VOCAB_SIZE, len(word2idx) + 1)\n",
        "embedding_matrix = np.zeros((num_words, EMBEDDING_DIM))\n",
        "for word, i in word2idx.items():\n",
        "  if i < MAX_VOCAB_SIZE:\n",
        "    embedding_vector = word2vec.get(word)\n",
        "    if embedding_vector is not None:\n",
        "      # words not found in embedding index will be all zeros.\n",
        "      embedding_matrix[i] = embedding_vector"
      ],
      "execution_count": 0,
      "outputs": []
    },
    {
      "cell_type": "code",
      "metadata": {
        "id": "u3FBqmRM991a",
        "colab_type": "code",
        "outputId": "a9431552-102f-40f2-8470-7e68a241b50c",
        "colab": {
          "base_uri": "https://localhost:8080/",
          "height": 34
        }
      },
      "source": [
        "print(num_words)"
      ],
      "execution_count": 42,
      "outputs": [
        {
          "output_type": "stream",
          "text": [
            "46884\n"
          ],
          "name": "stdout"
        }
      ]
    },
    {
      "cell_type": "code",
      "metadata": {
        "id": "hHr9emDxFc-V",
        "colab_type": "code",
        "outputId": "d3b3e4b1-ec28-47ee-c2c9-630896fb15df",
        "colab": {
          "base_uri": "https://localhost:8080/",
          "height": 34
        }
      },
      "source": [
        "print(embedding_matrix.shape)"
      ],
      "execution_count": 43,
      "outputs": [
        {
          "output_type": "stream",
          "text": [
            "(46884, 300)\n"
          ],
          "name": "stdout"
        }
      ]
    },
    {
      "cell_type": "code",
      "metadata": {
        "id": "1bIBg1EQFhD-",
        "colab_type": "code",
        "colab": {
          "base_uri": "https://localhost:8080/",
          "height": 275
        },
        "outputId": "bb1250f9-7ecd-41dc-9230-5932b5c59cfc"
      },
      "source": [
        "# load pre-trained word embeddings into an Embedding layer\n",
        "# note that we set trainable = False so as to keep the embeddings fixed\n",
        "embedding_layer = Embedding(\n",
        "  num_words,\n",
        "  EMBEDDING_DIM,\n",
        "  weights=[embedding_matrix],\n",
        "  input_length=MAX_SEQUENCE_LENGTH,\n",
        "  trainable=False\n",
        ")\n",
        "input_text = Input(shape=(MAX_SEQUENCE_LENGTH,),name=\"input_text\")\n",
        "x = embedding_layer(input_text)\n",
        "x = LSTM(128, return_sequences=True,dropout=0.3)(x)\n",
        "flatten_1 = Flatten()(x)"
      ],
      "execution_count": 44,
      "outputs": [
        {
          "output_type": "stream",
          "text": [
            "WARNING: Logging before flag parsing goes to stderr.\n",
            "W0804 05:56:49.857504 140401734805376 deprecation_wrapper.py:119] From /usr/local/lib/python3.6/dist-packages/keras/backend/tensorflow_backend.py:74: The name tf.get_default_graph is deprecated. Please use tf.compat.v1.get_default_graph instead.\n",
            "\n",
            "W0804 05:56:49.905482 140401734805376 deprecation_wrapper.py:119] From /usr/local/lib/python3.6/dist-packages/keras/backend/tensorflow_backend.py:517: The name tf.placeholder is deprecated. Please use tf.compat.v1.placeholder instead.\n",
            "\n",
            "W0804 05:56:49.912969 140401734805376 deprecation_wrapper.py:119] From /usr/local/lib/python3.6/dist-packages/keras/backend/tensorflow_backend.py:4138: The name tf.random_uniform is deprecated. Please use tf.random.uniform instead.\n",
            "\n",
            "W0804 05:56:49.925088 140401734805376 deprecation_wrapper.py:119] From /usr/local/lib/python3.6/dist-packages/keras/backend/tensorflow_backend.py:174: The name tf.get_default_session is deprecated. Please use tf.compat.v1.get_default_session instead.\n",
            "\n",
            "W0804 05:56:49.926404 140401734805376 deprecation_wrapper.py:119] From /usr/local/lib/python3.6/dist-packages/keras/backend/tensorflow_backend.py:181: The name tf.ConfigProto is deprecated. Please use tf.compat.v1.ConfigProto instead.\n",
            "\n",
            "W0804 05:56:52.984849 140401734805376 deprecation.py:506] From /usr/local/lib/python3.6/dist-packages/keras/backend/tensorflow_backend.py:3445: calling dropout (from tensorflow.python.ops.nn_ops) with keep_prob is deprecated and will be removed in a future version.\n",
            "Instructions for updating:\n",
            "Please use `rate` instead of `keep_prob`. Rate should be set to `rate = 1 - keep_prob`.\n"
          ],
          "name": "stderr"
        }
      ]
    },
    {
      "cell_type": "code",
      "metadata": {
        "id": "ShcIURM2SvVi",
        "colab_type": "code",
        "outputId": "dcb0431e-aae3-4465-ed9e-2d2eefe778e5",
        "colab": {
          "base_uri": "https://localhost:8080/",
          "height": 102
        }
      },
      "source": [
        "X_train.columns"
      ],
      "execution_count": 45,
      "outputs": [
        {
          "output_type": "execute_result",
          "data": {
            "text/plain": [
              "Index(['teacher_prefix', 'school_state', 'project_grade_category',\n",
              "       'project_subject_categories', 'project_subject_subcategories',\n",
              "       'teacher_number_of_previously_posted_projects', 'price', 'quantity',\n",
              "       'clean_text', 'project_summary_numerical', 'len_text'],\n",
              "      dtype='object')"
            ]
          },
          "metadata": {
            "tags": []
          },
          "execution_count": 45
        }
      ]
    },
    {
      "cell_type": "code",
      "metadata": {
        "id": "5TH6ZUMUF3SS",
        "colab_type": "code",
        "outputId": "14a04498-0929-4869-8937-5d6fe51805e0",
        "colab": {
          "base_uri": "https://localhost:8080/",
          "height": 34
        }
      },
      "source": [
        "# Now will prepare all the remaining categorical features\n",
        "# Teacher Prefix\n",
        "no_of_unique_prefix  = X_train[\"teacher_prefix\"].nunique()\n",
        "embedding_size_prefix = int(min(np.ceil((no_of_unique_prefix)/2), 50 ))\n",
        "print('Unique Categories:', no_of_unique_prefix,'Embedding Size:', embedding_size_prefix)"
      ],
      "execution_count": 46,
      "outputs": [
        {
          "output_type": "stream",
          "text": [
            "Unique Categories: 5 Embedding Size: 3\n"
          ],
          "name": "stdout"
        }
      ]
    },
    {
      "cell_type": "code",
      "metadata": {
        "id": "NIPcSa_uUogC",
        "colab_type": "code",
        "colab": {}
      },
      "source": [
        "# Defining Input and Embedding Layer for the same\n",
        "\n",
        "input_prefix = Input(shape=(1,),name=\"teacher_prefix\")\n",
        "embedding_prefix = Embedding(no_of_unique_prefix,embedding_size_prefix,name=\"emb_pre\",trainable=True)(input_prefix)\n",
        "flatten_2 = Flatten()(embedding_prefix)\n",
        "\n",
        "lb = LabelEncoder()\n",
        "encoder_prefix_train = lb.fit_transform(X_train[\"teacher_prefix\"])\n",
        "encoder_prefix_cv = lb.transform(X_cv[\"teacher_prefix\"])\n",
        "encoder_prefix_test = lb.transform(X_test[\"teacher_prefix\"])"
      ],
      "execution_count": 0,
      "outputs": []
    },
    {
      "cell_type": "code",
      "metadata": {
        "id": "2ZU4OGVFCAFz",
        "colab_type": "code",
        "outputId": "3bc0b9da-93de-4480-f4da-d0fee977bc76",
        "colab": {
          "base_uri": "https://localhost:8080/",
          "height": 68
        }
      },
      "source": [
        "print(encoder_prefix_train)\n",
        "print(type(encoder_prefix_train))\n",
        "print(encoder_prefix_train.shape)"
      ],
      "execution_count": 0,
      "outputs": [
        {
          "output_type": "stream",
          "text": [
            "[2 2 3 ... 2 3 3]\n",
            "<class 'numpy.ndarray'>\n",
            "(69918,)\n"
          ],
          "name": "stdout"
        }
      ]
    },
    {
      "cell_type": "code",
      "metadata": {
        "id": "JlhPUM54Xsxc",
        "colab_type": "code",
        "outputId": "2613dd9e-173f-4acb-dc9b-34e344abcd09",
        "colab": {
          "base_uri": "https://localhost:8080/",
          "height": 34
        }
      },
      "source": [
        "# School State\n",
        "no_of_unique_state  = X_train[\"school_state\"].nunique()\n",
        "embedding_size_state= int(min(np.ceil((no_of_unique_state)/2), 50 ))\n",
        "print('Unique Categories:', no_of_unique_state,'Embedding Size:', embedding_size_state)"
      ],
      "execution_count": 48,
      "outputs": [
        {
          "output_type": "stream",
          "text": [
            "Unique Categories: 51 Embedding Size: 26\n"
          ],
          "name": "stdout"
        }
      ]
    },
    {
      "cell_type": "code",
      "metadata": {
        "id": "Yd1_FQNhX6Ps",
        "colab_type": "code",
        "colab": {}
      },
      "source": [
        "# Defining Input and Embedding Layer for the same\n",
        "\n",
        "input_state = Input(shape=(1,),name=\"school_prefix\")\n",
        "embedding_state = Embedding(no_of_unique_state,embedding_size_state,name=\"emb_state\",trainable=True)(input_state)\n",
        "flatten_3 = Flatten()(embedding_state)\n",
        "\n",
        "\n",
        "encoder_state_train = lb.fit_transform(X_train[\"school_state\"])\n",
        "encoder_state_cv = lb.transform(X_cv[\"school_state\"])\n",
        "encoder_state_test = lb.transform(X_test[\"school_state\"])"
      ],
      "execution_count": 0,
      "outputs": []
    },
    {
      "cell_type": "code",
      "metadata": {
        "id": "Tbq4Ei7vCRw3",
        "colab_type": "code",
        "outputId": "0579eebe-d3d2-41de-e3a9-9c56702f0b32",
        "colab": {
          "base_uri": "https://localhost:8080/",
          "height": 34
        }
      },
      "source": [
        "print(encoder_state_train.shape)"
      ],
      "execution_count": 0,
      "outputs": [
        {
          "output_type": "stream",
          "text": [
            "(69918,)\n"
          ],
          "name": "stdout"
        }
      ]
    },
    {
      "cell_type": "code",
      "metadata": {
        "id": "Eq5moixIYon_",
        "colab_type": "code",
        "outputId": "17132541-2b3d-4a2b-e78e-2e1eaf5c6704",
        "colab": {
          "base_uri": "https://localhost:8080/",
          "height": 34
        }
      },
      "source": [
        "# For project_grade_category\n",
        "no_of_unique_grade  = X_train[\"project_grade_category\"].nunique()\n",
        "embedding_size_grade = int(min(np.ceil((no_of_unique_grade)/2), 50 ))\n",
        "print('Unique Categories:', no_of_unique_grade,'Embedding Size:', embedding_size_grade)\n"
      ],
      "execution_count": 50,
      "outputs": [
        {
          "output_type": "stream",
          "text": [
            "Unique Categories: 4 Embedding Size: 2\n"
          ],
          "name": "stdout"
        }
      ]
    },
    {
      "cell_type": "code",
      "metadata": {
        "id": "1hovVvy4Y7db",
        "colab_type": "code",
        "colab": {}
      },
      "source": [
        "# Defining Input and Embedding Layer for the same\n",
        "\n",
        "input_grade= Input(shape=(1,),name=\"grade_cat\")\n",
        "embedding_grade = Embedding(no_of_unique_grade,embedding_size_grade,name=\"emb_grade\",trainable=True)(input_grade)\n",
        "flatten_4 = Flatten()(embedding_grade)\n",
        "\n",
        "\n",
        "encoder_grade_train = lb.fit_transform(X_train[\"project_grade_category\"])\n",
        "encoder_grade_cv = lb.transform(X_cv[\"project_grade_category\"])\n",
        "encoder_grade_test = lb.transform(X_test[\"project_grade_category\"])"
      ],
      "execution_count": 0,
      "outputs": []
    },
    {
      "cell_type": "code",
      "metadata": {
        "id": "aqyZZ8yrCW_8",
        "colab_type": "code",
        "outputId": "3741ec83-9f4c-4bb6-8115-1252b57c18c9",
        "colab": {
          "base_uri": "https://localhost:8080/",
          "height": 34
        }
      },
      "source": [
        "print(encoder_grade_train.shape)"
      ],
      "execution_count": 0,
      "outputs": [
        {
          "output_type": "stream",
          "text": [
            "(69918,)\n"
          ],
          "name": "stdout"
        }
      ]
    },
    {
      "cell_type": "code",
      "metadata": {
        "id": "GzeSQ8JxZ6AT",
        "colab_type": "code",
        "outputId": "939c3eaa-e346-42b7-e56e-fd877f8d30b3",
        "colab": {
          "base_uri": "https://localhost:8080/",
          "height": 34
        }
      },
      "source": [
        "# For project_subject_categories\n",
        "no_of_unique_subcat  = X_train[\"project_subject_categories\"].nunique()\n",
        "embedding_size_subcat = int(min(np.ceil((no_of_unique_subcat)/2), 50 ))\n",
        "print('Unique Categories:', no_of_unique_subcat,'Embedding Size:', embedding_size_subcat)\n"
      ],
      "execution_count": 52,
      "outputs": [
        {
          "output_type": "stream",
          "text": [
            "Unique Categories: 51 Embedding Size: 26\n"
          ],
          "name": "stdout"
        }
      ]
    },
    {
      "cell_type": "code",
      "metadata": {
        "id": "WY20xsSraP89",
        "colab_type": "code",
        "colab": {}
      },
      "source": [
        "# Defining Input and Embedding Layer for the same\n",
        "\n",
        "input_subcat= Input(shape=(1,),name=\"sub_cat\")\n",
        "embedding_subcat = Embedding(no_of_unique_subcat,embedding_size_subcat,name=\"emb_subcat\",trainable=True)(input_subcat)\n",
        "flatten_5 = Flatten()(embedding_subcat)\n",
        "\n",
        "\n",
        "encoder_subcat_train = lb.fit_transform(X_train[\"project_subject_categories\"])\n",
        "encoder_subcat_cv = lb.transform(X_cv[\"project_subject_categories\"])\n",
        "encoder_subcat_test = lb.transform(X_test[\"project_subject_categories\"])"
      ],
      "execution_count": 0,
      "outputs": []
    },
    {
      "cell_type": "code",
      "metadata": {
        "id": "zuDIypr5CbbZ",
        "colab_type": "code",
        "outputId": "fc84fdec-4e65-4ae1-93f1-9865c5c90ca9",
        "colab": {
          "base_uri": "https://localhost:8080/",
          "height": 34
        }
      },
      "source": [
        "print(encoder_subcat_train.shape)"
      ],
      "execution_count": 0,
      "outputs": [
        {
          "output_type": "stream",
          "text": [
            "(69918,)\n"
          ],
          "name": "stdout"
        }
      ]
    },
    {
      "cell_type": "code",
      "metadata": {
        "id": "IbaQJ9K0apAj",
        "colab_type": "code",
        "outputId": "8e95d3d0-3fa3-4ec4-98b3-d2109cd1b5e0",
        "colab": {
          "base_uri": "https://localhost:8080/",
          "height": 34
        }
      },
      "source": [
        "# For project_subject_subcategories\n",
        "no_of_unique_subcat_1  = X_train[\"project_subject_subcategories\"].nunique()\n",
        "embedding_size_subcat_1 = int(min(np.ceil((no_of_unique_subcat_1)/2), 50 ))\n",
        "print('Unique Categories:', no_of_unique_subcat_1,'Embedding Size:', embedding_size_subcat_1)\n"
      ],
      "execution_count": 54,
      "outputs": [
        {
          "output_type": "stream",
          "text": [
            "Unique Categories: 390 Embedding Size: 50\n"
          ],
          "name": "stdout"
        }
      ]
    },
    {
      "cell_type": "code",
      "metadata": {
        "id": "FqV09xSBbhAF",
        "colab_type": "code",
        "colab": {}
      },
      "source": [
        "# Defining Input and Embedding Layer for the same\n",
        "\n",
        "input_subcat_1= Input(shape=(1,),name=\"sub_cat_1\")\n",
        "embedding_subcat_1 = Embedding(no_of_unique_subcat_1,embedding_size_subcat_1,name=\"emb_subcat_1\",trainable=True)(input_subcat_1)\n",
        "flatten_6 = Flatten()(embedding_subcat_1)\n",
        "\n",
        "\n",
        "# encoder_subcat_1_train = lb.fit_transform(X_train[\"project_subject_subcategories\"])\n",
        "# encoder_subcat_1_cv = lb.transform(X_cv[\"project_subject_subcategories\"])\n",
        "# encoder_subcat_1_test = lb.transform(X_test[\"project_subject_subcategories\"])"
      ],
      "execution_count": 0,
      "outputs": []
    },
    {
      "cell_type": "code",
      "metadata": {
        "id": "4rS_4EfNbxFx",
        "colab_type": "code",
        "colab": {}
      },
      "source": [
        "le = LabelEncoder()\n",
        "le.fit(X_train[\"project_subject_subcategories\"])\n",
        "X_test[\"project_subject_subcategories\"] = X_test[\"project_subject_subcategories\"].map(lambda s: '<unknown>' if s not in le.classes_ else s)\n",
        "X_cv[\"project_subject_subcategories\"] = X_cv[\"project_subject_subcategories\"].map(lambda s: '<unknown>' if s not in le.classes_ else s)\n",
        "le.classes_ = np.append(le.classes_, '<unknown>')\n",
        "encoder_subcat_1_train = le.transform(X_train[\"project_subject_subcategories\"])\n",
        "encoder_subcat_1_test= le.transform(X_test[\"project_subject_subcategories\"])\n",
        "encoder_subcat_1_cv = le.transform(X_cv[\"project_subject_subcategories\"])"
      ],
      "execution_count": 0,
      "outputs": []
    },
    {
      "cell_type": "code",
      "metadata": {
        "id": "40gGh6d7Cj-v",
        "colab_type": "code",
        "outputId": "56aa753c-12d4-4359-fac4-07d562fe2660",
        "colab": {
          "base_uri": "https://localhost:8080/",
          "height": 34
        }
      },
      "source": [
        "print(encoder_subcat_1_train.shape)"
      ],
      "execution_count": 0,
      "outputs": [
        {
          "output_type": "stream",
          "text": [
            "(69918,)\n"
          ],
          "name": "stdout"
        }
      ]
    },
    {
      "cell_type": "code",
      "metadata": {
        "id": "TVp4asnPkL0u",
        "colab_type": "code",
        "colab": {}
      },
      "source": [
        "# Now we will prepare numerical features for our model\n",
        "num_train_1=X_train['project_summary_numerical'].values.reshape(-1, 1)\n",
        "num_train_2=X_train['price'].values.reshape(-1, 1)\n",
        "num_train_3=X_train['quantity'].values.reshape(-1, 1)\n",
        "num_train_4=X_train['teacher_number_of_previously_posted_projects'].values.reshape(-1, 1)\n",
        "\n",
        "num_test_1=X_test['project_summary_numerical'].values.reshape(-1, 1)\n",
        "num_test_2=X_test['price'].values.reshape(-1, 1)\n",
        "num_test_3=X_test['quantity'].values.reshape(-1, 1)\n",
        "num_test_4=X_test['teacher_number_of_previously_posted_projects'].values.reshape(-1, 1)\n",
        "\n",
        "num_cv_1=X_cv['project_summary_numerical'].values.reshape(-1, 1)\n",
        "num_cv_2=X_cv['price'].values.reshape(-1, 1)\n",
        "num_cv_3=X_cv['quantity'].values.reshape(-1, 1)\n",
        "num_cv_4=X_cv['teacher_number_of_previously_posted_projects'].values.reshape(-1, 1)\n",
        "\n",
        "num_train=np.concatenate((num_train_1,num_train_2,num_train_3,num_train_4),axis=1)\n",
        "\n",
        "num_test=np.concatenate((num_test_1,num_test_2,num_test_3,num_test_4),axis=1)\n",
        "\n",
        "num_cv=np.concatenate((num_cv_1,num_cv_2,num_cv_3,num_cv_4),axis=1)\n"
      ],
      "execution_count": 0,
      "outputs": []
    },
    {
      "cell_type": "code",
      "metadata": {
        "id": "GOqjR8r3yy0Y",
        "colab_type": "code",
        "outputId": "fcb1c8f5-9d0e-4d06-ae03-f8e74b411a55",
        "colab": {
          "base_uri": "https://localhost:8080/",
          "height": 34
        }
      },
      "source": [
        "print(num_train.shape)"
      ],
      "execution_count": 0,
      "outputs": [
        {
          "output_type": "stream",
          "text": [
            "(69918, 4)\n"
          ],
          "name": "stdout"
        }
      ]
    },
    {
      "cell_type": "code",
      "metadata": {
        "id": "QduujZU4y3K2",
        "colab_type": "code",
        "colab": {}
      },
      "source": [
        "from sklearn.preprocessing import StandardScaler\n",
        "norm=StandardScaler()\n",
        "norm_train=norm.fit_transform(num_train)\n",
        "norm_test=norm.transform(num_test)\n",
        "norm_cv=norm.transform(num_cv)\n"
      ],
      "execution_count": 0,
      "outputs": []
    },
    {
      "cell_type": "code",
      "metadata": {
        "id": "Ex8zi37_78Wh",
        "colab_type": "code",
        "colab": {}
      },
      "source": [
        "# Defining the Input and Embedding Layer for the same\n",
        "\n",
        "num_feats = Input(shape=(4,),name=\"numerical_features\")\n",
        "num_feats_ = Dense(100,activation=\"relu\",kernel_initializer=\"he_normal\", kernel_regularizer=regularizers.l2(0.001))(num_feats)"
      ],
      "execution_count": 0,
      "outputs": []
    },
    {
      "cell_type": "code",
      "metadata": {
        "id": "pHVn994d8SXa",
        "colab_type": "code",
        "outputId": "b23298a6-b13d-4d08-cdef-7d94865bbc16",
        "colab": {
          "base_uri": "https://localhost:8080/",
          "height": 34
        }
      },
      "source": [
        "print(\"Building Model-1\")\n",
        "x_concatenate = concatenate([flatten_1,flatten_2,flatten_3,flatten_4,flatten_5,flatten_6,num_feats_])\n",
        "x = Dense(128, activation='relu',kernel_initializer=\"he_normal\",kernel_regularizer=regularizers.l2(0.001))(x_concatenate)\n",
        "x=Dropout(0.5)(x)\n",
        "x = Dense(256, activation='relu',kernel_initializer=\"he_normal\",kernel_regularizer=regularizers.l2(0.001))(x)\n",
        "x=Dropout(0.5)(x)\n",
        "x = Dense(64, activation='relu',kernel_initializer=\"he_normal\",kernel_regularizer=regularizers.l2(0.001))(x)\n",
        "output = Dense(2, activation='softmax', name='output')(x)\n",
        "model_1 = Model(inputs=[input_text,input_prefix,input_state,input_grade,\n",
        "                        input_subcat,input_subcat_1,num_feats],outputs=[output])\n",
        "# print(model_1.summary())"
      ],
      "execution_count": 60,
      "outputs": [
        {
          "output_type": "stream",
          "text": [
            "Building Model-1\n"
          ],
          "name": "stdout"
        }
      ]
    },
    {
      "cell_type": "code",
      "metadata": {
        "id": "hF75PpdW9_zF",
        "colab_type": "code",
        "outputId": "251d42b5-cb63-416f-f1e6-8283877be14e",
        "colab": {
          "base_uri": "https://localhost:8080/",
          "height": 627
        }
      },
      "source": [
        "# https://github.com/mmortazavi/EntityEmbedding-Working_Example/blob/master/EntityEmbedding.ipynb\n",
        "from keras.utils import plot_model\n",
        "import pydot_ng as pydot\n",
        "plot_model(model_1, show_shapes=True, show_layer_names=True, to_file='model_1.png')\n",
        "from IPython.display import Image\n",
        "Image(retina=True, filename='model_1.png')"
      ],
      "execution_count": 61,
      "outputs": [
        {
          "output_type": "execute_result",
          "data": {
            "image/png": "[encoded data removed]",
            "text/plain": [
              "<IPython.core.display.Image object>"
            ]
          },
          "metadata": {
            "tags": [],
            "image/png": {
              "width": 1550,
              "height": 590
            }
          },
          "execution_count": 61
        }
      ]
    },
    {
      "cell_type": "code",
      "metadata": {
        "id": "Rgk0wWP--S8X",
        "colab_type": "code",
        "colab": {}
      },
      "source": [
        "train_data_1 = [encoded_train,encoder_prefix_train,encoder_state_train,\n",
        "              encoder_grade_train,encoder_subcat_train,encoder_subcat_1_train,norm_train]\n",
        "test_data_1 = [encoded_test,encoder_prefix_test,encoder_state_test,encoder_grade_test,\n",
        "             encoder_subcat_test,encoder_subcat_1_test,norm_test]\n",
        "cv_data_1 = [encoded_cv,encoder_prefix_cv,encoder_state_cv,encoder_grade_cv,\n",
        "           encoder_subcat_cv,encoder_subcat_1_cv,norm_cv]            "
      ],
      "execution_count": 0,
      "outputs": []
    },
    {
      "cell_type": "code",
      "metadata": {
        "id": "DLZh1U5E--gJ",
        "colab_type": "code",
        "colab": {}
      },
      "source": [
        "checkpoint_1 = ModelCheckpoint(\"model_1.h5\",\n",
        "                             monitor=\"val_loss\",\n",
        "                             mode=\"min\",\n",
        "                             save_best_only = True,\n",
        "                             verbose=1)\n",
        "\n",
        "earlystop_1 = EarlyStopping(monitor = 'val_loss', \n",
        "                            mode=\"min\",\n",
        "                            min_delta = 0, \n",
        "                            patience = 5,\n",
        "                            verbose = 1,\n",
        "                            restore_best_weights = True)\n",
        "\n",
        "# reduce_lr = ReduceLROnPlateau(monitor = 'val_loss', factor = 0.2, patience = 3, verbose = 1, min_delta = 0.0001)\n",
        "\n",
        "tensorboard_1 = TensorBoard(log_dir='graph_1', histogram_freq=0, batch_size=512, write_graph=True, write_grads=False, write_images=False, embeddings_freq=0, embeddings_layer_names=None, embeddings_metadata=None, embeddings_data=None, update_freq='epoch')\n",
        "\n",
        "callbacks_1 = [checkpoint_1,earlystop_1,tensorboard_1]"
      ],
      "execution_count": 0,
      "outputs": []
    },
    {
      "cell_type": "code",
      "metadata": {
        "id": "Zt6qJJ3g24WE",
        "colab_type": "code",
        "colab": {}
      },
      "source": [
        "# Defining Custom ROC-AUC Metrics\n",
        "from sklearn.metrics import roc_auc_score\n",
        "\n",
        "# def auc1(y_true, y_pred):\n",
        "#     if len(np.unique(y_true[:,1])) == 1:\n",
        "#         return 0.5\n",
        "#     else:\n",
        "#         return roc_auc_score(y_true, y_pred)\n",
        "\n",
        "def auroc(y_true, y_pred):\n",
        "    return tf.py_func(roc_auc_score, (y_true, y_pred), tf.double)"
      ],
      "execution_count": 0,
      "outputs": []
    },
    {
      "cell_type": "code",
      "metadata": {
        "id": "VPWQfyrlLDmP",
        "colab_type": "code",
        "colab": {}
      },
      "source": [
        "# clipvalue=(0.5)\n",
        "adam = Adam(lr=0.001, beta_1=0.9, beta_2=0.999, epsilon=None, decay=0.0, amsgrad=False)"
      ],
      "execution_count": 0,
      "outputs": []
    },
    {
      "cell_type": "code",
      "metadata": {
        "id": "qRhZxhpOFdY2",
        "colab_type": "code",
        "colab": {}
      },
      "source": [
        "# class_weight = {0: 10.,\n",
        "#                 1: 1.\n",
        "#                 }"
      ],
      "execution_count": 0,
      "outputs": []
    },
    {
      "cell_type": "code",
      "metadata": {
        "id": "T6brox5y_el3",
        "colab_type": "code",
        "colab": {}
      },
      "source": [
        "model_1.compile(optimizer=adam, loss='categorical_crossentropy', metrics=[auroc])"
      ],
      "execution_count": 0,
      "outputs": []
    },
    {
      "cell_type": "code",
      "metadata": {
        "id": "mSdjBvHCAKYn",
        "colab_type": "code",
        "colab": {}
      },
      "source": [
        "from keras.utils import np_utils\n",
        "Y_train = np_utils.to_categorical(y_train, 2) \n",
        "Y_test = np_utils.to_categorical(y_test, 2)\n",
        "Y_cv = np_utils.to_categorical(y_cv, 2)"
      ],
      "execution_count": 0,
      "outputs": []
    },
    {
      "cell_type": "code",
      "metadata": {
        "id": "5YRcj2vW_6Ig",
        "colab_type": "code",
        "outputId": "091fcc72-7cec-4ac1-f73a-3dad0666b870",
        "colab": {
          "base_uri": "https://localhost:8080/",
          "height": 1000
        }
      },
      "source": [
        "history_1 = model_1.fit(train_data_1,Y_train,batch_size=512,\n",
        "                        epochs=50,validation_data=(cv_data_1,Y_cv),callbacks=callbacks_1)"
      ],
      "execution_count": 70,
      "outputs": [
        {
          "output_type": "stream",
          "text": [
            "W0804 06:01:09.601437 140401734805376 deprecation.py:323] From /usr/local/lib/python3.6/dist-packages/tensorflow/python/ops/math_grad.py:1250: add_dispatch_support.<locals>.wrapper (from tensorflow.python.ops.array_ops) is deprecated and will be removed in a future version.\n",
            "Instructions for updating:\n",
            "Use tf.where in 2.0, which has the same broadcast rule as np.where\n"
          ],
          "name": "stderr"
        },
        {
          "output_type": "stream",
          "text": [
            "Train on 69918 samples, validate on 17480 samples\n"
          ],
          "name": "stdout"
        },
        {
          "output_type": "stream",
          "text": [
            "W0804 06:01:11.705434 140401734805376 deprecation_wrapper.py:119] From /usr/local/lib/python3.6/dist-packages/keras/callbacks.py:850: The name tf.summary.merge_all is deprecated. Please use tf.compat.v1.summary.merge_all instead.\n",
            "\n",
            "W0804 06:01:11.707357 140401734805376 deprecation_wrapper.py:119] From /usr/local/lib/python3.6/dist-packages/keras/callbacks.py:853: The name tf.summary.FileWriter is deprecated. Please use tf.compat.v1.summary.FileWriter instead.\n",
            "\n"
          ],
          "name": "stderr"
        },
        {
          "output_type": "stream",
          "text": [
            "Epoch 1/50\n",
            "69918/69918 [==============================] - 168s 2ms/step - loss: 1.2890 - auroc: 0.6028 - val_loss: 0.9655 - val_auroc: 0.7238\n",
            "\n",
            "Epoch 00001: val_loss improved from inf to 0.96549, saving model to model_1.h5\n",
            "Epoch 2/50\n",
            "69918/69918 [==============================] - 167s 2ms/step - loss: 0.8432 - auroc: 0.7041 - val_loss: 0.7477 - val_auroc: 0.7479\n",
            "\n",
            "Epoch 00002: val_loss improved from 0.96549 to 0.74772, saving model to model_1.h5\n",
            "Epoch 3/50\n",
            "69918/69918 [==============================] - 166s 2ms/step - loss: 0.6698 - auroc: 0.7342 - val_loss: 0.6418 - val_auroc: 0.7579\n",
            "\n",
            "Epoch 00003: val_loss improved from 0.74772 to 0.64184, saving model to model_1.h5\n",
            "Epoch 4/50\n",
            "69918/69918 [==============================] - 167s 2ms/step - loss: 0.5721 - auroc: 0.7518 - val_loss: 0.5456 - val_auroc: 0.7664\n",
            "\n",
            "Epoch 00004: val_loss improved from 0.64184 to 0.54565, saving model to model_1.h5\n",
            "Epoch 5/50\n",
            "69918/69918 [==============================] - 167s 2ms/step - loss: 0.5148 - auroc: 0.7651 - val_loss: 0.5008 - val_auroc: 0.7680\n",
            "\n",
            "Epoch 00005: val_loss improved from 0.54565 to 0.50082, saving model to model_1.h5\n",
            "Epoch 6/50\n",
            "69918/69918 [==============================] - 166s 2ms/step - loss: 0.4833 - auroc: 0.7783 - val_loss: 0.4858 - val_auroc: 0.7652\n",
            "\n",
            "Epoch 00006: val_loss improved from 0.50082 to 0.48578, saving model to model_1.h5\n",
            "Epoch 7/50\n",
            "69918/69918 [==============================] - 167s 2ms/step - loss: 0.4619 - auroc: 0.7890 - val_loss: 0.4681 - val_auroc: 0.7675\n",
            "\n",
            "Epoch 00007: val_loss improved from 0.48578 to 0.46811, saving model to model_1.h5\n",
            "Epoch 8/50\n",
            "69918/69918 [==============================] - 165s 2ms/step - loss: 0.4489 - auroc: 0.7988 - val_loss: 0.4602 - val_auroc: 0.7638\n",
            "\n",
            "Epoch 00008: val_loss improved from 0.46811 to 0.46022, saving model to model_1.h5\n",
            "Epoch 9/50\n",
            "69918/69918 [==============================] - 167s 2ms/step - loss: 0.4400 - auroc: 0.8126 - val_loss: 0.4620 - val_auroc: 0.7613\n",
            "\n",
            "Epoch 00009: val_loss did not improve from 0.46022\n",
            "Epoch 10/50\n",
            "69918/69918 [==============================] - 165s 2ms/step - loss: 0.4357 - auroc: 0.8245 - val_loss: 0.4658 - val_auroc: 0.7570\n",
            "\n",
            "Epoch 00010: val_loss did not improve from 0.46022\n",
            "Epoch 11/50\n",
            "69918/69918 [==============================] - 166s 2ms/step - loss: 0.4315 - auroc: 0.8372 - val_loss: 0.4785 - val_auroc: 0.7534\n",
            "\n",
            "Epoch 00011: val_loss did not improve from 0.46022\n",
            "Epoch 12/50\n",
            "69918/69918 [==============================] - 166s 2ms/step - loss: 0.4297 - auroc: 0.8502 - val_loss: 0.4915 - val_auroc: 0.7499\n",
            "\n",
            "Epoch 00012: val_loss did not improve from 0.46022\n",
            "Epoch 13/50\n",
            "69918/69918 [==============================] - 165s 2ms/step - loss: 0.4242 - auroc: 0.8662 - val_loss: 0.5145 - val_auroc: 0.7413\n",
            "\n",
            "Epoch 00013: val_loss did not improve from 0.46022\n",
            "Restoring model weights from the end of the best epoch\n",
            "Epoch 00013: early stopping\n"
          ],
          "name": "stdout"
        }
      ]
    },
    {
      "cell_type": "code",
      "metadata": {
        "id": "RiIcTPvvDFoX",
        "colab_type": "code",
        "colab": {}
      },
      "source": [
        "from keras.models import load_model\n",
        "\n",
        "my_model_1 = load_model(\"model_1.h5\",custom_objects={\"auroc\":auroc})"
      ],
      "execution_count": 0,
      "outputs": []
    },
    {
      "cell_type": "code",
      "metadata": {
        "id": "9xXx1eqEACk8",
        "colab_type": "code",
        "outputId": "cabf113f-1d1a-4daf-d7c0-174a887f6a0c",
        "colab": {
          "base_uri": "https://localhost:8080/",
          "height": 308
        }
      },
      "source": [
        "score_1 = model_1.evaluate(test_data_1, Y_test, verbose=0,batch_size=512) \n",
        "print('Test Loss:', score_1[0]) \n",
        "print('Test ROC-AUC:', score_1[1])\n",
        "\n",
        "plt.plot(history_1.history['auroc'], 'r')\n",
        "plt.plot(history_1.history['val_auroc'], 'b')\n",
        "plt.legend({'Train ROCAUC': 'r', 'Test ROCAUC':'b'})\n",
        "plt.show()"
      ],
      "execution_count": 0,
      "outputs": [
        {
          "output_type": "stream",
          "text": [
            "Test Loss: 0.4474591357347894\n",
            "Test ROC-AUC: 0.7506193423895641\n"
          ],
          "name": "stdout"
        },
        {
          "output_type": "display_data",
          "data": {
            "image/png": "[encoded data removed]",
            "text/plain": [
              "<Figure size 432x288 with 1 Axes>"
            ]
          },
          "metadata": {
            "tags": []
          }
        }
      ]
    }
  ]
}